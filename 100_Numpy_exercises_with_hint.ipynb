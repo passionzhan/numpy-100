{
 "cells": [
  {
   "cell_type": "markdown",
   "metadata": {
    "deletable": true,
    "editable": true
   },
   "source": [
    "# 100 numpy exercises with hint\n",
    "\n",
    "This is a collection of exercises that have been collected in the numpy mailing list, on stack overflow and in the numpy documentation. The goal of this collection is to offer a quick reference for both old and new users but also to provide a set of exercises for those who teach.\n",
    "\n",
    "\n",
    "If you find an error or think you've a better way to solve some of them, feel free to open an issue at <https://github.com/rougier/numpy-100>"
   ]
  },
  {
   "cell_type": "markdown",
   "metadata": {
    "deletable": true,
    "editable": true
   },
   "source": [
    "#### 1. Import the numpy package under the name `np` (★☆☆) \n",
    "(**hint**: import … as …)"
   ]
  },
  {
   "cell_type": "code",
   "execution_count": 2,
   "metadata": {
    "collapsed": true,
    "deletable": true,
    "editable": true
   },
   "outputs": [],
   "source": [
    "import numpy as np"
   ]
  },
  {
   "cell_type": "markdown",
   "metadata": {
    "deletable": true,
    "editable": true
   },
   "source": [
    "#### 2. Print the numpy version and the configuration (★☆☆) \n",
    "(**hint**: np.\\_\\_version\\_\\_, np.show\\_config)"
   ]
  },
  {
   "cell_type": "code",
   "execution_count": 11,
   "metadata": {
    "collapsed": false,
    "deletable": true,
    "editable": true
   },
   "outputs": [
    {
     "name": "stdout",
     "output_type": "stream",
     "text": [
      "1.15.0rc2\n",
      "lapack_mkl_info:\n",
      "    libraries = ['mkl_lapack95_lp64', 'mkl_blas95_lp64', 'mkl_rt']\n",
      "    include_dirs = ['C:/Program Files (x86)/IntelSWTools/compilers_and_libraries_2018/windows/mkl/include']\n",
      "    library_dirs = ['C:/Program Files (x86)/IntelSWTools/compilers_and_libraries_2018/windows/mkl/lib/intel64_win']\n",
      "    define_macros = [('SCIPY_MKL_H', None), ('HAVE_CBLAS', None)]\n",
      "blas_opt_info:\n",
      "    libraries = ['mkl_lapack95_lp64', 'mkl_blas95_lp64', 'mkl_rt']\n",
      "    include_dirs = ['C:/Program Files (x86)/IntelSWTools/compilers_and_libraries_2018/windows/mkl/include']\n",
      "    library_dirs = ['C:/Program Files (x86)/IntelSWTools/compilers_and_libraries_2018/windows/mkl/lib/intel64_win']\n",
      "    define_macros = [('SCIPY_MKL_H', None), ('HAVE_CBLAS', None)]\n",
      "lapack_opt_info:\n",
      "    libraries = ['mkl_lapack95_lp64', 'mkl_blas95_lp64', 'mkl_rt']\n",
      "    include_dirs = ['C:/Program Files (x86)/IntelSWTools/compilers_and_libraries_2018/windows/mkl/include']\n",
      "    library_dirs = ['C:/Program Files (x86)/IntelSWTools/compilers_and_libraries_2018/windows/mkl/lib/intel64_win']\n",
      "    define_macros = [('SCIPY_MKL_H', None), ('HAVE_CBLAS', None)]\n",
      "blas_mkl_info:\n",
      "    libraries = ['mkl_lapack95_lp64', 'mkl_blas95_lp64', 'mkl_rt']\n",
      "    include_dirs = ['C:/Program Files (x86)/IntelSWTools/compilers_and_libraries_2018/windows/mkl/include']\n",
      "    library_dirs = ['C:/Program Files (x86)/IntelSWTools/compilers_and_libraries_2018/windows/mkl/lib/intel64_win']\n",
      "    define_macros = [('SCIPY_MKL_H', None), ('HAVE_CBLAS', None)]\n",
      "None\n"
     ]
    }
   ],
   "source": [
    "print(np.__version__)\n",
    "print(np.show_config())"
   ]
  },
  {
   "cell_type": "raw",
   "metadata": {
    "deletable": true,
    "editable": true
   },
   "source": [
    "#### 3. Create a null vector of size 10 (★☆☆) \n",
    "(**hint**: np.zeros)"
   ]
  },
  {
   "cell_type": "code",
   "execution_count": 13,
   "metadata": {
    "collapsed": false,
    "deletable": true,
    "editable": true
   },
   "outputs": [
    {
     "name": "stdout",
     "output_type": "stream",
     "text": [
      "[0. 0. 0. 0. 0. 0. 0. 0. 0. 0.]\n"
     ]
    }
   ],
   "source": [
    "A = np.zeros(shape=(10,))\n",
    "print(A)"
   ]
  },
  {
   "cell_type": "markdown",
   "metadata": {
    "deletable": true,
    "editable": true
   },
   "source": [
    "#### 4.  How to find the memory size of any array (★☆☆) \n",
    "(**hint**: size, itemsize)"
   ]
  },
  {
   "cell_type": "code",
   "execution_count": 26,
   "metadata": {
    "collapsed": false,
    "deletable": true,
    "editable": true
   },
   "outputs": [
    {
     "name": "stdout",
     "output_type": "stream",
     "text": [
      "10\n",
      "80\n",
      "8\n",
      "float64\n"
     ]
    }
   ],
   "source": [
    "print(np.size(A))\n",
    "print(A.nbytes)\n",
    "print(A.itemsize)\n",
    "print(A.dtype)\n",
    "# itemsize\n",
    "# itemsize(A)\n",
    "# print(np.itemsize(A))"
   ]
  },
  {
   "cell_type": "markdown",
   "metadata": {
    "deletable": true,
    "editable": true
   },
   "source": [
    "#### 5.  How to get the documentation of the numpy add function from the command line? (★☆☆) \n",
    "(**hint**: np.info)"
   ]
  },
  {
   "cell_type": "code",
   "execution_count": 30,
   "metadata": {
    "collapsed": false,
    "deletable": true,
    "editable": true
   },
   "outputs": [
    {
     "name": "stdout",
     "output_type": "stream",
     "text": [
      "     *** Found in numpy ***\n",
      "array(object, dtype=None, copy=True, order='K', subok=False, ndmin=0)\n",
      "\n",
      "Create an array.\n",
      "\n",
      "Parameters\n",
      "----------\n",
      "object : array_like\n",
      "    An array, any object exposing the array interface, an object whose\n",
      "    __array__ method returns an array, or any (nested) sequence.\n",
      "dtype : data-type, optional\n",
      "    The desired data-type for the array.  If not given, then the type will\n",
      "    be determined as the minimum type required to hold the objects in the\n",
      "    sequence.  This argument can only be used to 'upcast' the array.  For\n",
      "    downcasting, use the .astype(t) method.\n",
      "copy : bool, optional\n",
      "    If true (default), then the object is copied.  Otherwise, a copy will\n",
      "    only be made if __array__ returns a copy, if obj is a nested sequence,\n",
      "    or if a copy is needed to satisfy any of the other requirements\n",
      "    (`dtype`, `order`, etc.).\n",
      "order : {'K', 'A', 'C', 'F'}, optional\n",
      "    Specify the memory layout of the array. If object is not an array, the\n",
      "    newly created array will be in C order (row major) unless 'F' is\n",
      "    specified, in which case it will be in Fortran order (column major).\n",
      "    If object is an array the following holds.\n",
      "\n",
      "    ===== ========= ===================================================\n",
      "    order  no copy                     copy=True\n",
      "    ===== ========= ===================================================\n",
      "    'K'   unchanged F & C order preserved, otherwise most similar order\n",
      "    'A'   unchanged F order if input is F and not C, otherwise C order\n",
      "    'C'   C order   C order\n",
      "    'F'   F order   F order\n",
      "    ===== ========= ===================================================\n",
      "\n",
      "    When ``copy=False`` and a copy is made for other reasons, the result is\n",
      "    the same as if ``copy=True``, with some exceptions for `A`, see the\n",
      "    Notes section. The default order is 'K'.\n",
      "subok : bool, optional\n",
      "    If True, then sub-classes will be passed-through, otherwise\n",
      "    the returned array will be forced to be a base-class array (default).\n",
      "ndmin : int, optional\n",
      "    Specifies the minimum number of dimensions that the resulting\n",
      "    array should have.  Ones will be pre-pended to the shape as\n",
      "    needed to meet this requirement.\n",
      "\n",
      "Returns\n",
      "-------\n",
      "out : ndarray\n",
      "    An array object satisfying the specified requirements.\n",
      "\n",
      "See Also\n",
      "--------\n",
      "empty_like : Return an empty array with shape and type of input.\n",
      "ones_like : Return an array of ones with shape and type of input.\n",
      "zeros_like : Return an array of zeros with shape and type of input.\n",
      "full_like : Return a new array with shape of input filled with value.\n",
      "empty : Return a new uninitialized array.\n",
      "ones : Return a new array setting values to one.\n",
      "zeros : Return a new array setting values to zero.\n",
      "full : Return a new array of given shape filled with value.\n",
      "\n",
      "\n",
      "Notes\n",
      "-----\n",
      "When order is 'A' and `object` is an array in neither 'C' nor 'F' order,\n",
      "and a copy is forced by a change in dtype, then the order of the result is\n",
      "not necessarily 'C' as expected. This is likely a bug.\n",
      "\n",
      "Examples\n",
      "--------\n",
      ">>> np.array([1, 2, 3])\n",
      "array([1, 2, 3])\n",
      "\n",
      "Upcasting:\n",
      "\n",
      ">>> np.array([1, 2, 3.0])\n",
      "array([ 1.,  2.,  3.])\n",
      "\n",
      "More than one dimension:\n",
      "\n",
      ">>> np.array([[1, 2], [3, 4]])\n",
      "array([[1, 2],\n",
      "       [3, 4]])\n",
      "\n",
      "Minimum dimensions 2:\n",
      "\n",
      ">>> np.array([1, 2, 3], ndmin=2)\n",
      "array([[1, 2, 3]])\n",
      "\n",
      "Type provided:\n",
      "\n",
      ">>> np.array([1, 2, 3], dtype=complex)\n",
      "array([ 1.+0.j,  2.+0.j,  3.+0.j])\n",
      "\n",
      "Data-type consisting of more than one element:\n",
      "\n",
      ">>> x = np.array([(1,2),(3,4)],dtype=[('a','<i4'),('b','<i4')])\n",
      ">>> x['a']\n",
      "array([1, 3])\n",
      "\n",
      "Creating an array from sub-classes:\n",
      "\n",
      ">>> np.array(np.mat('1 2; 3 4'))\n",
      "array([[1, 2],\n",
      "       [3, 4]])\n",
      "\n",
      ">>> np.array(np.mat('1 2; 3 4'), subok=True)\n",
      "matrix([[1, 2],\n",
      "        [3, 4]])\n",
      "----------------------------------------------------------------------------\n",
      "     *** Found in numpy.ma ***\n",
      " array(data, dtype=None, copy=False, order=None, mask=False, fill_value=None,\n",
      "       keep_mask=True, hard_mask=False, shrink=True, subok=True, ndmin=0)\n",
      "\n",
      "An array class with possibly masked values.\n",
      "\n",
      "Masked values of True exclude the corresponding element from any\n",
      "computation.\n",
      "\n",
      "Construction::\n",
      "\n",
      "  x = MaskedArray(data, mask=nomask, dtype=None, copy=False, subok=True,\n",
      "                  ndmin=0, fill_value=None, keep_mask=True, hard_mask=None,\n",
      "                  shrink=True, order=None)\n",
      "\n",
      "Parameters\n",
      "----------\n",
      "data : array_like\n",
      "    Input data.\n",
      "mask : sequence, optional\n",
      "    Mask. Must be convertible to an array of booleans with the same\n",
      "    shape as `data`. True indicates a masked (i.e. invalid) data.\n",
      "dtype : dtype, optional\n",
      "    Data type of the output.\n",
      "    If `dtype` is None, the type of the data argument (``data.dtype``)\n",
      "    is used. If `dtype` is not None and different from ``data.dtype``,\n",
      "    a copy is performed.\n",
      "copy : bool, optional\n",
      "    Whether to copy the input data (True), or to use a reference instead.\n",
      "    Default is False.\n",
      "subok : bool, optional\n",
      "    Whether to return a subclass of `MaskedArray` if possible (True) or a\n",
      "    plain `MaskedArray`. Default is True.\n",
      "ndmin : int, optional\n",
      "    Minimum number of dimensions. Default is 0.\n",
      "fill_value : scalar, optional\n",
      "    Value used to fill in the masked values when necessary.\n",
      "    If None, a default based on the data-type is used.\n",
      "keep_mask : bool, optional\n",
      "    Whether to combine `mask` with the mask of the input data, if any\n",
      "    (True), or to use only `mask` for the output (False). Default is True.\n",
      "hard_mask : bool, optional\n",
      "    Whether to use a hard mask or not. With a hard mask, masked values\n",
      "    cannot be unmasked. Default is False.\n",
      "shrink : bool, optional\n",
      "    Whether to force compression of an empty mask. Default is True.\n",
      "order : {'C', 'F', 'A'}, optional\n",
      "    Specify the order of the array.  If order is 'C', then the array\n",
      "    will be in C-contiguous order (last-index varies the fastest).\n",
      "    If order is 'F', then the returned array will be in\n",
      "    Fortran-contiguous order (first-index varies the fastest).\n",
      "    If order is 'A' (default), then the returned array may be\n",
      "    in any order (either C-, Fortran-contiguous, or even discontiguous),\n",
      "    unless a copy is required, in which case it will be C-contiguous.\n",
      "----------------------------------------------------------------------------\n",
      "     *** Found in numpy.core.defchararray ***\n",
      " array(obj, itemsize=None, copy=True, unicode=None, order=None)\n",
      "\n",
      "Create a `chararray`.\n",
      "\n",
      ".. note::\n",
      "   This class is provided for numarray backward-compatibility.\n",
      "   New code (not concerned with numarray compatibility) should use\n",
      "   arrays of type `string_` or `unicode_` and use the free functions\n",
      "   in :mod:`numpy.char <numpy.core.defchararray>` for fast\n",
      "   vectorized string operations instead.\n",
      "\n",
      "Versus a regular NumPy array of type `str` or `unicode`, this\n",
      "class adds the following functionality:\n",
      "\n",
      "  1) values automatically have whitespace removed from the end\n",
      "     when indexed\n",
      "\n",
      "  2) comparison operators automatically remove whitespace from the\n",
      "     end when comparing values\n",
      "\n",
      "  3) vectorized string operations are provided as methods\n",
      "     (e.g. `str.endswith`) and infix operators (e.g. ``+, *, %``)\n",
      "\n",
      "Parameters\n",
      "----------\n",
      "obj : array of str or unicode-like\n",
      "\n",
      "itemsize : int, optional\n",
      "    `itemsize` is the number of characters per scalar in the\n",
      "    resulting array.  If `itemsize` is None, and `obj` is an\n",
      "    object array or a Python list, the `itemsize` will be\n",
      "    automatically determined.  If `itemsize` is provided and `obj`\n",
      "    is of type str or unicode, then the `obj` string will be\n",
      "    chunked into `itemsize` pieces.\n",
      "\n",
      "copy : bool, optional\n",
      "    If true (default), then the object is copied.  Otherwise, a copy\n",
      "    will only be made if __array__ returns a copy, if obj is a\n",
      "    nested sequence, or if a copy is needed to satisfy any of the other\n",
      "    requirements (`itemsize`, unicode, `order`, etc.).\n",
      "\n",
      "unicode : bool, optional\n",
      "    When true, the resulting `chararray` can contain Unicode\n",
      "    characters, when false only 8-bit characters.  If unicode is\n",
      "    `None` and `obj` is one of the following:\n",
      "\n",
      "      - a `chararray`,\n",
      "      - an ndarray of type `str` or `unicode`\n",
      "      - a Python str or unicode object,\n",
      "\n",
      "    then the unicode setting of the output array will be\n",
      "    automatically determined.\n",
      "\n",
      "order : {'C', 'F', 'A'}, optional\n",
      "    Specify the order of the array.  If order is 'C' (default), then the\n",
      "    array will be in C-contiguous order (last-index varies the\n",
      "    fastest).  If order is 'F', then the returned array\n",
      "    will be in Fortran-contiguous order (first-index varies the\n",
      "    fastest).  If order is 'A', then the returned array may\n",
      "    be in any order (either C-, Fortran-contiguous, or even\n",
      "    discontiguous).\n",
      "----------------------------------------------------------------------------\n",
      "\n",
      "     *** Repeat reference found in numpy.core *** \n",
      "\n",
      "     *** Repeat reference found in numpy.ctypeslib *** \n",
      "     *** Found in numpy.core.records ***\n",
      " array(obj, dtype=None, shape=None, offset=0, strides=None, formats=None,\n",
      "       names=None, titles=None, aligned=False, byteorder=None, copy=True)\n",
      "\n",
      "Construct a record array from a wide-variety of objects.\n",
      "    \n",
      "----------------------------------------------------------------------------\n",
      "\n",
      "     *** Repeat reference found in numpy.ma.core *** \n",
      "\n",
      "     *** Repeat reference found in numpy.ma.extras *** \n",
      "\n",
      "     *** Repeat reference found in numpy.lib.shape_base *** \n",
      "\n",
      "     *** Repeat reference found in numpy.lib.function_base *** \n",
      "\n",
      "     *** Repeat reference found in numpy.lib.index_tricks *** \n",
      "\n",
      "     *** Repeat reference found in numpy.lib.type_check *** \n",
      "\n",
      "     *** Repeat reference found in numpy.lib.polynomial *** \n",
      "\n",
      "     *** Repeat reference found in numpy.core.numeric *** \n",
      "\n",
      "     *** Repeat reference found in numpy.core.arrayprint *** \n",
      "\n",
      "     *** Repeat reference found in numpy.core.fromnumeric *** \n",
      "\n",
      "     *** Repeat reference found in numpy.core._internal *** \n",
      "\n",
      "     *** Repeat reference found in numpy.core.multiarray *** \n",
      "\n",
      "     *** Repeat reference found in numpy.core.shape_base *** \n",
      "\n",
      "     *** Repeat reference found in numpy.core.numerictypes *** \n",
      "\n",
      "     *** Repeat reference found in numpy.core.getlimits *** \n",
      "\n",
      "     *** Repeat reference found in numpy.fft.fftpack *** \n",
      "\n",
      "     *** Repeat reference found in numpy.linalg.linalg *** \n",
      "\n",
      "     *** Repeat reference found in numpy.testing._private.utils *** \n",
      "\n",
      "     *** Total of 24 references found. ***\n"
     ]
    }
   ],
   "source": [
    "np.info('array')"
   ]
  },
  {
   "cell_type": "markdown",
   "metadata": {
    "deletable": true,
    "editable": true
   },
   "source": [
    "#### 6.  Create a null vector of size 10 but the fifth value which is 1 (★☆☆) \n",
    "(**hint**: array\\[4\\])"
   ]
  },
  {
   "cell_type": "code",
   "execution_count": 34,
   "metadata": {
    "collapsed": false,
    "deletable": true,
    "editable": true
   },
   "outputs": [
    {
     "name": "stdout",
     "output_type": "stream",
     "text": [
      "[0. 0. 0. 0. 1. 0. 0. 0. 0. 0.]\n"
     ]
    }
   ],
   "source": [
    "B = np.zeros(shape=(10,))\n",
    "B[4] = 1.0\n",
    "print(B)"
   ]
  },
  {
   "cell_type": "markdown",
   "metadata": {
    "deletable": true,
    "editable": true
   },
   "source": [
    "#### 7.  Create a vector with values ranging from 10 to 49 (★☆☆) \n",
    "(**hint**: np.arange)"
   ]
  },
  {
   "cell_type": "code",
   "execution_count": 39,
   "metadata": {
    "collapsed": false,
    "deletable": true,
    "editable": true
   },
   "outputs": [
    {
     "name": "stdout",
     "output_type": "stream",
     "text": [
      "[10 11 12 13 14 15 16 17 18 19 20 21 22 23 24 25 26 27 28 29 30 31 32 33\n",
      " 34 35 36 37 38 39 40 41 42 43 44 45 46 47 48]\n",
      "4\n",
      "39\n",
      "     *** Found in numpy ***\n",
      "arange([start,] stop[, step,], dtype=None)\n",
      "\n",
      "Return evenly spaced values within a given interval.\n",
      "\n",
      "Values are generated within the half-open interval ``[start, stop)``\n",
      "(in other words, the interval including `start` but excluding `stop`).\n",
      "For integer arguments the function is equivalent to the Python built-in\n",
      "`range <http://docs.python.org/lib/built-in-funcs.html>`_ function,\n",
      "but returns an ndarray rather than a list.\n",
      "\n",
      "When using a non-integer step, such as 0.1, the results will often not\n",
      "be consistent.  It is better to use ``linspace`` for these cases.\n",
      "\n",
      "Parameters\n",
      "----------\n",
      "start : number, optional\n",
      "    Start of interval.  The interval includes this value.  The default\n",
      "    start value is 0.\n",
      "stop : number\n",
      "    End of interval.  The interval does not include this value, except\n",
      "    in some cases where `step` is not an integer and floating point\n",
      "    round-off affects the length of `out`.\n",
      "step : number, optional\n",
      "    Spacing between values.  For any output `out`, this is the distance\n",
      "    between two adjacent values, ``out[i+1] - out[i]``.  The default\n",
      "    step size is 1.  If `step` is specified as a position argument,\n",
      "    `start` must also be given.\n",
      "dtype : dtype\n",
      "    The type of the output array.  If `dtype` is not given, infer the data\n",
      "    type from the other input arguments.\n",
      "\n",
      "Returns\n",
      "-------\n",
      "arange : ndarray\n",
      "    Array of evenly spaced values.\n",
      "\n",
      "    For floating point arguments, the length of the result is\n",
      "    ``ceil((stop - start)/step)``.  Because of floating point overflow,\n",
      "    this rule may result in the last element of `out` being greater\n",
      "    than `stop`.\n",
      "\n",
      "See Also\n",
      "--------\n",
      "linspace : Evenly spaced numbers with careful handling of endpoints.\n",
      "ogrid: Arrays of evenly spaced numbers in N-dimensions.\n",
      "mgrid: Grid-shaped arrays of evenly spaced numbers in N-dimensions.\n",
      "\n",
      "Examples\n",
      "--------\n",
      ">>> np.arange(3)\n",
      "array([0, 1, 2])\n",
      ">>> np.arange(3.0)\n",
      "array([ 0.,  1.,  2.])\n",
      ">>> np.arange(3,7)\n",
      "array([3, 4, 5, 6])\n",
      ">>> np.arange(3,7,2)\n",
      "array([3, 5])\n",
      "----------------------------------------------------------------------------\n",
      "     *** Found in numpy.ma ***\n",
      "arange([start,] stop[, step,], dtype=None)\n",
      "\n",
      "Return evenly spaced values within a given interval.\n",
      "\n",
      "Values are generated within the half-open interval ``[start, stop)``\n",
      "(in other words, the interval including `start` but excluding `stop`).\n",
      "For integer arguments the function is equivalent to the Python built-in\n",
      "`range <http://docs.python.org/lib/built-in-funcs.html>`_ function,\n",
      "but returns an ndarray rather than a list.\n",
      "\n",
      "When using a non-integer step, such as 0.1, the results will often not\n",
      "be consistent.  It is better to use ``linspace`` for these cases.\n",
      "\n",
      "Parameters\n",
      "----------\n",
      "start : number, optional\n",
      "    Start of interval.  The interval includes this value.  The default\n",
      "    start value is 0.\n",
      "stop : number\n",
      "    End of interval.  The interval does not include this value, except\n",
      "    in some cases where `step` is not an integer and floating point\n",
      "    round-off affects the length of `out`.\n",
      "step : number, optional\n",
      "    Spacing between values.  For any output `out`, this is the distance\n",
      "    between two adjacent values, ``out[i+1] - out[i]``.  The default\n",
      "    step size is 1.  If `step` is specified as a position argument,\n",
      "    `start` must also be given.\n",
      "dtype : dtype\n",
      "    The type of the output array.  If `dtype` is not given, infer the data\n",
      "    type from the other input arguments.\n",
      "\n",
      "Returns\n",
      "-------\n",
      "arange : ndarray\n",
      "    Array of evenly spaced values.\n",
      "\n",
      "    For floating point arguments, the length of the result is\n",
      "    ``ceil((stop - start)/step)``.  Because of floating point overflow,\n",
      "    this rule may result in the last element of `out` being greater\n",
      "    than `stop`.\n",
      "\n",
      "See Also\n",
      "--------\n",
      "linspace : Evenly spaced numbers with careful handling of endpoints.\n",
      "ogrid: Arrays of evenly spaced numbers in N-dimensions.\n",
      "mgrid: Grid-shaped arrays of evenly spaced numbers in N-dimensions.\n",
      "\n",
      "Examples\n",
      "--------\n",
      ">>> np.arange(3)\n",
      "array([0, 1, 2])\n",
      ">>> np.arange(3.0)\n",
      "array([ 0.,  1.,  2.])\n",
      ">>> np.arange(3,7)\n",
      "array([3, 4, 5, 6])\n",
      ">>> np.arange(3,7,2)\n",
      "array([3, 5])\n",
      "----------------------------------------------------------------------------\n",
      "\n",
      "     *** Repeat reference found in numpy.core *** \n",
      "\n",
      "     *** Repeat reference found in numpy.ma.core *** \n",
      "\n",
      "     *** Repeat reference found in numpy.lib.function_base *** \n",
      "\n",
      "     *** Repeat reference found in numpy.lib.index_tricks *** \n",
      "\n",
      "     *** Repeat reference found in numpy.lib.twodim_base *** \n",
      "\n",
      "     *** Repeat reference found in numpy.core.numeric *** \n",
      "\n",
      "     *** Repeat reference found in numpy.core.multiarray *** \n",
      "\n",
      "     *** Repeat reference found in numpy.fft.helper *** \n",
      "\n",
      "     *** Repeat reference found in numpy.testing._private.utils *** \n",
      "\n",
      "     *** Total of 11 references found. ***\n"
     ]
    }
   ],
   "source": [
    "C = np.arange(10,49,1)\n",
    "print(C)\n",
    "print(C.itemsize)\n",
    "print(C.size)\n",
    "np.info('arange')"
   ]
  },
  {
   "cell_type": "markdown",
   "metadata": {
    "deletable": true,
    "editable": true
   },
   "source": [
    "#### 8.  Reverse a vector (first element becomes last) (★☆☆) \n",
    "(**hint**: array\\[::-1\\])"
   ]
  },
  {
   "cell_type": "code",
   "execution_count": 47,
   "metadata": {
    "collapsed": false,
    "deletable": true,
    "editable": true
   },
   "outputs": [
    {
     "name": "stdout",
     "output_type": "stream",
     "text": [
      "[[[ 1.24545939  1.24736595 -0.75737952]\n",
      "  [ 3.2908534   0.27382649 -0.65054965]]\n",
      "\n",
      " [[-0.43155741  0.56908913 -0.78043488]\n",
      "  [-0.84781545  2.15448046  0.23819801]]\n",
      "\n",
      " [[ 1.29511492  1.90166683 -0.45179711]\n",
      "  [-0.14317947 -0.99881942 -0.57876741]]\n",
      "\n",
      " [[-2.68215848  1.13342289 -0.01780418]\n",
      "  [-0.0275603   0.79979279  1.1901257 ]]\n",
      "\n",
      " [[ 0.69326124 -1.02739384 -0.33138523]\n",
      "  [ 0.57527366  0.66535176  1.0932121 ]]\n",
      "\n",
      " [[-3.03257101  0.06110976  0.72016178]\n",
      "  [-0.63731597  0.05045094  0.0737084 ]]\n",
      "\n",
      " [[-0.59658371  0.06345038  1.13013119]\n",
      "  [ 0.57263605  0.61811782 -1.10153237]]\n",
      "\n",
      " [[-0.62423993  0.41504267  2.05188959]\n",
      "  [ 1.7957694   1.13579747  1.13645006]]\n",
      "\n",
      " [[-0.46701734 -0.95838727 -0.79776352]\n",
      "  [ 0.11810018  1.13887866 -1.75132361]]\n",
      "\n",
      " [[ 1.19611054 -1.6209479   0.26388584]\n",
      "  [ 0.02612844 -0.48545635  0.37281679]]]\n",
      "[[[ 1.19611054 -1.6209479   0.26388584]\n",
      "  [ 0.02612844 -0.48545635  0.37281679]]\n",
      "\n",
      " [[-0.62423993  0.41504267  2.05188959]\n",
      "  [ 1.7957694   1.13579747  1.13645006]]\n",
      "\n",
      " [[-3.03257101  0.06110976  0.72016178]\n",
      "  [-0.63731597  0.05045094  0.0737084 ]]\n",
      "\n",
      " [[-2.68215848  1.13342289 -0.01780418]\n",
      "  [-0.0275603   0.79979279  1.1901257 ]]\n",
      "\n",
      " [[-0.43155741  0.56908913 -0.78043488]\n",
      "  [-0.84781545  2.15448046  0.23819801]]]\n"
     ]
    }
   ],
   "source": [
    "D = np.random.randn(10,2,3)\n",
    "print(D)\n",
    "E = D[::-2]\n",
    "print(E)"
   ]
  },
  {
   "cell_type": "markdown",
   "metadata": {
    "deletable": true,
    "editable": true
   },
   "source": [
    "#### 9.  Create a 3x3 matrix with values ranging from 0 to 8 (★☆☆) \n",
    "(**hint**: reshape)"
   ]
  },
  {
   "cell_type": "code",
   "execution_count": 50,
   "metadata": {
    "collapsed": false,
    "deletable": true,
    "editable": true
   },
   "outputs": [
    {
     "name": "stdout",
     "output_type": "stream",
     "text": [
      "[0. 1. 2. 3. 4. 5. 6. 7. 8.]\n",
      "[[0. 1. 2.]\n",
      " [3. 4. 5.]\n",
      " [6. 7. 8.]]\n"
     ]
    }
   ],
   "source": [
    "F =np.arange(9.)\n",
    "print(F)\n",
    "G = F.reshape(3,3)\n",
    "print(G)"
   ]
  },
  {
   "cell_type": "markdown",
   "metadata": {
    "deletable": true,
    "editable": true
   },
   "source": [
    "#### 10. Find indices of non-zero elements from \\[1,2,0,0,4,0\\] (★☆☆) \n",
    "(**hint**: np.nonzero)"
   ]
  },
  {
   "cell_type": "code",
   "execution_count": 71,
   "metadata": {
    "collapsed": false,
    "deletable": true,
    "editable": true
   },
   "outputs": [
    {
     "name": "stdout",
     "output_type": "stream",
     "text": [
      "[[[ 1  2]\n",
      "  [ 0  0]]\n",
      "\n",
      " [[ 4  0]\n",
      "  [ 9  8]]\n",
      "\n",
      " [[ 0  0]\n",
      "  [ 0 12]]]\n",
      "(array([0, 0, 1, 1, 1, 2], dtype=int64), array([0, 0, 0, 1, 1, 1], dtype=int64), array([0, 1, 0, 0, 1, 1], dtype=int64))\n",
      "[[0 0 0]\n",
      " [0 0 1]\n",
      " [1 0 0]\n",
      " [1 1 0]\n",
      " [1 1 1]\n",
      " [2 1 1]]\n",
      "[[[[ 1  2]\n",
      "   [ 0  0]]\n",
      "\n",
      "  [[ 1  2]\n",
      "   [ 0  0]]\n",
      "\n",
      "  [[ 1  2]\n",
      "   [ 0  0]]]\n",
      "\n",
      "\n",
      " [[[ 1  2]\n",
      "   [ 0  0]]\n",
      "\n",
      "  [[ 1  2]\n",
      "   [ 0  0]]\n",
      "\n",
      "  [[ 4  0]\n",
      "   [ 9  8]]]\n",
      "\n",
      "\n",
      " [[[ 4  0]\n",
      "   [ 9  8]]\n",
      "\n",
      "  [[ 1  2]\n",
      "   [ 0  0]]\n",
      "\n",
      "  [[ 1  2]\n",
      "   [ 0  0]]]\n",
      "\n",
      "\n",
      " [[[ 4  0]\n",
      "   [ 9  8]]\n",
      "\n",
      "  [[ 4  0]\n",
      "   [ 9  8]]\n",
      "\n",
      "  [[ 1  2]\n",
      "   [ 0  0]]]\n",
      "\n",
      "\n",
      " [[[ 4  0]\n",
      "   [ 9  8]]\n",
      "\n",
      "  [[ 4  0]\n",
      "   [ 9  8]]\n",
      "\n",
      "  [[ 4  0]\n",
      "   [ 9  8]]]\n",
      "\n",
      "\n",
      " [[[ 0  0]\n",
      "   [ 0 12]]\n",
      "\n",
      "  [[ 4  0]\n",
      "   [ 9  8]]\n",
      "\n",
      "  [[ 4  0]\n",
      "   [ 9  8]]]]\n",
      "     *** Found in numpy ***\n",
      " nonzero(a)\n",
      "\n",
      "Return the indices of the elements that are non-zero.\n",
      "\n",
      "Returns a tuple of arrays, one for each dimension of `a`,\n",
      "containing the indices of the non-zero elements in that\n",
      "dimension. The values in `a` are always tested and returned in\n",
      "row-major, C-style order. The corresponding non-zero\n",
      "values can be obtained with::\n",
      "\n",
      "    a[nonzero(a)]\n",
      "\n",
      "To group the indices by element, rather than dimension, use::\n",
      "\n",
      "    transpose(nonzero(a))\n",
      "\n",
      "The result of this is always a 2-D array, with a row for\n",
      "each non-zero element.\n",
      "\n",
      "Parameters\n",
      "----------\n",
      "a : array_like\n",
      "    Input array.\n",
      "\n",
      "Returns\n",
      "-------\n",
      "tuple_of_arrays : tuple\n",
      "    Indices of elements that are non-zero.\n",
      "\n",
      "See Also\n",
      "--------\n",
      "flatnonzero :\n",
      "    Return indices that are non-zero in the flattened version of the input\n",
      "    array.\n",
      "ndarray.nonzero :\n",
      "    Equivalent ndarray method.\n",
      "count_nonzero :\n",
      "    Counts the number of non-zero elements in the input array.\n",
      "\n",
      "Examples\n",
      "--------\n",
      ">>> x = np.array([[1,0,0], [0,2,0], [1,1,0]])\n",
      ">>> x\n",
      "array([[1, 0, 0],\n",
      "       [0, 2, 0],\n",
      "       [1, 1, 0]])\n",
      ">>> np.nonzero(x)\n",
      "(array([0, 1, 2, 2]), array([0, 1, 0, 1]))\n",
      "\n",
      ">>> x[np.nonzero(x)]\n",
      "array([1, 2, 1, 1])\n",
      ">>> np.transpose(np.nonzero(x))\n",
      "array([[0, 0],\n",
      "       [1, 1],\n",
      "       [2, 0],\n",
      "       [2, 1])\n",
      "\n",
      "A common use for ``nonzero`` is to find the indices of an array, where\n",
      "a condition is True.  Given an array `a`, the condition `a` > 3 is a\n",
      "boolean array and since False is interpreted as 0, np.nonzero(a > 3)\n",
      "yields the indices of the `a` where the condition is true.\n",
      "\n",
      ">>> a = np.array([[1,2,3],[4,5,6],[7,8,9]])\n",
      ">>> a > 3\n",
      "array([[False, False, False],\n",
      "       [ True,  True,  True],\n",
      "       [ True,  True,  True]])\n",
      ">>> np.nonzero(a > 3)\n",
      "(array([1, 1, 1, 2, 2, 2]), array([0, 1, 2, 0, 1, 2]))\n",
      "\n",
      "The ``nonzero`` method of the boolean array can also be called.\n",
      "\n",
      ">>> (a > 3).nonzero()\n",
      "(array([1, 1, 1, 2, 2, 2]), array([0, 1, 2, 0, 1, 2]))\n",
      "----------------------------------------------------------------------------\n",
      "     *** Found in numpy.ma ***\n",
      "nonzero(self)\n",
      "\n",
      "Return the indices of unmasked elements that are not zero.\n",
      "\n",
      "Returns a tuple of arrays, one for each dimension, containing the\n",
      "indices of the non-zero elements in that dimension. The corresponding\n",
      "non-zero values can be obtained with::\n",
      "\n",
      "    a[a.nonzero()]\n",
      "\n",
      "To group the indices by element, rather than dimension, use\n",
      "instead::\n",
      "\n",
      "    np.transpose(a.nonzero())\n",
      "\n",
      "The result of this is always a 2d array, with a row for each non-zero\n",
      "element.\n",
      "\n",
      "Parameters\n",
      "----------\n",
      "None\n",
      "\n",
      "Returns\n",
      "-------\n",
      "tuple_of_arrays : tuple\n",
      "    Indices of elements that are non-zero.\n",
      "\n",
      "See Also\n",
      "--------\n",
      "numpy.nonzero :\n",
      "    Function operating on ndarrays.\n",
      "flatnonzero :\n",
      "    Return indices that are non-zero in the flattened version of the input\n",
      "    array.\n",
      "ndarray.nonzero :\n",
      "    Equivalent ndarray method.\n",
      "count_nonzero :\n",
      "    Counts the number of non-zero elements in the input array.\n",
      "\n",
      "Examples\n",
      "--------\n",
      ">>> import numpy.ma as ma\n",
      ">>> x = ma.array(np.eye(3))\n",
      ">>> x\n",
      "masked_array(data =\n",
      " [[ 1.  0.  0.]\n",
      " [ 0.  1.  0.]\n",
      " [ 0.  0.  1.]],\n",
      "      mask =\n",
      " False,\n",
      "      fill_value=1e+20)\n",
      ">>> x.nonzero()\n",
      "(array([0, 1, 2]), array([0, 1, 2]))\n",
      "\n",
      "Masked elements are ignored.\n",
      "\n",
      ">>> x[1, 1] = ma.masked\n",
      ">>> x\n",
      "masked_array(data =\n",
      " [[1.0 0.0 0.0]\n",
      " [0.0 -- 0.0]\n",
      " [0.0 0.0 1.0]],\n",
      "      mask =\n",
      " [[False False False]\n",
      " [False  True False]\n",
      " [False False False]],\n",
      "      fill_value=1e+20)\n",
      ">>> x.nonzero()\n",
      "(array([0, 2]), array([0, 2]))\n",
      "\n",
      "Indices can also be grouped by element.\n",
      "\n",
      ">>> np.transpose(x.nonzero())\n",
      "array([[0, 0],\n",
      "       [2, 2]])\n",
      "\n",
      "A common use for ``nonzero`` is to find the indices of an array, where\n",
      "a condition is True.  Given an array `a`, the condition `a` > 3 is a\n",
      "boolean array and since False is interpreted as 0, ma.nonzero(a > 3)\n",
      "yields the indices of the `a` where the condition is true.\n",
      "\n",
      ">>> a = ma.array([[1,2,3],[4,5,6],[7,8,9]])\n",
      ">>> a > 3\n",
      "masked_array(data =\n",
      " [[False False False]\n",
      " [ True  True  True]\n",
      " [ True  True  True]],\n",
      "      mask =\n",
      " False,\n",
      "      fill_value=999999)\n",
      ">>> ma.nonzero(a > 3)\n",
      "(array([1, 1, 1, 2, 2, 2]), array([0, 1, 2, 0, 1, 2]))\n",
      "\n",
      "The ``nonzero`` method of the condition array can also be called.\n",
      "\n",
      ">>> (a > 3).nonzero()\n",
      "(array([1, 1, 1, 2, 2, 2]), array([0, 1, 2, 0, 1, 2]))\n",
      "----------------------------------------------------------------------------\n",
      "\n",
      "     *** Repeat reference found in numpy.core *** \n",
      "\n",
      "     *** Repeat reference found in numpy.ma.core *** \n",
      "\n",
      "     *** Repeat reference found in numpy.lib.function_base *** \n",
      "\n",
      "     *** Repeat reference found in numpy.lib.twodim_base *** \n",
      "\n",
      "     *** Repeat reference found in numpy.core.numeric *** \n",
      "\n",
      "     *** Repeat reference found in numpy.core.fromnumeric *** \n",
      "\n",
      "     *** Total of 8 references found. ***\n"
     ]
    }
   ],
   "source": [
    "H = np.array([1,2,0,0,4,0,9,8,0,0,0,12])\n",
    "# H = [1,2,0,0,4,0]\n",
    "H = H.reshape(3,2,2)\n",
    "print(H)\n",
    "idx = np.nonzero(H)\n",
    "HH = H[idx]\n",
    "print(idx)\n",
    "idxx = np.transpose(np.nonzero(H))\n",
    "print(idxx)\n",
    "print(H[idxx])\n",
    "np.info('nonzero')"
   ]
  },
  {
   "cell_type": "markdown",
   "metadata": {
    "deletable": true,
    "editable": true
   },
   "source": [
    "#### 11. Create a 3x3 identity matrix (★☆☆) \n",
    "(**hint**: np.eye)"
   ]
  },
  {
   "cell_type": "code",
   "execution_count": 72,
   "metadata": {
    "collapsed": false,
    "deletable": true,
    "editable": true
   },
   "outputs": [
    {
     "name": "stdout",
     "output_type": "stream",
     "text": [
      "[[1. 0. 0.]\n",
      " [0. 1. 0.]\n",
      " [0. 0. 1.]]\n"
     ]
    }
   ],
   "source": [
    "J = np.eye(3,3)\n",
    "print(J)"
   ]
  },
  {
   "cell_type": "markdown",
   "metadata": {
    "deletable": true,
    "editable": true
   },
   "source": [
    "#### 12. Create a 3x3x3 array with random values (★☆☆) \n",
    "(**hint**: np.random.random)"
   ]
  },
  {
   "cell_type": "code",
   "execution_count": 78,
   "metadata": {
    "collapsed": false,
    "deletable": true,
    "editable": true
   },
   "outputs": [
    {
     "name": "stdout",
     "output_type": "stream",
     "text": [
      "[[[0.49666929 0.68671708 0.69922436]\n",
      "  [0.29019553 0.7036906  0.19758205]\n",
      "  [0.01057367 0.00304161 0.52459939]]\n",
      "\n",
      " [[0.18368503 0.96770791 0.39925511]\n",
      "  [0.84453732 0.49015331 0.93618945]\n",
      "  [0.83870149 0.01767041 0.83089887]]\n",
      "\n",
      " [[0.52937852 0.67076162 0.10120104]\n",
      "  [0.35766572 0.2460791  0.27552611]\n",
      "  [0.96465268 0.35500735 0.69522513]]]\n"
     ]
    }
   ],
   "source": [
    "# np.info('random')\n",
    "J = np.random.random((3,3,3))\n",
    "print(J)"
   ]
  },
  {
   "cell_type": "markdown",
   "metadata": {
    "deletable": true,
    "editable": true
   },
   "source": [
    "#### 13. Create a 10x10 array with random values and find the minimum and maximum values (★☆☆) \n",
    "(**hint**: min, max)"
   ]
  },
  {
   "cell_type": "code",
   "execution_count": 82,
   "metadata": {
    "collapsed": false,
    "deletable": true,
    "editable": true
   },
   "outputs": [
    {
     "name": "stdout",
     "output_type": "stream",
     "text": [
      "[[0.12945044 0.38309604 0.52590873 0.97434897 0.12085074 0.30757591\n",
      "  0.71378504 0.98290917 0.67278073 0.85362462]\n",
      " [0.2126014  0.47458205 0.14256943 0.73767886 0.16631911 0.55762416\n",
      "  0.06733596 0.02462009 0.08547867 0.35828646]\n",
      " [0.29550151 0.13426711 0.2802087  0.44056127 0.82469093 0.32108569\n",
      "  0.23304864 0.11178497 0.14251611 0.4647894 ]\n",
      " [0.76516236 0.41199795 0.83922707 0.92921947 0.02795881 0.20180034\n",
      "  0.30736941 0.64493794 0.36514502 0.35472333]\n",
      " [0.44279506 0.78652542 0.15300285 0.77651999 0.9237936  0.22090346\n",
      "  0.611434   0.23148919 0.55133653 0.85622714]\n",
      " [0.9600085  0.03948223 0.29389975 0.21400058 0.57631164 0.18420015\n",
      "  0.13382193 0.83161316 0.05031244 0.00393913]\n",
      " [0.56781082 0.59090442 0.05149334 0.95695901 0.53493206 0.65546794\n",
      "  0.87634932 0.00347526 0.64362626 0.52218516]\n",
      " [0.45528106 0.21613896 0.06525017 0.15501816 0.81749324 0.15398276\n",
      "  0.9695504  0.26512072 0.74150354 0.17111454]\n",
      " [0.86831676 0.39344648 0.10757879 0.48690593 0.85209637 0.07875173\n",
      "  0.52405916 0.43797466 0.53642602 0.32621047]\n",
      " [0.85587513 0.91304163 0.36064591 0.00306452 0.68692927 0.10883647\n",
      "  0.61814019 0.13667045 0.73295135 0.38554874]]\n",
      "0.0030645176747114977\n",
      "0.9829091740038086\n",
      "     *** Found in numpy ***\n",
      " amin(a, axis=None, out=None, keepdims=<no value>, initial=<no value>)\n",
      "\n",
      "Return the minimum of an array or minimum along an axis.\n",
      "\n",
      "Parameters\n",
      "----------\n",
      "a : array_like\n",
      "    Input data.\n",
      "axis : None or int or tuple of ints, optional\n",
      "    Axis or axes along which to operate.  By default, flattened input is\n",
      "    used.\n",
      "\n",
      "    .. versionadded:: 1.7.0\n",
      "\n",
      "    If this is a tuple of ints, the minimum is selected over multiple axes,\n",
      "    instead of a single axis or all the axes as before.\n",
      "out : ndarray, optional\n",
      "    Alternative output array in which to place the result.  Must\n",
      "    be of the same shape and buffer length as the expected output.\n",
      "    See `doc.ufuncs` (Section \"Output arguments\") for more details.\n",
      "\n",
      "keepdims : bool, optional\n",
      "    If this is set to True, the axes which are reduced are left\n",
      "    in the result as dimensions with size one. With this option,\n",
      "    the result will broadcast correctly against the input array.\n",
      "\n",
      "    If the default value is passed, then `keepdims` will not be\n",
      "    passed through to the `amin` method of sub-classes of\n",
      "    `ndarray`, however any non-default value will be.  If the\n",
      "    sub-class' method does not implement `keepdims` any\n",
      "    exceptions will be raised.\n",
      "\n",
      "initial : scalar, optional\n",
      "    The maximum value of an output element. Must be present to allow\n",
      "    computation on empty slice. See `~numpy.ufunc.reduce` for details.\n",
      "\n",
      "    .. versionadded:: 1.15.0\n",
      "\n",
      "Returns\n",
      "-------\n",
      "amin : ndarray or scalar\n",
      "    Minimum of `a`. If `axis` is None, the result is a scalar value.\n",
      "    If `axis` is given, the result is an array of dimension\n",
      "    ``a.ndim - 1``.\n",
      "\n",
      "See Also\n",
      "--------\n",
      "amax :\n",
      "    The maximum value of an array along a given axis, propagating any NaNs.\n",
      "nanmin :\n",
      "    The minimum value of an array along a given axis, ignoring any NaNs.\n",
      "minimum :\n",
      "    Element-wise minimum of two arrays, propagating any NaNs.\n",
      "fmin :\n",
      "    Element-wise minimum of two arrays, ignoring any NaNs.\n",
      "argmin :\n",
      "    Return the indices of the minimum values.\n",
      "\n",
      "nanmax, maximum, fmax\n",
      "\n",
      "Notes\n",
      "-----\n",
      "NaN values are propagated, that is if at least one item is NaN, the\n",
      "corresponding min value will be NaN as well. To ignore NaN values\n",
      "(MATLAB behavior), please use nanmin.\n",
      "\n",
      "Don't use `amin` for element-wise comparison of 2 arrays; when\n",
      "``a.shape[0]`` is 2, ``minimum(a[0], a[1])`` is faster than\n",
      "``amin(a, axis=0)``.\n",
      "\n",
      "Examples\n",
      "--------\n",
      ">>> a = np.arange(4).reshape((2,2))\n",
      ">>> a\n",
      "array([[0, 1],\n",
      "       [2, 3]])\n",
      ">>> np.amin(a)           # Minimum of the flattened array\n",
      "0\n",
      ">>> np.amin(a, axis=0)   # Minima along the first axis\n",
      "array([0, 1])\n",
      ">>> np.amin(a, axis=1)   # Minima along the second axis\n",
      "array([0, 2])\n",
      "\n",
      ">>> b = np.arange(5, dtype=float)\n",
      ">>> b[2] = np.NaN\n",
      ">>> np.amin(b)\n",
      "nan\n",
      ">>> np.nanmin(b)\n",
      "0.0\n",
      "\n",
      ">>> np.min([[-50], [10]], axis=-1, initial=0)\n",
      "array([-50,   0])\n",
      "\n",
      "Notice that the initial value is used as one of the elements for which the\n",
      "minimum is determined, unlike for the default argument Python's max\n",
      "function, which is only used for empty iterables.\n",
      "\n",
      "Notice that this isn't the same as Python's ``default`` argument.\n",
      "\n",
      ">>> np.min([6], initial=5)\n",
      "5\n",
      ">>> min([6], default=5)\n",
      "6\n",
      "----------------------------------------------------------------------------\n",
      "     *** Found in numpy.ma ***\n",
      " min(obj, axis=None, out=None, fill_value=None, keepdims=<no value>)\n",
      "\n",
      "Return the minimum along a given axis.\n",
      "\n",
      "Parameters\n",
      "----------\n",
      "axis : {None, int}, optional\n",
      "    Axis along which to operate.  By default, ``axis`` is None and the\n",
      "    flattened input is used.\n",
      "out : array_like, optional\n",
      "    Alternative output array in which to place the result.  Must be of\n",
      "    the same shape and buffer length as the expected output.\n",
      "fill_value : {var}, optional\n",
      "    Value used to fill in the masked values.\n",
      "    If None, use the output of `minimum_fill_value`.\n",
      "\n",
      "Returns\n",
      "-------\n",
      "amin : array_like\n",
      "    New array holding the result.\n",
      "    If ``out`` was specified, ``out`` is returned.\n",
      "\n",
      "See Also\n",
      "--------\n",
      "minimum_fill_value\n",
      "    Returns the minimum filling value for a given datatype.\n",
      "----------------------------------------------------------------------------\n",
      "\n",
      "     *** Repeat reference found in numpy.core *** \n",
      "\n",
      "     *** Repeat reference found in numpy.ma.core *** \n",
      "     *** Found in builtins ***\n",
      "min(iterable, *[, default=obj, key=func]) -> value\n",
      "min(arg1, arg2, *args, *[, key=func]) -> value\n",
      "\n",
      "With a single iterable argument, return its smallest item. The\n",
      "default keyword-only argument specifies an object to return if\n",
      "the provided iterable is empty.\n",
      "With two or more arguments, return the smallest argument.\n",
      "----------------------------------------------------------------------------\n",
      "\n",
      "     *** Total of 5 references found. ***\n"
     ]
    }
   ],
   "source": [
    "J = np.random.random((10,10))\n",
    "min_J = np.min(J)\n",
    "max_J = np.max(J)\n",
    "print(J)\n",
    "print(min_J)\n",
    "print(max_J)\n",
    "np.info('min')"
   ]
  },
  {
   "cell_type": "markdown",
   "metadata": {
    "deletable": true,
    "editable": true
   },
   "source": [
    "#### 14. Create a random vector of size 30 and find the mean value (★☆☆) \n",
    "(**hint**: mean)"
   ]
  },
  {
   "cell_type": "code",
   "execution_count": 2,
   "metadata": {
    "collapsed": false,
    "deletable": true,
    "editable": true
   },
   "outputs": [
    {
     "name": "stdout",
     "output_type": "stream",
     "text": [
      "[0.78856313 0.71135176 0.45994173 0.65073661 0.97368083 0.83499845\n",
      " 0.2045889  0.69704546 0.65621602 0.56412159 0.86617115 0.10424023\n",
      " 0.42674869 0.62495071 0.03540168 0.27693673 0.1085654  0.35237917\n",
      " 0.14720857 0.86219931 0.97534184 0.61072669 0.61595796 0.52774585\n",
      " 0.6493766  0.81309016 0.51136545 0.02940042 0.43755658 0.68159692]\n",
      "0.5399401516707386\n"
     ]
    }
   ],
   "source": [
    "import  numpy as np\n",
    "A = np.random.random(30)\n",
    "print(A)\n",
    "print(np.mean(A))"
   ]
  },
  {
   "cell_type": "markdown",
   "metadata": {
    "deletable": true,
    "editable": true
   },
   "source": [
    "#### 15. Create a 2d array with 1 on the border and 0 inside (★☆☆) \n",
    "(**hint**: array\\[1:-1, 1:-1\\])"
   ]
  },
  {
   "cell_type": "code",
   "execution_count": 6,
   "metadata": {
    "collapsed": false,
    "deletable": true,
    "editable": true
   },
   "outputs": [
    {
     "name": "stdout",
     "output_type": "stream",
     "text": [
      "[[1. 1. 1. 1. 1. 1.]\n",
      " [1. 1. 1. 1. 1. 1.]\n",
      " [1. 1. 1. 1. 1. 1.]\n",
      " [1. 1. 1. 1. 1. 1.]]\n",
      "[[1. 1. 1. 1. 1. 1.]\n",
      " [1. 0. 0. 0. 0. 1.]\n",
      " [1. 0. 0. 0. 0. 1.]\n",
      " [1. 1. 1. 1. 1. 1.]]\n"
     ]
    }
   ],
   "source": [
    "B = np.ones(shape=(4,6))\n",
    "print(B)\n",
    "B[1:-1,1:-1] = 0.0\n",
    "print(B)"
   ]
  },
  {
   "cell_type": "markdown",
   "metadata": {
    "deletable": true,
    "editable": true
   },
   "source": [
    "#### 16. How to add a border (filled with 0's) around an existing array? (★☆☆) \n",
    "(**hint**: np.pad)"
   ]
  },
  {
   "cell_type": "code",
   "execution_count": 15,
   "metadata": {
    "collapsed": false,
    "deletable": true,
    "editable": true
   },
   "outputs": [
    {
     "name": "stdout",
     "output_type": "stream",
     "text": [
      "[[-8.44736455e-01  6.52049928e-01  6.97200368e-02 -5.26824419e-01\n",
      "  -9.87445475e-01 -1.21263424e-01  3.24266632e-01 -4.76850004e-01\n",
      "  -1.09310392e+00]\n",
      " [-7.96851699e-01 -1.65527150e-03  1.02044699e+00  6.57822044e-01\n",
      "  -7.57080811e-01 -1.52959651e+00  1.07066117e+00 -4.54050604e-01\n",
      "  -4.85568668e-01]\n",
      " [-4.79119568e-01  9.67572391e-01  1.16395135e+00  1.11132842e+00\n",
      "  -1.46242959e+00 -4.46011192e-01 -6.63439842e-01  4.99625186e-01\n",
      "   6.14527890e-02]\n",
      " [ 9.57715345e-01  1.31344627e+00  5.28927774e-01 -8.20106506e-01\n",
      "  -4.53593631e-01 -5.19433325e-01  1.32270617e+00 -9.31873294e-01\n",
      "  -6.75228320e-01]\n",
      " [ 2.80011790e+00 -5.12439923e-01 -3.22269008e-01  1.15849881e+00\n",
      "   9.43318791e-01  6.08811265e-01  7.16652693e-01  8.83770551e-01\n",
      "   7.66948116e-01]\n",
      " [ 1.00426919e-02 -9.38103919e-01 -4.60784106e-01  4.17921959e-01\n",
      "  -2.57028592e-01 -1.09884327e+00 -4.81597597e-01  5.87451316e-01\n",
      "  -1.69866777e+00]]\n"
     ]
    },
    {
     "data": {
      "text/plain": [
       "array([[ 2.10000000e+00,  1.10000000e+00,  1.10000000e+00,\n",
       "         1.10000000e+00,  1.10000000e+00,  1.10000000e+00,\n",
       "         1.10000000e+00,  1.10000000e+00,  1.10000000e+00,\n",
       "         1.10000000e+00,  2.20000000e+00,  2.20000000e+00],\n",
       "       [ 2.10000000e+00,  1.10000000e+00,  1.10000000e+00,\n",
       "         1.10000000e+00,  1.10000000e+00,  1.10000000e+00,\n",
       "         1.10000000e+00,  1.10000000e+00,  1.10000000e+00,\n",
       "         1.10000000e+00,  2.20000000e+00,  2.20000000e+00],\n",
       "       [ 2.10000000e+00, -8.44736455e-01,  6.52049928e-01,\n",
       "         6.97200368e-02, -5.26824419e-01, -9.87445475e-01,\n",
       "        -1.21263424e-01,  3.24266632e-01, -4.76850004e-01,\n",
       "        -1.09310392e+00,  2.20000000e+00,  2.20000000e+00],\n",
       "       [ 2.10000000e+00, -7.96851699e-01, -1.65527150e-03,\n",
       "         1.02044699e+00,  6.57822044e-01, -7.57080811e-01,\n",
       "        -1.52959651e+00,  1.07066117e+00, -4.54050604e-01,\n",
       "        -4.85568668e-01,  2.20000000e+00,  2.20000000e+00],\n",
       "       [ 2.10000000e+00, -4.79119568e-01,  9.67572391e-01,\n",
       "         1.16395135e+00,  1.11132842e+00, -1.46242959e+00,\n",
       "        -4.46011192e-01, -6.63439842e-01,  4.99625186e-01,\n",
       "         6.14527890e-02,  2.20000000e+00,  2.20000000e+00],\n",
       "       [ 2.10000000e+00,  9.57715345e-01,  1.31344627e+00,\n",
       "         5.28927774e-01, -8.20106506e-01, -4.53593631e-01,\n",
       "        -5.19433325e-01,  1.32270617e+00, -9.31873294e-01,\n",
       "        -6.75228320e-01,  2.20000000e+00,  2.20000000e+00],\n",
       "       [ 2.10000000e+00,  2.80011790e+00, -5.12439923e-01,\n",
       "        -3.22269008e-01,  1.15849881e+00,  9.43318791e-01,\n",
       "         6.08811265e-01,  7.16652693e-01,  8.83770551e-01,\n",
       "         7.66948116e-01,  2.20000000e+00,  2.20000000e+00],\n",
       "       [ 2.10000000e+00,  1.00426919e-02, -9.38103919e-01,\n",
       "        -4.60784106e-01,  4.17921959e-01, -2.57028592e-01,\n",
       "        -1.09884327e+00, -4.81597597e-01,  5.87451316e-01,\n",
       "        -1.69866777e+00,  2.20000000e+00,  2.20000000e+00],\n",
       "       [ 2.10000000e+00,  1.20000000e+00,  1.20000000e+00,\n",
       "         1.20000000e+00,  1.20000000e+00,  1.20000000e+00,\n",
       "         1.20000000e+00,  1.20000000e+00,  1.20000000e+00,\n",
       "         1.20000000e+00,  2.20000000e+00,  2.20000000e+00]])"
      ]
     },
     "execution_count": 15,
     "metadata": {},
     "output_type": "execute_result"
    }
   ],
   "source": [
    "C = np.random.randn(6,9)\n",
    "print(C)\n",
    "np.pad(C,((2,1),(1,2)),'constant',constant_values=((1.1,1.2),(2.1,2.2)))\n",
    "# np.info('pad')"
   ]
  },
  {
   "cell_type": "markdown",
   "metadata": {
    "deletable": true,
    "editable": true
   },
   "source": [
    "#### 17. What is the result of the following expression? (★☆☆) \n",
    "(**hint**: NaN = not a number, inf = infinity)"
   ]
  },
  {
   "cell_type": "markdown",
   "metadata": {
    "deletable": true,
    "editable": true
   },
   "source": [
    "```python\n",
    "0 * np.nan\n",
    "np.nan == np.nan\n",
    "np.inf > np.nan\n",
    "np.nan - np.nan\n",
    "np.nan in set([np.nan])\n",
    "0.3 == 3 * 0.1\n",
    "```"
   ]
  },
  {
   "cell_type": "code",
   "execution_count": 32,
   "metadata": {
    "collapsed": false,
    "deletable": true,
    "editable": true
   },
   "outputs": [
    {
     "name": "stdout",
     "output_type": "stream",
     "text": [
      "nan\n",
      "False\n",
      "False\n",
      "nan\n",
      "True\n",
      "0.30000000000000004\n",
      "0.30000000000000004\n"
     ]
    }
   ],
   "source": [
    "print(0*np.nan)\n",
    "print(np.nan == np.nan)\n",
    "print(np.inf > np.nan)\n",
    "print(np.nan - np.nan)\n",
    "print(np.nan in set([np.nan]))\n",
    "print(3 * 0.1)\n",
    "print(3*0.1)"
   ]
  },
  {
   "cell_type": "markdown",
   "metadata": {
    "deletable": true,
    "editable": true
   },
   "source": [
    "#### 18. Create a 5x5 matrix with values 1,2,3,4 just below the diagonal (★☆☆) \n",
    "(**hint**: np.diag)"
   ]
  },
  {
   "cell_type": "code",
   "execution_count": 33,
   "metadata": {
    "collapsed": false,
    "deletable": true,
    "editable": true
   },
   "outputs": [
    {
     "name": "stdout",
     "output_type": "stream",
     "text": [
      "[[1 0 0 0]\n",
      " [0 2 0 0]\n",
      " [0 0 3 0]\n",
      " [0 0 0 4]]\n"
     ]
    }
   ],
   "source": [
    "A = np.diag([1,2,3,4])\n",
    "print(A)"
   ]
  },
  {
   "cell_type": "markdown",
   "metadata": {
    "deletable": true,
    "editable": true
   },
   "source": [
    "#### 19. Create a 8x8 matrix and fill it with a checkerboard pattern (★☆☆) \n",
    "(**hint**: array\\[::2\\])"
   ]
  },
  {
   "cell_type": "code",
   "execution_count": 81,
   "metadata": {
    "collapsed": false,
    "deletable": true,
    "editable": true
   },
   "outputs": [
    {
     "name": "stdout",
     "output_type": "stream",
     "text": [
      "[[1. 0. 1. 0. 1. 0. 1. 0.]\n",
      " [0. 1. 0. 1. 0. 1. 0. 1.]\n",
      " [1. 0. 1. 0. 1. 0. 1. 0.]\n",
      " [0. 1. 0. 1. 0. 1. 0. 1.]\n",
      " [1. 0. 1. 0. 1. 0. 1. 0.]\n",
      " [0. 1. 0. 1. 0. 1. 0. 1.]\n",
      " [1. 0. 1. 0. 1. 0. 1. 0.]\n",
      " [0. 1. 0. 1. 0. 1. 0. 1.]]\n"
     ]
    }
   ],
   "source": [
    "A = np.zeros(shape=(8,8))\n",
    "A[::2,::2] = 1.0 \n",
    "A[::-2,::-2] = 1.0 \n",
    "# A[:,::2] = 1 - A[:,::2]\n",
    "# A = A.T\n",
    "# A[::2] = 1.0\n",
    "# A = A.T\n",
    "# # print(A[::-2])\n",
    "# A[::-2] = 1 - A[::-2]\n",
    "# A.T[::2] = 1.0\n",
    "print(A)"
   ]
  },
  {
   "cell_type": "markdown",
   "metadata": {
    "deletable": true,
    "editable": true
   },
   "source": [
    "#### 20. Consider a (6,7,8) shape array, what is the index (x,y,z) of the 100th element? \n",
    "(**hint**: np.unravel_index)"
   ]
  },
  {
   "cell_type": "code",
   "execution_count": 51,
   "metadata": {
    "collapsed": false,
    "deletable": true,
    "editable": true
   },
   "outputs": [
    {
     "name": "stdout",
     "output_type": "stream",
     "text": [
      "0.43923143133501674\n",
      "0.004061556154298929\n",
      "0.630155625294341\n",
      "[0.43923143 0.00406156 0.63015563]\n"
     ]
    }
   ],
   "source": [
    "A = np.random.rand(6,7,8)\n",
    "print(A[0,0,0])\n",
    "print(A[1,0,0])\n",
    "print(A[2,0,0])\n",
    "# np.info('unravel_index')\n",
    "print(A[np.unravel_index((0,56,112),A.shape)])"
   ]
  },
  {
   "cell_type": "markdown",
   "metadata": {
    "deletable": true,
    "editable": true
   },
   "source": [
    "#### 21. Create a checkerboard 8x8 matrix using the tile function (★☆☆) \n",
    "(**hint**: np.tile)"
   ]
  },
  {
   "cell_type": "code",
   "execution_count": 7,
   "metadata": {
    "collapsed": false,
    "deletable": true,
    "editable": true
   },
   "outputs": [
    {
     "name": "stdout",
     "output_type": "stream",
     "text": [
      "[[0. 1.]\n",
      " [1. 0.]]\n",
      "[[0. 1. 0. 1. 0. 1. 0. 1.]\n",
      " [1. 0. 1. 0. 1. 0. 1. 0.]\n",
      " [0. 1. 0. 1. 0. 1. 0. 1.]\n",
      " [1. 0. 1. 0. 1. 0. 1. 0.]\n",
      " [0. 1. 0. 1. 0. 1. 0. 1.]\n",
      " [1. 0. 1. 0. 1. 0. 1. 0.]\n",
      " [0. 1. 0. 1. 0. 1. 0. 1.]\n",
      " [1. 0. 1. 0. 1. 0. 1. 0.]]\n"
     ]
    }
   ],
   "source": [
    "import numpy as np\n",
    "A  = np.array([[0.,1.],[1.,0.]])\n",
    "print(A)\n",
    "B = np.tile(A,(4,4))\n",
    "print(B)\n",
    "# np.info('tile')"
   ]
  },
  {
   "cell_type": "markdown",
   "metadata": {
    "deletable": true,
    "editable": true
   },
   "source": [
    "#### 22. Normalize a 5x5 random matrix (★☆☆) \n",
    "(**hint**: (x - mean) / std)"
   ]
  },
  {
   "cell_type": "code",
   "execution_count": 11,
   "metadata": {
    "collapsed": false,
    "deletable": true,
    "editable": true
   },
   "outputs": [
    {
     "name": "stdout",
     "output_type": "stream",
     "text": [
      "[[-1.13092038 -1.31558785 -0.9821183  -1.05298076 -0.45169737]\n",
      " [-0.48760238 -0.81164902 -0.4993193  -1.35097227 -0.62352352]\n",
      " [-0.5247452  -0.50214602 -1.37862178 -1.1174702  -1.32479893]\n",
      " [-0.98330347 -0.59533771 -1.42177895 -1.2203672  -0.49702155]\n",
      " [-1.07666387 -0.8581876  -1.31843127 -1.38171681 -0.69360052]]\n",
      "     *** Found in numpy ***\n",
      " std(a, axis=None, dtype=None, out=None, ddof=0, keepdims=<no value>)\n",
      "\n",
      "Compute the standard deviation along the specified axis.\n",
      "\n",
      "Returns the standard deviation, a measure of the spread of a distribution,\n",
      "of the array elements. The standard deviation is computed for the\n",
      "flattened array by default, otherwise over the specified axis.\n",
      "\n",
      "Parameters\n",
      "----------\n",
      "a : array_like\n",
      "    Calculate the standard deviation of these values.\n",
      "axis : None or int or tuple of ints, optional\n",
      "    Axis or axes along which the standard deviation is computed. The\n",
      "    default is to compute the standard deviation of the flattened array.\n",
      "\n",
      "    .. versionadded:: 1.7.0\n",
      "\n",
      "    If this is a tuple of ints, a standard deviation is performed over\n",
      "    multiple axes, instead of a single axis or all the axes as before.\n",
      "dtype : dtype, optional\n",
      "    Type to use in computing the standard deviation. For arrays of\n",
      "    integer type the default is float64, for arrays of float types it is\n",
      "    the same as the array type.\n",
      "out : ndarray, optional\n",
      "    Alternative output array in which to place the result. It must have\n",
      "    the same shape as the expected output but the type (of the calculated\n",
      "    values) will be cast if necessary.\n",
      "ddof : int, optional\n",
      "    Means Delta Degrees of Freedom.  The divisor used in calculations\n",
      "    is ``N - ddof``, where ``N`` represents the number of elements.\n",
      "    By default `ddof` is zero.\n",
      "keepdims : bool, optional\n",
      "    If this is set to True, the axes which are reduced are left\n",
      "    in the result as dimensions with size one. With this option,\n",
      "    the result will broadcast correctly against the input array.\n",
      "\n",
      "    If the default value is passed, then `keepdims` will not be\n",
      "    passed through to the `std` method of sub-classes of\n",
      "    `ndarray`, however any non-default value will be.  If the\n",
      "    sub-class' method does not implement `keepdims` any\n",
      "    exceptions will be raised.\n",
      "\n",
      "Returns\n",
      "-------\n",
      "standard_deviation : ndarray, see dtype parameter above.\n",
      "    If `out` is None, return a new array containing the standard deviation,\n",
      "    otherwise return a reference to the output array.\n",
      "\n",
      "See Also\n",
      "--------\n",
      "var, mean, nanmean, nanstd, nanvar\n",
      "numpy.doc.ufuncs : Section \"Output arguments\"\n",
      "\n",
      "Notes\n",
      "-----\n",
      "The standard deviation is the square root of the average of the squared\n",
      "deviations from the mean, i.e., ``std = sqrt(mean(abs(x - x.mean())**2))``.\n",
      "\n",
      "The average squared deviation is normally calculated as\n",
      "``x.sum() / N``, where ``N = len(x)``.  If, however, `ddof` is specified,\n",
      "the divisor ``N - ddof`` is used instead. In standard statistical\n",
      "practice, ``ddof=1`` provides an unbiased estimator of the variance\n",
      "of the infinite population. ``ddof=0`` provides a maximum likelihood\n",
      "estimate of the variance for normally distributed variables. The\n",
      "standard deviation computed in this function is the square root of\n",
      "the estimated variance, so even with ``ddof=1``, it will not be an\n",
      "unbiased estimate of the standard deviation per se.\n",
      "\n",
      "Note that, for complex numbers, `std` takes the absolute\n",
      "value before squaring, so that the result is always real and nonnegative.\n",
      "\n",
      "For floating-point input, the *std* is computed using the same\n",
      "precision the input has. Depending on the input data, this can cause\n",
      "the results to be inaccurate, especially for float32 (see example below).\n",
      "Specifying a higher-accuracy accumulator using the `dtype` keyword can\n",
      "alleviate this issue.\n",
      "\n",
      "Examples\n",
      "--------\n",
      ">>> a = np.array([[1, 2], [3, 4]])\n",
      ">>> np.std(a)\n",
      "1.1180339887498949\n",
      ">>> np.std(a, axis=0)\n",
      "array([ 1.,  1.])\n",
      ">>> np.std(a, axis=1)\n",
      "array([ 0.5,  0.5])\n",
      "\n",
      "In single precision, std() can be inaccurate:\n",
      "\n",
      ">>> a = np.zeros((2, 512*512), dtype=np.float32)\n",
      ">>> a[0, :] = 1.0\n",
      ">>> a[1, :] = 0.1\n",
      ">>> np.std(a)\n",
      "0.45000005\n",
      "\n",
      "Computing the standard deviation in float64 is more accurate:\n",
      "\n",
      ">>> np.std(a, dtype=np.float64)\n",
      "0.44999999925494177\n",
      "----------------------------------------------------------------------------\n",
      "\n",
      "     *** Repeat reference found in numpy.core *** \n",
      "     *** Found in numpy.ma ***\n",
      "std(self, axis=None, dtype=None, out=None, ddof=0, keepdims=<no value>)\n",
      "\n",
      "Returns the standard deviation of the array elements along given axis.\n",
      "\n",
      "Masked entries are ignored.\n",
      "\n",
      "Refer to `numpy.std` for full documentation.\n",
      "\n",
      "See Also\n",
      "--------\n",
      "ndarray.std : corresponding function for ndarrays\n",
      "numpy.std : Equivalent function\n",
      "----------------------------------------------------------------------------\n",
      "\n",
      "     *** Repeat reference found in numpy.core.numeric *** \n",
      "\n",
      "     *** Repeat reference found in numpy.core.fromnumeric *** \n",
      "\n",
      "     *** Repeat reference found in numpy.ma.core *** \n",
      "\n",
      "     *** Total of 6 references found. ***\n"
     ]
    }
   ],
   "source": [
    "A = np.random.random((5,5))\n",
    "B = A - np.mean(A) / np.std(A)\n",
    "print(B)\n",
    "np.info('std')"
   ]
  },
  {
   "cell_type": "markdown",
   "metadata": {
    "deletable": true,
    "editable": true
   },
   "source": [
    "#### 23. Create a custom dtype that describes a color as four unsigned bytes (RGBA) (★☆☆) \n",
    "(**hint**: np.dtype)"
   ]
  },
  {
   "cell_type": "code",
   "execution_count": 21,
   "metadata": {
    "collapsed": false,
    "deletable": true,
    "editable": true
   },
   "outputs": [
    {
     "name": "stdout",
     "output_type": "stream",
     "text": [
      "[('r', 'u1'), ('g', 'u1'), ('b', 'u1'), ('a', 'u1')]\n",
      "[[(3, 4, 5, 155) (3, 4, 5, 155)]\n",
      " [(3, 4, 5, 155) (3, 4, 5, 155)]]\n",
      "(2, 2)\n"
     ]
    }
   ],
   "source": [
    "mytype = np.dtype([('r',np.ubyte),('g',np.ubyte),('b',np.ubyte),('a',np.ubyte)])\n",
    "print(mytype)\n",
    "colrtArray = np.array([[(3,4,5,155),(3,4,5,155)],[(3,4,5,155),(3,4,5,155)]],dtype=mytype)\n",
    "print(colrtArray)\n",
    "print(colrtArray.shape)\n",
    "# np.info('dtype')"
   ]
  },
  {
   "cell_type": "markdown",
   "metadata": {
    "deletable": true,
    "editable": true
   },
   "source": [
    "#### 24. Multiply a 5x3 matrix by a 3x2 matrix (real matrix product) (★☆☆) \n",
    "(**hint**: np.dot | @)"
   ]
  },
  {
   "cell_type": "code",
   "execution_count": 38,
   "metadata": {
    "collapsed": false,
    "deletable": true,
    "editable": true
   },
   "outputs": [
    {
     "name": "stdout",
     "output_type": "stream",
     "text": [
      "A: [[-0.20475981 -0.18909519 -3.03174268]\n",
      " [ 1.88776469  0.41961265 -0.82379059]\n",
      " [-0.08603374 -1.59703415 -0.08071019]\n",
      " [ 1.45996096 -0.22274211  1.79277023]\n",
      " [ 0.2682207   0.77368019  0.6003705 ]]\n",
      "B: [[ 0.9060565   0.94594924]\n",
      " [ 0.91797042 -0.84251643]\n",
      " [-0.0021255   0.20469629]]\n",
      "C: [[-0.35266376 -0.65496306]\n",
      " [ 2.09736445  1.26357215]\n",
      " [-1.54380999  1.24762288]\n",
      " [ 1.11452592  1.93568627]\n",
      " [ 0.95196254 -0.27522149]]\n",
      "D: [[-0.35266376 -0.65496306]\n",
      " [ 2.09736445  1.26357215]\n",
      " [-1.54380999  1.24762288]\n",
      " [ 1.11452592  1.93568627]\n",
      " [ 0.95196254 -0.27522149]]\n",
      "E: [[-0.35266376 -0.65496306]\n",
      " [ 2.09736445  1.26357215]\n",
      " [-1.54380999  1.24762288]\n",
      " [ 1.11452592  1.93568627]\n",
      " [ 0.95196254 -0.27522149]]\n",
      "F: [[[[-4.05307236e-01  3.94825264e-01  2.30083327e-01]\n",
      "   [-1.59095937e+00  1.25961583e-01  2.45697604e-01]\n",
      "   [ 1.22704240e+00 -7.42435318e-01 -1.31850164e+00]\n",
      "   [ 7.86656389e-01  2.35107035e-01  8.32062026e-01]]\n",
      "\n",
      "  [[ 1.52765656e+00  9.26918809e-01 -1.65473139e+00]\n",
      "   [-2.39570003e+00 -1.24159422e+00  1.38367516e-01]\n",
      "   [-1.00363530e+00  1.48913549e+00 -3.81113468e-01]\n",
      "   [-1.80374869e-01 -1.17627315e+00  1.27583198e+00]]\n",
      "\n",
      "  [[ 1.95353954e+00  9.49590959e-01 -2.08776331e+00]\n",
      "   [-2.22444400e+00 -1.51508056e+00  8.69434981e-02]\n",
      "   [-1.67543734e+00  2.09754615e+00  7.67380202e-02]\n",
      "   [-5.76041968e-01 -1.53876060e+00  1.18351417e+00]]]\n",
      "\n",
      "\n",
      " [[[ 2.07311089e+00  8.20575834e-01 -9.01877755e-01]\n",
      "   [-2.22492488e+00 -1.49160808e+00 -3.48578811e-01]\n",
      "   [-1.06522283e+00  6.39533168e-01 -5.81812693e-01]\n",
      "   [ 1.06950326e+00  1.05670447e-02  1.36109570e+00]]\n",
      "\n",
      "  [[ 1.17188879e+00 -1.20452671e+00  2.02774247e+00]\n",
      "   [ 3.72084664e+00 -2.23060836e-01 -1.50269528e+00]\n",
      "   [-1.52290408e+00 -1.42017043e+00  1.65215350e+00]\n",
      "   [ 1.69917732e+00  2.78617655e+00 -1.56709675e+00]]\n",
      "\n",
      "  [[-7.98288205e-01 -1.43756798e+00  1.85043407e+00]\n",
      "   [ 4.28693761e+00  9.82059235e-01 -6.85508671e-01]\n",
      "   [-3.69591764e-01 -1.17082971e+00  1.73027919e+00]\n",
      "   [ 1.70528374e-02  1.60257737e+00 -2.16720735e+00]]]\n",
      "\n",
      "\n",
      " [[[-1.27522467e+00 -3.25469065e-01  1.55143403e+00]\n",
      "   [ 3.12116927e-01  9.08432622e-01 -8.41510551e-03]\n",
      "   [ 1.76080763e+00 -1.91228684e+00 -9.47237011e-01]\n",
      "   [ 1.14636545e+00  1.33738411e+00 -1.33182677e-01]]\n",
      "\n",
      "  [[ 2.94092656e+00  1.45557994e+00 -1.79102187e+00]\n",
      "   [-3.99812868e+00 -2.22744625e+00 -2.46844567e-01]\n",
      "   [-1.40436881e+00  1.31049791e+00 -1.11277931e+00]\n",
      "   [ 1.22262847e+00 -5.59087281e-01  2.31474810e+00]]\n",
      "\n",
      "  [[-1.31509982e+00 -8.02288656e-01  4.77898551e-01]\n",
      "   [ 2.46691437e+00  1.02724125e+00  1.50182835e-01]\n",
      "   [ 1.05699439e-01 -2.21754336e-03  1.15343179e+00]\n",
      "   [-1.28506455e+00 -2.13673376e-01 -1.44454579e+00]]]\n",
      "\n",
      "\n",
      " [[[ 2.28234033e+00  1.03825835e+00 -1.81877403e+00]\n",
      "   [-2.59690434e+00 -1.72041775e+00 -1.00629191e-01]\n",
      "   [-1.59056025e+00  1.68451063e+00 -2.66540629e-01]\n",
      "   [ 1.49114795e-01 -1.01640525e+00  1.46582122e+00]]\n",
      "\n",
      "  [[ 3.41423084e-01  1.51473147e-01 -3.17211362e-01]\n",
      "   [-3.56066551e-01 -2.58245739e-01 -3.47656184e-03]\n",
      "   [-2.80486613e-01  3.16579396e-01  8.55796675e-03]\n",
      "   [-5.23589549e-02 -2.11615703e-01  1.95701925e-01]]\n",
      "\n",
      "  [[ 6.67776749e-01 -2.40738515e-01 -2.88771722e-01]\n",
      "   [ 1.10531575e+00 -3.27489451e-01 -2.88265096e-01]\n",
      "   [-1.22965146e+00  6.99362679e-01  1.07179116e+00]\n",
      "   [-4.84567169e-01 -1.46802011e-01 -5.42391711e-01]]]]\n",
      "-0.009403020974595427\n",
      "[ 4.28693761  0.98205924 -0.68550867]\n",
      "     *** Found in numpy ***\n",
      "dot(a, b, out=None)\n",
      "\n",
      "Dot product of two arrays. Specifically,\n",
      "\n",
      "- If both `a` and `b` are 1-D arrays, it is inner product of vectors\n",
      "  (without complex conjugation).\n",
      "\n",
      "- If both `a` and `b` are 2-D arrays, it is matrix multiplication,\n",
      "  but using :func:`matmul` or ``a @ b`` is preferred.\n",
      "\n",
      "- If either `a` or `b` is 0-D (scalar), it is equivalent to :func:`multiply`\n",
      "  and using ``numpy.multiply(a, b)`` or ``a * b`` is preferred.\n",
      "\n",
      "- If `a` is an N-D array and `b` is a 1-D array, it is a sum product over\n",
      "  the last axis of `a` and `b`.\n",
      "\n",
      "- If `a` is an N-D array and `b` is an M-D array (where ``M>=2``), it is a\n",
      "  sum product over the last axis of `a` and the second-to-last axis of `b`::\n",
      "\n",
      "    dot(a, b)[i,j,k,m] = sum(a[i,j,:] * b[k,:,m])\n",
      "\n",
      "Parameters\n",
      "----------\n",
      "a : array_like\n",
      "    First argument.\n",
      "b : array_like\n",
      "    Second argument.\n",
      "out : ndarray, optional\n",
      "    Output argument. This must have the exact kind that would be returned\n",
      "    if it was not used. In particular, it must have the right type, must be\n",
      "    C-contiguous, and its dtype must be the dtype that would be returned\n",
      "    for `dot(a,b)`. This is a performance feature. Therefore, if these\n",
      "    conditions are not met, an exception is raised, instead of attempting\n",
      "    to be flexible.\n",
      "\n",
      "Returns\n",
      "-------\n",
      "output : ndarray\n",
      "    Returns the dot product of `a` and `b`.  If `a` and `b` are both\n",
      "    scalars or both 1-D arrays then a scalar is returned; otherwise\n",
      "    an array is returned.\n",
      "    If `out` is given, then it is returned.\n",
      "\n",
      "Raises\n",
      "------\n",
      "ValueError\n",
      "    If the last dimension of `a` is not the same size as\n",
      "    the second-to-last dimension of `b`.\n",
      "\n",
      "See Also\n",
      "--------\n",
      "vdot : Complex-conjugating dot product.\n",
      "tensordot : Sum products over arbitrary axes.\n",
      "einsum : Einstein summation convention.\n",
      "matmul : '@' operator as method with out parameter.\n",
      "\n",
      "Examples\n",
      "--------\n",
      ">>> np.dot(3, 4)\n",
      "12\n",
      "\n",
      "Neither argument is complex-conjugated:\n",
      "\n",
      ">>> np.dot([2j, 3j], [2j, 3j])\n",
      "(-13+0j)\n",
      "\n",
      "For 2-D arrays it is the matrix product:\n",
      "\n",
      ">>> a = [[1, 0], [0, 1]]\n",
      ">>> b = [[4, 1], [2, 2]]\n",
      ">>> np.dot(a, b)\n",
      "array([[4, 1],\n",
      "       [2, 2]])\n",
      "\n",
      ">>> a = np.arange(3*4*5*6).reshape((3,4,5,6))\n",
      ">>> b = np.arange(3*4*5*6)[::-1].reshape((5,4,6,3))\n",
      ">>> np.dot(a, b)[2,3,2,1,2,2]\n",
      "499128\n",
      ">>> sum(a[2,3,2,:] * b[1,2,:,2])\n",
      "499128\n",
      "----------------------------------------------------------------------------\n",
      "\n",
      "     *** Repeat reference found in numpy.core *** \n",
      "     *** Found in numpy.ma ***\n",
      " dot(a, b, strict=False, out=None)\n",
      "\n",
      "Return the dot product of two arrays.\n",
      "\n",
      "This function is the equivalent of `numpy.dot` that takes masked values\n",
      "into account. Note that `strict` and `out` are in different position\n",
      "than in the method version. In order to maintain compatibility with the\n",
      "corresponding method, it is recommended that the optional arguments be\n",
      "treated as keyword only.  At some point that may be mandatory.\n",
      "\n",
      ".. note::\n",
      "  Works only with 2-D arrays at the moment.\n",
      "\n",
      "\n",
      "Parameters\n",
      "----------\n",
      "a, b : masked_array_like\n",
      "    Inputs arrays.\n",
      "strict : bool, optional\n",
      "    Whether masked data are propagated (True) or set to 0 (False) for\n",
      "    the computation. Default is False.  Propagating the mask means that\n",
      "    if a masked value appears in a row or column, the whole row or\n",
      "    column is considered masked.\n",
      "out : masked_array, optional\n",
      "    Output argument. This must have the exact kind that would be returned\n",
      "    if it was not used. In particular, it must have the right type, must be\n",
      "    C-contiguous, and its dtype must be the dtype that would be returned\n",
      "    for `dot(a,b)`. This is a performance feature. Therefore, if these\n",
      "    conditions are not met, an exception is raised, instead of attempting\n",
      "    to be flexible.\n",
      "\n",
      "    .. versionadded:: 1.10.2\n",
      "\n",
      "See Also\n",
      "--------\n",
      "numpy.dot : Equivalent function for ndarrays.\n",
      "\n",
      "Examples\n",
      "--------\n",
      ">>> a = ma.array([[1, 2, 3], [4, 5, 6]], mask=[[1, 0, 0], [0, 0, 0]])\n",
      ">>> b = ma.array([[1, 2], [3, 4], [5, 6]], mask=[[1, 0], [0, 0], [0, 0]])\n",
      ">>> np.ma.dot(a, b)\n",
      "masked_array(data =\n",
      " [[21 26]\n",
      " [45 64]],\n",
      "             mask =\n",
      " [[False False]\n",
      " [False False]],\n",
      "       fill_value = 999999)\n",
      ">>> np.ma.dot(a, b, strict=True)\n",
      "masked_array(data =\n",
      " [[-- --]\n",
      " [-- 64]],\n",
      "             mask =\n",
      " [[ True  True]\n",
      " [ True False]],\n",
      "       fill_value = 999999)\n",
      "----------------------------------------------------------------------------\n",
      "\n",
      "     *** Repeat reference found in numpy.linalg.linalg *** \n",
      "\n",
      "     *** Repeat reference found in numpy.core.numeric *** \n",
      "\n",
      "     *** Repeat reference found in numpy.core.einsumfunc *** \n",
      "\n",
      "     *** Repeat reference found in numpy.core.multiarray *** \n",
      "\n",
      "     *** Repeat reference found in numpy.lib.polynomial *** \n",
      "\n",
      "     *** Repeat reference found in numpy.lib.function_base *** \n",
      "\n",
      "     *** Repeat reference found in numpy.ma.extras *** \n",
      "\n",
      "     *** Repeat reference found in numpy.ma.core *** \n",
      "\n",
      "     *** Total of 11 references found. ***\n"
     ]
    }
   ],
   "source": [
    "A = np.random.randn(5,3)\n",
    "print('A:',A)\n",
    "B = np.random.randn(3,2)\n",
    "print('B:',B)\n",
    "C = np.matrix(A) *  np.matrix(B)\n",
    "print('C:',C)\n",
    "D = np.dot(A,B)\n",
    "D = A.dot(B)\n",
    "print('D:',D)\n",
    "E = np.matmul(A,B)\n",
    "print('E:',E)\n",
    "\n",
    "#####\n",
    "A = np.random.randn(4,3,3)\n",
    "B = np.random.randn(4,3,3)\n",
    "F = np.dot(A,B)\n",
    "print('F:',F)\n",
    "print(A[1,2,1]* B[1,2,1],)\n",
    "print(F[1,2,1],)\n",
    "np.info('dot')"
   ]
  },
  {
   "cell_type": "markdown",
   "metadata": {
    "deletable": true,
    "editable": true
   },
   "source": [
    "#### 25. Given a 1D array, negate all elements which are between 3 and 8, in place. (★☆☆) \n",
    "(**hint**: >, <=)"
   ]
  },
  {
   "cell_type": "code",
   "execution_count": null,
   "metadata": {
    "collapsed": true,
    "deletable": true,
    "editable": true
   },
   "outputs": [],
   "source": []
  },
  {
   "cell_type": "markdown",
   "metadata": {
    "deletable": true,
    "editable": true
   },
   "source": [
    "#### 26. What is the output of the following script? (★☆☆) \n",
    "(**hint**: np.sum)"
   ]
  },
  {
   "cell_type": "markdown",
   "metadata": {
    "deletable": true,
    "editable": true
   },
   "source": [
    "```python\n",
    "# Author: Jake VanderPlas\n",
    "\n",
    "print(sum(range(5),-1))\n",
    "from numpy import *\n",
    "print(sum(range(5),-1))\n",
    "```"
   ]
  },
  {
   "cell_type": "code",
   "execution_count": null,
   "metadata": {
    "collapsed": true,
    "deletable": true,
    "editable": true
   },
   "outputs": [],
   "source": []
  },
  {
   "cell_type": "markdown",
   "metadata": {
    "deletable": true,
    "editable": true
   },
   "source": [
    "#### 27. Consider an integer vector Z, which of these expressions are legal? (★☆☆)"
   ]
  },
  {
   "cell_type": "markdown",
   "metadata": {
    "deletable": true,
    "editable": true
   },
   "source": [
    "```python\n",
    "Z**Z\n",
    "2 << Z >> 2\n",
    "Z <- Z\n",
    "1j*Z\n",
    "Z/1/1\n",
    "Z<Z>Z\n",
    "```"
   ]
  },
  {
   "cell_type": "code",
   "execution_count": null,
   "metadata": {
    "collapsed": true,
    "deletable": true,
    "editable": true
   },
   "outputs": [],
   "source": []
  },
  {
   "cell_type": "markdown",
   "metadata": {
    "deletable": true,
    "editable": true
   },
   "source": [
    "#### 28. What are the result of the following expressions?"
   ]
  },
  {
   "cell_type": "markdown",
   "metadata": {
    "deletable": true,
    "editable": true
   },
   "source": [
    "```python\n",
    "np.array(0) / np.array(0)\n",
    "np.array(0) // np.array(0)\n",
    "np.array([np.nan]).astype(int).astype(float)\n",
    "```"
   ]
  },
  {
   "cell_type": "code",
   "execution_count": null,
   "metadata": {
    "collapsed": true,
    "deletable": true,
    "editable": true
   },
   "outputs": [],
   "source": []
  },
  {
   "cell_type": "markdown",
   "metadata": {
    "deletable": true,
    "editable": true
   },
   "source": [
    "#### 29. How to round away from zero a float array ? (★☆☆) \n",
    "(**hint**: np.uniform, np.copysign, np.ceil, np.abs)"
   ]
  },
  {
   "cell_type": "code",
   "execution_count": null,
   "metadata": {
    "collapsed": true,
    "deletable": true,
    "editable": true
   },
   "outputs": [],
   "source": []
  },
  {
   "cell_type": "markdown",
   "metadata": {
    "deletable": true,
    "editable": true
   },
   "source": [
    "#### 30. How to find common values between two arrays? (★☆☆) \n",
    "(**hint**: np.intersect1d)"
   ]
  },
  {
   "cell_type": "code",
   "execution_count": null,
   "metadata": {
    "collapsed": true,
    "deletable": true,
    "editable": true
   },
   "outputs": [],
   "source": []
  },
  {
   "cell_type": "markdown",
   "metadata": {
    "deletable": true,
    "editable": true
   },
   "source": [
    "#### 31. How to ignore all numpy warnings (not recommended)? (★☆☆) \n",
    "(**hint**: np.seterr, np.errstate)"
   ]
  },
  {
   "cell_type": "code",
   "execution_count": null,
   "metadata": {
    "collapsed": true,
    "deletable": true,
    "editable": true
   },
   "outputs": [],
   "source": []
  },
  {
   "cell_type": "markdown",
   "metadata": {
    "deletable": true,
    "editable": true
   },
   "source": [
    "#### 32. Is the following expressions true? (★☆☆) \n",
    "(**hint**: imaginary number)"
   ]
  },
  {
   "cell_type": "markdown",
   "metadata": {
    "deletable": true,
    "editable": true
   },
   "source": [
    "```python\n",
    "np.sqrt(-1) == np.emath.sqrt(-1)\n",
    "```"
   ]
  },
  {
   "cell_type": "code",
   "execution_count": null,
   "metadata": {
    "collapsed": true,
    "deletable": true,
    "editable": true
   },
   "outputs": [],
   "source": []
  },
  {
   "cell_type": "markdown",
   "metadata": {
    "deletable": true,
    "editable": true
   },
   "source": [
    "#### 33. How to get the dates of yesterday, today and tomorrow? (★☆☆) \n",
    "(**hint**: np.datetime64, np.timedelta64)"
   ]
  },
  {
   "cell_type": "code",
   "execution_count": null,
   "metadata": {
    "collapsed": true,
    "deletable": true,
    "editable": true
   },
   "outputs": [],
   "source": []
  },
  {
   "cell_type": "markdown",
   "metadata": {
    "deletable": true,
    "editable": true
   },
   "source": [
    "#### 34. How to get all the dates corresponding to the month of July 2016? (★★☆) \n",
    "(**hint**: np.arange(dtype=datetime64\\['D'\\]))"
   ]
  },
  {
   "cell_type": "code",
   "execution_count": null,
   "metadata": {
    "collapsed": true,
    "deletable": true,
    "editable": true
   },
   "outputs": [],
   "source": []
  },
  {
   "cell_type": "markdown",
   "metadata": {
    "deletable": true,
    "editable": true
   },
   "source": [
    "#### 35. How to compute ((A+B)\\*(-A/2)) in place (without copy)? (★★☆) \n",
    "(**hint**: np.add(out=), np.negative(out=), np.multiply(out=), np.divide(out=))"
   ]
  },
  {
   "cell_type": "code",
   "execution_count": null,
   "metadata": {
    "collapsed": true,
    "deletable": true,
    "editable": true
   },
   "outputs": [],
   "source": []
  },
  {
   "cell_type": "markdown",
   "metadata": {
    "deletable": true,
    "editable": true
   },
   "source": [
    "#### 36. Extract the integer part of a random array using 5 different methods (★★☆) \n",
    "(**hint**: %, np.floor, np.ceil, astype, np.trunc)"
   ]
  },
  {
   "cell_type": "code",
   "execution_count": null,
   "metadata": {
    "collapsed": true,
    "deletable": true,
    "editable": true
   },
   "outputs": [],
   "source": []
  },
  {
   "cell_type": "markdown",
   "metadata": {
    "deletable": true,
    "editable": true
   },
   "source": [
    "#### 37. Create a 5x5 matrix with row values ranging from 0 to 4 (★★☆) \n",
    "(**hint**: np.arange)"
   ]
  },
  {
   "cell_type": "code",
   "execution_count": null,
   "metadata": {
    "collapsed": true,
    "deletable": true,
    "editable": true
   },
   "outputs": [],
   "source": []
  },
  {
   "cell_type": "markdown",
   "metadata": {
    "deletable": true,
    "editable": true
   },
   "source": [
    "#### 38. Consider a generator function that generates 10 integers and use it to build an array (★☆☆) \n",
    "(**hint**: np.fromiter)"
   ]
  },
  {
   "cell_type": "code",
   "execution_count": null,
   "metadata": {
    "collapsed": true,
    "deletable": true,
    "editable": true
   },
   "outputs": [],
   "source": []
  },
  {
   "cell_type": "markdown",
   "metadata": {
    "deletable": true,
    "editable": true
   },
   "source": [
    "#### 39. Create a vector of size 10 with values ranging from 0 to 1, both excluded (★★☆) \n",
    "(**hint**: np.linspace)"
   ]
  },
  {
   "cell_type": "code",
   "execution_count": null,
   "metadata": {
    "collapsed": true,
    "deletable": true,
    "editable": true
   },
   "outputs": [],
   "source": []
  },
  {
   "cell_type": "markdown",
   "metadata": {
    "deletable": true,
    "editable": true
   },
   "source": [
    "#### 40. Create a random vector of size 10 and sort it (★★☆) \n",
    "(**hint**: sort)"
   ]
  },
  {
   "cell_type": "code",
   "execution_count": null,
   "metadata": {
    "collapsed": true,
    "deletable": true,
    "editable": true
   },
   "outputs": [],
   "source": []
  },
  {
   "cell_type": "markdown",
   "metadata": {
    "deletable": true,
    "editable": true
   },
   "source": [
    "#### 41. How to sum a small array faster than np.sum? (★★☆) \n",
    "(**hint**: np.add.reduce)"
   ]
  },
  {
   "cell_type": "code",
   "execution_count": null,
   "metadata": {
    "collapsed": true,
    "deletable": true,
    "editable": true
   },
   "outputs": [],
   "source": []
  },
  {
   "cell_type": "markdown",
   "metadata": {
    "deletable": true,
    "editable": true
   },
   "source": [
    "#### 42. Consider two random array A and B, check if they are equal (★★☆) \n",
    "(**hint**: np.allclose, np.array\\_equal)"
   ]
  },
  {
   "cell_type": "code",
   "execution_count": null,
   "metadata": {
    "collapsed": true,
    "deletable": true,
    "editable": true
   },
   "outputs": [],
   "source": []
  },
  {
   "cell_type": "markdown",
   "metadata": {
    "deletable": true,
    "editable": true
   },
   "source": [
    "#### 43. Make an array immutable (read-only) (★★☆) \n",
    "(**hint**: flags.writeable)"
   ]
  },
  {
   "cell_type": "code",
   "execution_count": null,
   "metadata": {
    "collapsed": true,
    "deletable": true,
    "editable": true
   },
   "outputs": [],
   "source": []
  },
  {
   "cell_type": "markdown",
   "metadata": {
    "deletable": true,
    "editable": true
   },
   "source": [
    "#### 44. Consider a random 10x2 matrix representing cartesian coordinates, convert them to polar coordinates (★★☆) \n",
    "(**hint**: np.sqrt, np.arctan2)"
   ]
  },
  {
   "cell_type": "code",
   "execution_count": null,
   "metadata": {
    "collapsed": true,
    "deletable": true,
    "editable": true
   },
   "outputs": [],
   "source": []
  },
  {
   "cell_type": "markdown",
   "metadata": {
    "deletable": true,
    "editable": true
   },
   "source": [
    "#### 45. Create random vector of size 10 and replace the maximum value by 0 (★★☆) \n",
    "(**hint**: argmax)"
   ]
  },
  {
   "cell_type": "code",
   "execution_count": null,
   "metadata": {
    "collapsed": true,
    "deletable": true,
    "editable": true
   },
   "outputs": [],
   "source": []
  },
  {
   "cell_type": "markdown",
   "metadata": {
    "deletable": true,
    "editable": true
   },
   "source": [
    "#### 46. Create a structured array with `x` and `y` coordinates covering the \\[0,1\\]x\\[0,1\\] area (★★☆) \n",
    "(**hint**: np.meshgrid)"
   ]
  },
  {
   "cell_type": "code",
   "execution_count": null,
   "metadata": {
    "collapsed": true,
    "deletable": true,
    "editable": true
   },
   "outputs": [],
   "source": []
  },
  {
   "cell_type": "markdown",
   "metadata": {
    "deletable": true,
    "editable": true
   },
   "source": [
    "####  47. Given two arrays, X and Y, construct the Cauchy matrix C (Cij =1/(xi - yj)) \n",
    "(**hint**: np.subtract.outer)"
   ]
  },
  {
   "cell_type": "code",
   "execution_count": null,
   "metadata": {
    "collapsed": true,
    "deletable": true,
    "editable": true
   },
   "outputs": [],
   "source": []
  },
  {
   "cell_type": "markdown",
   "metadata": {
    "deletable": true,
    "editable": true
   },
   "source": [
    "#### 48. Print the minimum and maximum representable value for each numpy scalar type (★★☆) \n",
    "(**hint**: np.iinfo, np.finfo, eps)"
   ]
  },
  {
   "cell_type": "code",
   "execution_count": null,
   "metadata": {
    "collapsed": true,
    "deletable": true,
    "editable": true
   },
   "outputs": [],
   "source": []
  },
  {
   "cell_type": "markdown",
   "metadata": {
    "deletable": true,
    "editable": true
   },
   "source": [
    "#### 49. How to print all the values of an array? (★★☆) \n",
    "(**hint**: np.set\\_printoptions)"
   ]
  },
  {
   "cell_type": "code",
   "execution_count": null,
   "metadata": {
    "collapsed": true,
    "deletable": true,
    "editable": true
   },
   "outputs": [],
   "source": []
  },
  {
   "cell_type": "markdown",
   "metadata": {
    "deletable": true,
    "editable": true
   },
   "source": [
    "#### 50. How to find the closest value (to a given scalar) in a vector? (★★☆) \n",
    "(**hint**: argmin)"
   ]
  },
  {
   "cell_type": "code",
   "execution_count": null,
   "metadata": {
    "collapsed": true,
    "deletable": true,
    "editable": true
   },
   "outputs": [],
   "source": []
  },
  {
   "cell_type": "markdown",
   "metadata": {
    "deletable": true,
    "editable": true
   },
   "source": [
    "#### 51. Create a structured array representing a position (x,y) and a color (r,g,b) (★★☆) \n",
    "(**hint**: dtype)"
   ]
  },
  {
   "cell_type": "code",
   "execution_count": null,
   "metadata": {
    "collapsed": true,
    "deletable": true,
    "editable": true
   },
   "outputs": [],
   "source": []
  },
  {
   "cell_type": "markdown",
   "metadata": {
    "deletable": true,
    "editable": true
   },
   "source": [
    "#### 52. Consider a random vector with shape (100,2) representing coordinates, find point by point distances (★★☆) \n",
    "(**hint**: np.atleast\\_2d, T, np.sqrt)"
   ]
  },
  {
   "cell_type": "code",
   "execution_count": null,
   "metadata": {
    "collapsed": true,
    "deletable": true,
    "editable": true
   },
   "outputs": [],
   "source": []
  },
  {
   "cell_type": "markdown",
   "metadata": {
    "deletable": true,
    "editable": true
   },
   "source": [
    "#### 53. How to convert a float (32 bits) array into an integer (32 bits) in place? \n",
    "(**hint**: astype(copy=False))"
   ]
  },
  {
   "cell_type": "code",
   "execution_count": null,
   "metadata": {
    "collapsed": true,
    "deletable": true,
    "editable": true
   },
   "outputs": [],
   "source": []
  },
  {
   "cell_type": "markdown",
   "metadata": {
    "deletable": true,
    "editable": true
   },
   "source": [
    "#### 54. How to read the following file? (★★☆) \n",
    "(**hint**: np.genfromtxt)"
   ]
  },
  {
   "cell_type": "markdown",
   "metadata": {
    "deletable": true,
    "editable": true
   },
   "source": [
    "```\n",
    "1, 2, 3, 4, 5\n",
    "6,  ,  , 7, 8\n",
    " ,  , 9,10,11\n",
    "```"
   ]
  },
  {
   "cell_type": "code",
   "execution_count": null,
   "metadata": {
    "collapsed": true,
    "deletable": true,
    "editable": true
   },
   "outputs": [],
   "source": []
  },
  {
   "cell_type": "markdown",
   "metadata": {
    "deletable": true,
    "editable": true
   },
   "source": [
    "#### 55. What is the equivalent of enumerate for numpy arrays? (★★☆) \n",
    "(**hint**: np.ndenumerate, np.ndindex)"
   ]
  },
  {
   "cell_type": "code",
   "execution_count": null,
   "metadata": {
    "collapsed": true,
    "deletable": true,
    "editable": true
   },
   "outputs": [],
   "source": []
  },
  {
   "cell_type": "markdown",
   "metadata": {
    "deletable": true,
    "editable": true
   },
   "source": [
    "#### 56. Generate a generic 2D Gaussian-like array (★★☆) \n",
    "(**hint**: np.meshgrid, np.exp)"
   ]
  },
  {
   "cell_type": "code",
   "execution_count": null,
   "metadata": {
    "collapsed": true,
    "deletable": true,
    "editable": true
   },
   "outputs": [],
   "source": []
  },
  {
   "cell_type": "markdown",
   "metadata": {
    "deletable": true,
    "editable": true
   },
   "source": [
    "#### 57. How to randomly place p elements in a 2D array? (★★☆) \n",
    "(**hint**: np.put, np.random.choice)"
   ]
  },
  {
   "cell_type": "code",
   "execution_count": null,
   "metadata": {
    "collapsed": true,
    "deletable": true,
    "editable": true
   },
   "outputs": [],
   "source": []
  },
  {
   "cell_type": "markdown",
   "metadata": {
    "deletable": true,
    "editable": true
   },
   "source": [
    "#### 58. Subtract the mean of each row of a matrix (★★☆) \n",
    "(**hint**: mean(axis=,keepdims=))"
   ]
  },
  {
   "cell_type": "code",
   "execution_count": null,
   "metadata": {
    "collapsed": true,
    "deletable": true,
    "editable": true
   },
   "outputs": [],
   "source": []
  },
  {
   "cell_type": "markdown",
   "metadata": {
    "deletable": true,
    "editable": true
   },
   "source": [
    "#### 59. How to sort an array by the nth column? (★★☆) \n",
    "(**hint**: argsort)"
   ]
  },
  {
   "cell_type": "code",
   "execution_count": null,
   "metadata": {
    "collapsed": true,
    "deletable": true,
    "editable": true
   },
   "outputs": [],
   "source": []
  },
  {
   "cell_type": "markdown",
   "metadata": {
    "deletable": true,
    "editable": true
   },
   "source": [
    "#### 60. How to tell if a given 2D array has null columns? (★★☆) \n",
    "(**hint**: any, ~)"
   ]
  },
  {
   "cell_type": "code",
   "execution_count": null,
   "metadata": {
    "collapsed": true,
    "deletable": true,
    "editable": true
   },
   "outputs": [],
   "source": []
  },
  {
   "cell_type": "markdown",
   "metadata": {
    "deletable": true,
    "editable": true
   },
   "source": [
    "#### 61. Find the nearest value from a given value in an array (★★☆) \n",
    "(**hint**: np.abs, argmin, flat)"
   ]
  },
  {
   "cell_type": "code",
   "execution_count": null,
   "metadata": {
    "collapsed": true,
    "deletable": true,
    "editable": true
   },
   "outputs": [],
   "source": []
  },
  {
   "cell_type": "markdown",
   "metadata": {
    "deletable": true,
    "editable": true
   },
   "source": [
    "#### 62. Considering two arrays with shape (1,3) and (3,1), how to compute their sum using an iterator? (★★☆) \n",
    "(**hint**: np.nditer)"
   ]
  },
  {
   "cell_type": "code",
   "execution_count": null,
   "metadata": {
    "collapsed": true,
    "deletable": true,
    "editable": true
   },
   "outputs": [],
   "source": []
  },
  {
   "cell_type": "markdown",
   "metadata": {
    "deletable": true,
    "editable": true
   },
   "source": [
    "#### 63. Create an array class that has a name attribute (★★☆) \n",
    "(**hint**: class method)"
   ]
  },
  {
   "cell_type": "code",
   "execution_count": null,
   "metadata": {
    "collapsed": true,
    "deletable": true,
    "editable": true
   },
   "outputs": [],
   "source": []
  },
  {
   "cell_type": "markdown",
   "metadata": {
    "deletable": true,
    "editable": true
   },
   "source": [
    "#### 64. Consider a given vector, how to add 1 to each element indexed by a second vector (be careful with repeated indices)? (★★★) \n",
    "(**hint**: np.bincount | np.add.at)"
   ]
  },
  {
   "cell_type": "code",
   "execution_count": null,
   "metadata": {
    "collapsed": true,
    "deletable": true,
    "editable": true
   },
   "outputs": [],
   "source": []
  },
  {
   "cell_type": "markdown",
   "metadata": {
    "deletable": true,
    "editable": true
   },
   "source": [
    "#### 65. How to accumulate elements of a vector (X) to an array (F) based on an index list (I)? (★★★) \n",
    "(**hint**: np.bincount)"
   ]
  },
  {
   "cell_type": "code",
   "execution_count": null,
   "metadata": {
    "collapsed": true,
    "deletable": true,
    "editable": true
   },
   "outputs": [],
   "source": []
  },
  {
   "cell_type": "markdown",
   "metadata": {
    "deletable": true,
    "editable": true
   },
   "source": [
    "#### 66. Considering a (w,h,3) image of (dtype=ubyte), compute the number of unique colors (★★★) \n",
    "(**hint**: np.unique)"
   ]
  },
  {
   "cell_type": "code",
   "execution_count": null,
   "metadata": {
    "collapsed": true,
    "deletable": true,
    "editable": true
   },
   "outputs": [],
   "source": []
  },
  {
   "cell_type": "markdown",
   "metadata": {
    "deletable": true,
    "editable": true
   },
   "source": [
    "#### 67. Considering a four dimensions array, how to get sum over the last two axis at once? (★★★) \n",
    "(**hint**: sum(axis=(-2,-1)))"
   ]
  },
  {
   "cell_type": "code",
   "execution_count": null,
   "metadata": {
    "collapsed": true,
    "deletable": true,
    "editable": true
   },
   "outputs": [],
   "source": []
  },
  {
   "cell_type": "markdown",
   "metadata": {
    "deletable": true,
    "editable": true
   },
   "source": [
    "#### 68. Considering a one-dimensional vector D, how to compute means of subsets of D using a vector S of same size describing subset  indices? (★★★) \n",
    "(**hint**: np.bincount)"
   ]
  },
  {
   "cell_type": "code",
   "execution_count": null,
   "metadata": {
    "collapsed": true,
    "deletable": true,
    "editable": true
   },
   "outputs": [],
   "source": []
  },
  {
   "cell_type": "markdown",
   "metadata": {
    "deletable": true,
    "editable": true
   },
   "source": [
    "#### 69. How to get the diagonal of a dot product? (★★★) \n",
    "(**hint**: np.diag)"
   ]
  },
  {
   "cell_type": "code",
   "execution_count": null,
   "metadata": {
    "collapsed": true,
    "deletable": true,
    "editable": true
   },
   "outputs": [],
   "source": []
  },
  {
   "cell_type": "markdown",
   "metadata": {
    "deletable": true,
    "editable": true
   },
   "source": [
    "#### 70. Consider the vector \\[1, 2, 3, 4, 5\\], how to build a new vector with 3 consecutive zeros interleaved between each value? (★★★) \n",
    "(**hint**: array\\[::4\\])"
   ]
  },
  {
   "cell_type": "code",
   "execution_count": null,
   "metadata": {
    "collapsed": true,
    "deletable": true,
    "editable": true
   },
   "outputs": [],
   "source": []
  },
  {
   "cell_type": "markdown",
   "metadata": {
    "deletable": true,
    "editable": true
   },
   "source": [
    "#### 71. Consider an array of dimension (5,5,3), how to mulitply it by an array with dimensions (5,5)? (★★★) \n",
    "(**hint**: array\\[:, :, None\\])"
   ]
  },
  {
   "cell_type": "code",
   "execution_count": null,
   "metadata": {
    "collapsed": true,
    "deletable": true,
    "editable": true
   },
   "outputs": [],
   "source": []
  },
  {
   "cell_type": "markdown",
   "metadata": {
    "deletable": true,
    "editable": true
   },
   "source": [
    "#### 72. How to swap two rows of an array? (★★★) \n",
    "(**hint**: array\\[\\[\\]\\] = array\\[\\[\\]\\])"
   ]
  },
  {
   "cell_type": "code",
   "execution_count": null,
   "metadata": {
    "collapsed": true,
    "deletable": true,
    "editable": true
   },
   "outputs": [],
   "source": []
  },
  {
   "cell_type": "markdown",
   "metadata": {
    "deletable": true,
    "editable": true
   },
   "source": [
    "#### 73. Consider a set of 10 triplets describing 10 triangles (with shared vertices), find the set of unique line segments composing all the  triangles (★★★) \n",
    "(**hint**: repeat, np.roll, np.sort, view, np.unique)"
   ]
  },
  {
   "cell_type": "code",
   "execution_count": null,
   "metadata": {
    "collapsed": true,
    "deletable": true,
    "editable": true
   },
   "outputs": [],
   "source": []
  },
  {
   "cell_type": "markdown",
   "metadata": {
    "deletable": true,
    "editable": true
   },
   "source": [
    "#### 74. Given an array C that is a bincount, how to produce an array A such that np.bincount(A) == C? (★★★) \n",
    "(**hint**: np.repeat)"
   ]
  },
  {
   "cell_type": "code",
   "execution_count": null,
   "metadata": {
    "collapsed": true,
    "deletable": true,
    "editable": true
   },
   "outputs": [],
   "source": []
  },
  {
   "cell_type": "markdown",
   "metadata": {
    "deletable": true,
    "editable": true
   },
   "source": [
    "#### 75. How to compute averages using a sliding window over an array? (★★★) \n",
    "(**hint**: np.cumsum)"
   ]
  },
  {
   "cell_type": "code",
   "execution_count": null,
   "metadata": {
    "collapsed": true,
    "deletable": true,
    "editable": true
   },
   "outputs": [],
   "source": []
  },
  {
   "cell_type": "markdown",
   "metadata": {
    "deletable": true,
    "editable": true
   },
   "source": [
    "#### 76. Consider a one-dimensional array Z, build a two-dimensional array whose first row is (Z\\[0\\],Z\\[1\\],Z\\[2\\]) and each subsequent row is  shifted by 1 (last row should be (Z\\[-3\\],Z\\[-2\\],Z\\[-1\\]) (★★★) \n",
    "(**hint**: from numpy.lib import stride_tricks)"
   ]
  },
  {
   "cell_type": "code",
   "execution_count": null,
   "metadata": {
    "collapsed": true,
    "deletable": true,
    "editable": true
   },
   "outputs": [],
   "source": []
  },
  {
   "cell_type": "markdown",
   "metadata": {
    "deletable": true,
    "editable": true
   },
   "source": [
    "#### 77. How to negate a boolean, or to change the sign of a float inplace? (★★★) \n",
    "(**hint**: np.logical_not, np.negative)"
   ]
  },
  {
   "cell_type": "code",
   "execution_count": null,
   "metadata": {
    "collapsed": true,
    "deletable": true,
    "editable": true
   },
   "outputs": [],
   "source": []
  },
  {
   "cell_type": "markdown",
   "metadata": {
    "deletable": true,
    "editable": true
   },
   "source": [
    "#### 78. Consider 2 sets of points P0,P1 describing lines (2d) and a point p, how to compute distance from p to each line i  (P0\\[i\\],P1\\[i\\])? (★★★)"
   ]
  },
  {
   "cell_type": "code",
   "execution_count": null,
   "metadata": {
    "collapsed": true,
    "deletable": true,
    "editable": true
   },
   "outputs": [],
   "source": []
  },
  {
   "cell_type": "markdown",
   "metadata": {
    "deletable": true,
    "editable": true
   },
   "source": [
    "#### 79. Consider 2 sets of points P0,P1 describing lines (2d) and a set of points P, how to compute distance from each point j (P\\[j\\]) to each line i (P0\\[i\\],P1\\[i\\])? (★★★)"
   ]
  },
  {
   "cell_type": "code",
   "execution_count": null,
   "metadata": {
    "collapsed": true,
    "deletable": true,
    "editable": true
   },
   "outputs": [],
   "source": []
  },
  {
   "cell_type": "markdown",
   "metadata": {
    "deletable": true,
    "editable": true
   },
   "source": [
    "#### 80. Consider an arbitrary array, write a function that extract a subpart with a fixed shape and centered on a given element (pad with a `fill` value when necessary) (★★★) \n",
    "(**hint**: minimum, maximum)"
   ]
  },
  {
   "cell_type": "code",
   "execution_count": null,
   "metadata": {
    "collapsed": true,
    "deletable": true,
    "editable": true
   },
   "outputs": [],
   "source": []
  },
  {
   "cell_type": "markdown",
   "metadata": {
    "deletable": true,
    "editable": true
   },
   "source": [
    "#### 81. Consider an array Z = \\[1,2,3,4,5,6,7,8,9,10,11,12,13,14\\], how to generate an array R = \\[\\[1,2,3,4\\], \\[2,3,4,5\\], \\[3,4,5,6\\], ..., \\[11,12,13,14\\]\\]? (★★★) \n",
    "(**hint**: stride\\_tricks.as\\_strided)"
   ]
  },
  {
   "cell_type": "code",
   "execution_count": null,
   "metadata": {
    "collapsed": true,
    "deletable": true,
    "editable": true
   },
   "outputs": [],
   "source": []
  },
  {
   "cell_type": "markdown",
   "metadata": {
    "deletable": true,
    "editable": true
   },
   "source": [
    "#### 82. Compute a matrix rank (★★★) \n",
    "(**hint**: np.linalg.svd) (suggestion: np.linalg.svd)"
   ]
  },
  {
   "cell_type": "code",
   "execution_count": null,
   "metadata": {
    "collapsed": true,
    "deletable": true,
    "editable": true
   },
   "outputs": [],
   "source": []
  },
  {
   "cell_type": "markdown",
   "metadata": {
    "deletable": true,
    "editable": true
   },
   "source": [
    "#### 83. How to find the most frequent value in an array? \n",
    "(**hint**: np.bincount, argmax)"
   ]
  },
  {
   "cell_type": "code",
   "execution_count": null,
   "metadata": {
    "collapsed": true,
    "deletable": true,
    "editable": true
   },
   "outputs": [],
   "source": []
  },
  {
   "cell_type": "markdown",
   "metadata": {
    "deletable": true,
    "editable": true
   },
   "source": [
    "#### 84. Extract all the contiguous 3x3 blocks from a random 10x10 matrix (★★★) \n",
    "(**hint**: stride\\_tricks.as\\_strided)"
   ]
  },
  {
   "cell_type": "code",
   "execution_count": null,
   "metadata": {
    "collapsed": true,
    "deletable": true,
    "editable": true
   },
   "outputs": [],
   "source": []
  },
  {
   "cell_type": "markdown",
   "metadata": {
    "deletable": true,
    "editable": true
   },
   "source": [
    "#### 85. Create a 2D array subclass such that Z\\[i,j\\] == Z\\[j,i\\] (★★★) \n",
    "(**hint**: class method)"
   ]
  },
  {
   "cell_type": "code",
   "execution_count": null,
   "metadata": {
    "collapsed": true,
    "deletable": true,
    "editable": true
   },
   "outputs": [],
   "source": []
  },
  {
   "cell_type": "markdown",
   "metadata": {
    "deletable": true,
    "editable": true
   },
   "source": [
    "#### 86. Consider a set of p matrices wich shape (n,n) and a set of p vectors with shape (n,1). How to compute the sum of of the p matrix products at once? (result has shape (n,1)) (★★★) \n",
    "(**hint**: np.tensordot)"
   ]
  },
  {
   "cell_type": "code",
   "execution_count": null,
   "metadata": {
    "collapsed": true,
    "deletable": true,
    "editable": true
   },
   "outputs": [],
   "source": []
  },
  {
   "cell_type": "markdown",
   "metadata": {
    "deletable": true,
    "editable": true
   },
   "source": [
    "#### 87. Consider a 16x16 array, how to get the block-sum (block size is 4x4)? (★★★) \n",
    "(**hint**: np.add.reduceat)"
   ]
  },
  {
   "cell_type": "code",
   "execution_count": null,
   "metadata": {
    "collapsed": true,
    "deletable": true,
    "editable": true
   },
   "outputs": [],
   "source": []
  },
  {
   "cell_type": "markdown",
   "metadata": {
    "deletable": true,
    "editable": true
   },
   "source": [
    "#### 88. How to implement the Game of Life using numpy arrays? (★★★)"
   ]
  },
  {
   "cell_type": "code",
   "execution_count": null,
   "metadata": {
    "collapsed": true,
    "deletable": true,
    "editable": true
   },
   "outputs": [],
   "source": []
  },
  {
   "cell_type": "markdown",
   "metadata": {
    "deletable": true,
    "editable": true
   },
   "source": [
    "#### 89. How to get the n largest values of an array (★★★) \n",
    "(**hint**: np.argsort | np.argpartition)"
   ]
  },
  {
   "cell_type": "code",
   "execution_count": null,
   "metadata": {
    "collapsed": true,
    "deletable": true,
    "editable": true
   },
   "outputs": [],
   "source": []
  },
  {
   "cell_type": "markdown",
   "metadata": {
    "deletable": true,
    "editable": true
   },
   "source": [
    "#### 90. Given an arbitrary number of vectors, build the cartesian product (every combinations of every item) (★★★) \n",
    "(**hint**: np.indices)"
   ]
  },
  {
   "cell_type": "code",
   "execution_count": null,
   "metadata": {
    "collapsed": true,
    "deletable": true,
    "editable": true,
    "scrolled": true
   },
   "outputs": [],
   "source": []
  },
  {
   "cell_type": "markdown",
   "metadata": {
    "deletable": true,
    "editable": true
   },
   "source": [
    "#### 91. How to create a record array from a regular array? (★★★) \n",
    "(**hint**: np.core.records.fromarrays)"
   ]
  },
  {
   "cell_type": "code",
   "execution_count": null,
   "metadata": {
    "collapsed": true,
    "deletable": true,
    "editable": true
   },
   "outputs": [],
   "source": []
  },
  {
   "cell_type": "markdown",
   "metadata": {
    "deletable": true,
    "editable": true
   },
   "source": [
    "#### 92. Consider a large vector Z, compute Z to the power of 3 using 3 different methods (★★★) \n",
    "(**hint**: np.power, \\*, np.einsum)"
   ]
  },
  {
   "cell_type": "code",
   "execution_count": null,
   "metadata": {
    "collapsed": true,
    "deletable": true,
    "editable": true
   },
   "outputs": [],
   "source": []
  },
  {
   "cell_type": "markdown",
   "metadata": {
    "deletable": true,
    "editable": true
   },
   "source": [
    "#### 93. Consider two arrays A and B of shape (8,3) and (2,2). How to find rows of A that contain elements of each row of B regardless of the order of the elements in B? (★★★) \n",
    "(**hint**: np.where)"
   ]
  },
  {
   "cell_type": "code",
   "execution_count": null,
   "metadata": {
    "collapsed": true,
    "deletable": true,
    "editable": true
   },
   "outputs": [],
   "source": []
  },
  {
   "cell_type": "markdown",
   "metadata": {
    "deletable": true,
    "editable": true
   },
   "source": [
    "#### 94. Considering a 10x3 matrix, extract rows with unequal values (e.g. \\[2,2,3\\]) (★★★)"
   ]
  },
  {
   "cell_type": "code",
   "execution_count": null,
   "metadata": {
    "collapsed": true,
    "deletable": true,
    "editable": true
   },
   "outputs": [],
   "source": []
  },
  {
   "cell_type": "markdown",
   "metadata": {
    "deletable": true,
    "editable": true
   },
   "source": [
    "#### 95. Convert a vector of ints into a matrix binary representation (★★★) \n",
    "(**hint**: np.unpackbits)"
   ]
  },
  {
   "cell_type": "code",
   "execution_count": null,
   "metadata": {
    "collapsed": true,
    "deletable": true,
    "editable": true
   },
   "outputs": [],
   "source": []
  },
  {
   "cell_type": "markdown",
   "metadata": {
    "deletable": true,
    "editable": true
   },
   "source": [
    "#### 96. Given a two dimensional array, how to extract unique rows? (★★★) \n",
    "(**hint**: np.ascontiguousarray | np.unique)"
   ]
  },
  {
   "cell_type": "code",
   "execution_count": null,
   "metadata": {
    "collapsed": true,
    "deletable": true,
    "editable": true
   },
   "outputs": [],
   "source": []
  },
  {
   "cell_type": "markdown",
   "metadata": {
    "deletable": true,
    "editable": true
   },
   "source": [
    "#### 97. Considering 2 vectors A & B, write the einsum equivalent of inner, outer, sum, and mul function (★★★) \n",
    "(**hint**: np.einsum)"
   ]
  },
  {
   "cell_type": "code",
   "execution_count": null,
   "metadata": {
    "collapsed": true,
    "deletable": true,
    "editable": true
   },
   "outputs": [],
   "source": []
  },
  {
   "cell_type": "markdown",
   "metadata": {
    "deletable": true,
    "editable": true
   },
   "source": [
    "#### 98. Considering a path described by two vectors (X,Y), how to sample it using equidistant samples (★★★)? \n",
    "(**hint**: np.cumsum, np.interp)"
   ]
  },
  {
   "cell_type": "code",
   "execution_count": null,
   "metadata": {
    "collapsed": true,
    "deletable": true,
    "editable": true
   },
   "outputs": [],
   "source": []
  },
  {
   "cell_type": "markdown",
   "metadata": {
    "deletable": true,
    "editable": true
   },
   "source": [
    "#### 99. Given an integer n and a 2D array X, select from X the rows which can be interpreted as draws from a multinomial distribution with n degrees, i.e., the rows which only contain integers and which sum to n. (★★★) \n",
    "(**hint**: np.logical\\_and.reduce, np.mod)"
   ]
  },
  {
   "cell_type": "code",
   "execution_count": null,
   "metadata": {
    "collapsed": true,
    "deletable": true,
    "editable": true
   },
   "outputs": [],
   "source": []
  },
  {
   "cell_type": "markdown",
   "metadata": {
    "deletable": true,
    "editable": true
   },
   "source": [
    "#### 100. Compute bootstrapped 95% confidence intervals for the mean of a 1D array X (i.e., resample the elements of an array with replacement N times, compute the mean of each sample, and then compute percentiles over the means). (★★★) \n",
    "(**hint**: np.percentile)"
   ]
  },
  {
   "cell_type": "code",
   "execution_count": null,
   "metadata": {
    "collapsed": true,
    "deletable": true,
    "editable": true
   },
   "outputs": [],
   "source": []
  }
 ],
 "metadata": {
  "kernelspec": {
   "display_name": "Python 3",
   "language": "python",
   "name": "python3"
  },
  "language_info": {
   "codemirror_mode": {
    "name": "ipython",
    "version": 3
   },
   "file_extension": ".py",
   "mimetype": "text/x-python",
   "name": "python",
   "nbconvert_exporter": "python",
   "pygments_lexer": "ipython3",
   "version": "3.5.3"
  }
 },
 "nbformat": 4,
 "nbformat_minor": 1
}
