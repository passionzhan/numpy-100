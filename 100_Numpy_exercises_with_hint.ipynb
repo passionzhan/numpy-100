{
 "cells": [
  {
   "cell_type": "markdown",
   "metadata": {},
   "source": [
    "# 100 numpy exercises with hint\n",
    "\n",
    "This is a collection of exercises that have been collected in the numpy mailing list, on stack overflow and in the numpy documentation. The goal of this collection is to offer a quick reference for both old and new users but also to provide a set of exercises for those who teach.\n",
    "\n",
    "\n",
    "If you find an error or think you've a better way to solve some of them, feel free to open an issue at <https://github.com/rougier/numpy-100>"
   ]
  },
  {
   "cell_type": "markdown",
   "metadata": {},
   "source": [
    "#### 1. Import the numpy package under the name `np` (★☆☆) \n",
    "(**hint**: import … as …)"
   ]
  },
  {
   "cell_type": "code",
   "execution_count": 2,
   "metadata": {
    "collapsed": true
   },
   "outputs": [],
   "source": [
    "import numpy as np"
   ]
  },
  {
   "cell_type": "markdown",
   "metadata": {},
   "source": [
    "#### 2. Print the numpy version and the configuration (★☆☆) \n",
    "(**hint**: np.\\_\\_version\\_\\_, np.show\\_config)"
   ]
  },
  {
   "cell_type": "code",
   "execution_count": 11,
   "metadata": {},
   "outputs": [
    {
     "name": "stdout",
     "output_type": "stream",
     "text": [
      "1.15.0rc2\n",
      "lapack_mkl_info:\n",
      "    libraries = ['mkl_lapack95_lp64', 'mkl_blas95_lp64', 'mkl_rt']\n",
      "    include_dirs = ['C:/Program Files (x86)/IntelSWTools/compilers_and_libraries_2018/windows/mkl/include']\n",
      "    library_dirs = ['C:/Program Files (x86)/IntelSWTools/compilers_and_libraries_2018/windows/mkl/lib/intel64_win']\n",
      "    define_macros = [('SCIPY_MKL_H', None), ('HAVE_CBLAS', None)]\n",
      "blas_opt_info:\n",
      "    libraries = ['mkl_lapack95_lp64', 'mkl_blas95_lp64', 'mkl_rt']\n",
      "    include_dirs = ['C:/Program Files (x86)/IntelSWTools/compilers_and_libraries_2018/windows/mkl/include']\n",
      "    library_dirs = ['C:/Program Files (x86)/IntelSWTools/compilers_and_libraries_2018/windows/mkl/lib/intel64_win']\n",
      "    define_macros = [('SCIPY_MKL_H', None), ('HAVE_CBLAS', None)]\n",
      "lapack_opt_info:\n",
      "    libraries = ['mkl_lapack95_lp64', 'mkl_blas95_lp64', 'mkl_rt']\n",
      "    include_dirs = ['C:/Program Files (x86)/IntelSWTools/compilers_and_libraries_2018/windows/mkl/include']\n",
      "    library_dirs = ['C:/Program Files (x86)/IntelSWTools/compilers_and_libraries_2018/windows/mkl/lib/intel64_win']\n",
      "    define_macros = [('SCIPY_MKL_H', None), ('HAVE_CBLAS', None)]\n",
      "blas_mkl_info:\n",
      "    libraries = ['mkl_lapack95_lp64', 'mkl_blas95_lp64', 'mkl_rt']\n",
      "    include_dirs = ['C:/Program Files (x86)/IntelSWTools/compilers_and_libraries_2018/windows/mkl/include']\n",
      "    library_dirs = ['C:/Program Files (x86)/IntelSWTools/compilers_and_libraries_2018/windows/mkl/lib/intel64_win']\n",
      "    define_macros = [('SCIPY_MKL_H', None), ('HAVE_CBLAS', None)]\n",
      "None\n"
     ]
    }
   ],
   "source": [
    "print(np.__version__)\n",
    "print(np.show_config())"
   ]
  },
  {
   "cell_type": "raw",
   "metadata": {},
   "source": [
    "#### 3. Create a null vector of size 10 (★☆☆) \n",
    "(**hint**: np.zeros)"
   ]
  },
  {
   "cell_type": "code",
   "execution_count": 13,
   "metadata": {},
   "outputs": [
    {
     "name": "stdout",
     "output_type": "stream",
     "text": [
      "[0. 0. 0. 0. 0. 0. 0. 0. 0. 0.]\n"
     ]
    }
   ],
   "source": [
    "A = np.zeros(shape=(10,))\n",
    "print(A)"
   ]
  },
  {
   "cell_type": "markdown",
   "metadata": {},
   "source": [
    "#### 4.  How to find the memory size of any array (★☆☆) \n",
    "(**hint**: size, itemsize)"
   ]
  },
  {
   "cell_type": "code",
   "execution_count": 26,
   "metadata": {},
   "outputs": [
    {
     "name": "stdout",
     "output_type": "stream",
     "text": [
      "10\n",
      "80\n",
      "8\n",
      "float64\n"
     ]
    }
   ],
   "source": [
    "print(np.size(A))\n",
    "print(A.nbytes)\n",
    "print(A.itemsize)\n",
    "print(A.dtype)\n",
    "# itemsize\n",
    "# itemsize(A)\n",
    "# print(np.itemsize(A))"
   ]
  },
  {
   "cell_type": "markdown",
   "metadata": {},
   "source": [
    "#### 5.  How to get the documentation of the numpy add function from the command line? (★☆☆) \n",
    "(**hint**: np.info)"
   ]
  },
  {
   "cell_type": "code",
   "execution_count": 30,
   "metadata": {},
   "outputs": [
    {
     "name": "stdout",
     "output_type": "stream",
     "text": [
      "     *** Found in numpy ***\n",
      "array(object, dtype=None, copy=True, order='K', subok=False, ndmin=0)\n",
      "\n",
      "Create an array.\n",
      "\n",
      "Parameters\n",
      "----------\n",
      "object : array_like\n",
      "    An array, any object exposing the array interface, an object whose\n",
      "    __array__ method returns an array, or any (nested) sequence.\n",
      "dtype : data-type, optional\n",
      "    The desired data-type for the array.  If not given, then the type will\n",
      "    be determined as the minimum type required to hold the objects in the\n",
      "    sequence.  This argument can only be used to 'upcast' the array.  For\n",
      "    downcasting, use the .astype(t) method.\n",
      "copy : bool, optional\n",
      "    If true (default), then the object is copied.  Otherwise, a copy will\n",
      "    only be made if __array__ returns a copy, if obj is a nested sequence,\n",
      "    or if a copy is needed to satisfy any of the other requirements\n",
      "    (`dtype`, `order`, etc.).\n",
      "order : {'K', 'A', 'C', 'F'}, optional\n",
      "    Specify the memory layout of the array. If object is not an array, the\n",
      "    newly created array will be in C order (row major) unless 'F' is\n",
      "    specified, in which case it will be in Fortran order (column major).\n",
      "    If object is an array the following holds.\n",
      "\n",
      "    ===== ========= ===================================================\n",
      "    order  no copy                     copy=True\n",
      "    ===== ========= ===================================================\n",
      "    'K'   unchanged F & C order preserved, otherwise most similar order\n",
      "    'A'   unchanged F order if input is F and not C, otherwise C order\n",
      "    'C'   C order   C order\n",
      "    'F'   F order   F order\n",
      "    ===== ========= ===================================================\n",
      "\n",
      "    When ``copy=False`` and a copy is made for other reasons, the result is\n",
      "    the same as if ``copy=True``, with some exceptions for `A`, see the\n",
      "    Notes section. The default order is 'K'.\n",
      "subok : bool, optional\n",
      "    If True, then sub-classes will be passed-through, otherwise\n",
      "    the returned array will be forced to be a base-class array (default).\n",
      "ndmin : int, optional\n",
      "    Specifies the minimum number of dimensions that the resulting\n",
      "    array should have.  Ones will be pre-pended to the shape as\n",
      "    needed to meet this requirement.\n",
      "\n",
      "Returns\n",
      "-------\n",
      "out : ndarray\n",
      "    An array object satisfying the specified requirements.\n",
      "\n",
      "See Also\n",
      "--------\n",
      "empty_like : Return an empty array with shape and type of input.\n",
      "ones_like : Return an array of ones with shape and type of input.\n",
      "zeros_like : Return an array of zeros with shape and type of input.\n",
      "full_like : Return a new array with shape of input filled with value.\n",
      "empty : Return a new uninitialized array.\n",
      "ones : Return a new array setting values to one.\n",
      "zeros : Return a new array setting values to zero.\n",
      "full : Return a new array of given shape filled with value.\n",
      "\n",
      "\n",
      "Notes\n",
      "-----\n",
      "When order is 'A' and `object` is an array in neither 'C' nor 'F' order,\n",
      "and a copy is forced by a change in dtype, then the order of the result is\n",
      "not necessarily 'C' as expected. This is likely a bug.\n",
      "\n",
      "Examples\n",
      "--------\n",
      ">>> np.array([1, 2, 3])\n",
      "array([1, 2, 3])\n",
      "\n",
      "Upcasting:\n",
      "\n",
      ">>> np.array([1, 2, 3.0])\n",
      "array([ 1.,  2.,  3.])\n",
      "\n",
      "More than one dimension:\n",
      "\n",
      ">>> np.array([[1, 2], [3, 4]])\n",
      "array([[1, 2],\n",
      "       [3, 4]])\n",
      "\n",
      "Minimum dimensions 2:\n",
      "\n",
      ">>> np.array([1, 2, 3], ndmin=2)\n",
      "array([[1, 2, 3]])\n",
      "\n",
      "Type provided:\n",
      "\n",
      ">>> np.array([1, 2, 3], dtype=complex)\n",
      "array([ 1.+0.j,  2.+0.j,  3.+0.j])\n",
      "\n",
      "Data-type consisting of more than one element:\n",
      "\n",
      ">>> x = np.array([(1,2),(3,4)],dtype=[('a','<i4'),('b','<i4')])\n",
      ">>> x['a']\n",
      "array([1, 3])\n",
      "\n",
      "Creating an array from sub-classes:\n",
      "\n",
      ">>> np.array(np.mat('1 2; 3 4'))\n",
      "array([[1, 2],\n",
      "       [3, 4]])\n",
      "\n",
      ">>> np.array(np.mat('1 2; 3 4'), subok=True)\n",
      "matrix([[1, 2],\n",
      "        [3, 4]])\n",
      "----------------------------------------------------------------------------\n",
      "     *** Found in numpy.ma ***\n",
      " array(data, dtype=None, copy=False, order=None, mask=False, fill_value=None,\n",
      "       keep_mask=True, hard_mask=False, shrink=True, subok=True, ndmin=0)\n",
      "\n",
      "An array class with possibly masked values.\n",
      "\n",
      "Masked values of True exclude the corresponding element from any\n",
      "computation.\n",
      "\n",
      "Construction::\n",
      "\n",
      "  x = MaskedArray(data, mask=nomask, dtype=None, copy=False, subok=True,\n",
      "                  ndmin=0, fill_value=None, keep_mask=True, hard_mask=None,\n",
      "                  shrink=True, order=None)\n",
      "\n",
      "Parameters\n",
      "----------\n",
      "data : array_like\n",
      "    Input data.\n",
      "mask : sequence, optional\n",
      "    Mask. Must be convertible to an array of booleans with the same\n",
      "    shape as `data`. True indicates a masked (i.e. invalid) data.\n",
      "dtype : dtype, optional\n",
      "    Data type of the output.\n",
      "    If `dtype` is None, the type of the data argument (``data.dtype``)\n",
      "    is used. If `dtype` is not None and different from ``data.dtype``,\n",
      "    a copy is performed.\n",
      "copy : bool, optional\n",
      "    Whether to copy the input data (True), or to use a reference instead.\n",
      "    Default is False.\n",
      "subok : bool, optional\n",
      "    Whether to return a subclass of `MaskedArray` if possible (True) or a\n",
      "    plain `MaskedArray`. Default is True.\n",
      "ndmin : int, optional\n",
      "    Minimum number of dimensions. Default is 0.\n",
      "fill_value : scalar, optional\n",
      "    Value used to fill in the masked values when necessary.\n",
      "    If None, a default based on the data-type is used.\n",
      "keep_mask : bool, optional\n",
      "    Whether to combine `mask` with the mask of the input data, if any\n",
      "    (True), or to use only `mask` for the output (False). Default is True.\n",
      "hard_mask : bool, optional\n",
      "    Whether to use a hard mask or not. With a hard mask, masked values\n",
      "    cannot be unmasked. Default is False.\n",
      "shrink : bool, optional\n",
      "    Whether to force compression of an empty mask. Default is True.\n",
      "order : {'C', 'F', 'A'}, optional\n",
      "    Specify the order of the array.  If order is 'C', then the array\n",
      "    will be in C-contiguous order (last-index varies the fastest).\n",
      "    If order is 'F', then the returned array will be in\n",
      "    Fortran-contiguous order (first-index varies the fastest).\n",
      "    If order is 'A' (default), then the returned array may be\n",
      "    in any order (either C-, Fortran-contiguous, or even discontiguous),\n",
      "    unless a copy is required, in which case it will be C-contiguous.\n",
      "----------------------------------------------------------------------------\n",
      "     *** Found in numpy.core.defchararray ***\n",
      " array(obj, itemsize=None, copy=True, unicode=None, order=None)\n",
      "\n",
      "Create a `chararray`.\n",
      "\n",
      ".. note::\n",
      "   This class is provided for numarray backward-compatibility.\n",
      "   New code (not concerned with numarray compatibility) should use\n",
      "   arrays of type `string_` or `unicode_` and use the free functions\n",
      "   in :mod:`numpy.char <numpy.core.defchararray>` for fast\n",
      "   vectorized string operations instead.\n",
      "\n",
      "Versus a regular NumPy array of type `str` or `unicode`, this\n",
      "class adds the following functionality:\n",
      "\n",
      "  1) values automatically have whitespace removed from the end\n",
      "     when indexed\n",
      "\n",
      "  2) comparison operators automatically remove whitespace from the\n",
      "     end when comparing values\n",
      "\n",
      "  3) vectorized string operations are provided as methods\n",
      "     (e.g. `str.endswith`) and infix operators (e.g. ``+, *, %``)\n",
      "\n",
      "Parameters\n",
      "----------\n",
      "obj : array of str or unicode-like\n",
      "\n",
      "itemsize : int, optional\n",
      "    `itemsize` is the number of characters per scalar in the\n",
      "    resulting array.  If `itemsize` is None, and `obj` is an\n",
      "    object array or a Python list, the `itemsize` will be\n",
      "    automatically determined.  If `itemsize` is provided and `obj`\n",
      "    is of type str or unicode, then the `obj` string will be\n",
      "    chunked into `itemsize` pieces.\n",
      "\n",
      "copy : bool, optional\n",
      "    If true (default), then the object is copied.  Otherwise, a copy\n",
      "    will only be made if __array__ returns a copy, if obj is a\n",
      "    nested sequence, or if a copy is needed to satisfy any of the other\n",
      "    requirements (`itemsize`, unicode, `order`, etc.).\n",
      "\n",
      "unicode : bool, optional\n",
      "    When true, the resulting `chararray` can contain Unicode\n",
      "    characters, when false only 8-bit characters.  If unicode is\n",
      "    `None` and `obj` is one of the following:\n",
      "\n",
      "      - a `chararray`,\n",
      "      - an ndarray of type `str` or `unicode`\n",
      "      - a Python str or unicode object,\n",
      "\n",
      "    then the unicode setting of the output array will be\n",
      "    automatically determined.\n",
      "\n",
      "order : {'C', 'F', 'A'}, optional\n",
      "    Specify the order of the array.  If order is 'C' (default), then the\n",
      "    array will be in C-contiguous order (last-index varies the\n",
      "    fastest).  If order is 'F', then the returned array\n",
      "    will be in Fortran-contiguous order (first-index varies the\n",
      "    fastest).  If order is 'A', then the returned array may\n",
      "    be in any order (either C-, Fortran-contiguous, or even\n",
      "    discontiguous).\n",
      "----------------------------------------------------------------------------\n",
      "\n",
      "     *** Repeat reference found in numpy.core *** \n",
      "\n",
      "     *** Repeat reference found in numpy.ctypeslib *** \n",
      "     *** Found in numpy.core.records ***\n",
      " array(obj, dtype=None, shape=None, offset=0, strides=None, formats=None,\n",
      "       names=None, titles=None, aligned=False, byteorder=None, copy=True)\n",
      "\n",
      "Construct a record array from a wide-variety of objects.\n",
      "    \n",
      "----------------------------------------------------------------------------\n",
      "\n",
      "     *** Repeat reference found in numpy.ma.core *** \n",
      "\n",
      "     *** Repeat reference found in numpy.ma.extras *** \n",
      "\n",
      "     *** Repeat reference found in numpy.lib.shape_base *** \n",
      "\n",
      "     *** Repeat reference found in numpy.lib.function_base *** \n",
      "\n",
      "     *** Repeat reference found in numpy.lib.index_tricks *** \n",
      "\n",
      "     *** Repeat reference found in numpy.lib.type_check *** \n",
      "\n",
      "     *** Repeat reference found in numpy.lib.polynomial *** \n",
      "\n",
      "     *** Repeat reference found in numpy.core.numeric *** \n",
      "\n",
      "     *** Repeat reference found in numpy.core.arrayprint *** \n",
      "\n",
      "     *** Repeat reference found in numpy.core.fromnumeric *** \n",
      "\n",
      "     *** Repeat reference found in numpy.core._internal *** \n",
      "\n",
      "     *** Repeat reference found in numpy.core.multiarray *** \n",
      "\n",
      "     *** Repeat reference found in numpy.core.shape_base *** \n",
      "\n",
      "     *** Repeat reference found in numpy.core.numerictypes *** \n",
      "\n",
      "     *** Repeat reference found in numpy.core.getlimits *** \n",
      "\n",
      "     *** Repeat reference found in numpy.fft.fftpack *** \n",
      "\n",
      "     *** Repeat reference found in numpy.linalg.linalg *** \n",
      "\n",
      "     *** Repeat reference found in numpy.testing._private.utils *** \n",
      "\n",
      "     *** Total of 24 references found. ***\n"
     ]
    }
   ],
   "source": [
    "np.info('array')"
   ]
  },
  {
   "cell_type": "markdown",
   "metadata": {},
   "source": [
    "#### 6.  Create a null vector of size 10 but the fifth value which is 1 (★☆☆) \n",
    "(**hint**: array\\[4\\])"
   ]
  },
  {
   "cell_type": "code",
   "execution_count": 34,
   "metadata": {},
   "outputs": [
    {
     "name": "stdout",
     "output_type": "stream",
     "text": [
      "[0. 0. 0. 0. 1. 0. 0. 0. 0. 0.]\n"
     ]
    }
   ],
   "source": [
    "B = np.zeros(shape=(10,))\n",
    "B[4] = 1.0\n",
    "print(B)"
   ]
  },
  {
   "cell_type": "markdown",
   "metadata": {},
   "source": [
    "#### 7.  Create a vector with values ranging from 10 to 49 (★☆☆) \n",
    "(**hint**: np.arange)"
   ]
  },
  {
   "cell_type": "code",
   "execution_count": 39,
   "metadata": {},
   "outputs": [
    {
     "name": "stdout",
     "output_type": "stream",
     "text": [
      "[10 11 12 13 14 15 16 17 18 19 20 21 22 23 24 25 26 27 28 29 30 31 32 33\n",
      " 34 35 36 37 38 39 40 41 42 43 44 45 46 47 48]\n",
      "4\n",
      "39\n",
      "     *** Found in numpy ***\n",
      "arange([start,] stop[, step,], dtype=None)\n",
      "\n",
      "Return evenly spaced values within a given interval.\n",
      "\n",
      "Values are generated within the half-open interval ``[start, stop)``\n",
      "(in other words, the interval including `start` but excluding `stop`).\n",
      "For integer arguments the function is equivalent to the Python built-in\n",
      "`range <http://docs.python.org/lib/built-in-funcs.html>`_ function,\n",
      "but returns an ndarray rather than a list.\n",
      "\n",
      "When using a non-integer step, such as 0.1, the results will often not\n",
      "be consistent.  It is better to use ``linspace`` for these cases.\n",
      "\n",
      "Parameters\n",
      "----------\n",
      "start : number, optional\n",
      "    Start of interval.  The interval includes this value.  The default\n",
      "    start value is 0.\n",
      "stop : number\n",
      "    End of interval.  The interval does not include this value, except\n",
      "    in some cases where `step` is not an integer and floating point\n",
      "    round-off affects the length of `out`.\n",
      "step : number, optional\n",
      "    Spacing between values.  For any output `out`, this is the distance\n",
      "    between two adjacent values, ``out[i+1] - out[i]``.  The default\n",
      "    step size is 1.  If `step` is specified as a position argument,\n",
      "    `start` must also be given.\n",
      "dtype : dtype\n",
      "    The type of the output array.  If `dtype` is not given, infer the data\n",
      "    type from the other input arguments.\n",
      "\n",
      "Returns\n",
      "-------\n",
      "arange : ndarray\n",
      "    Array of evenly spaced values.\n",
      "\n",
      "    For floating point arguments, the length of the result is\n",
      "    ``ceil((stop - start)/step)``.  Because of floating point overflow,\n",
      "    this rule may result in the last element of `out` being greater\n",
      "    than `stop`.\n",
      "\n",
      "See Also\n",
      "--------\n",
      "linspace : Evenly spaced numbers with careful handling of endpoints.\n",
      "ogrid: Arrays of evenly spaced numbers in N-dimensions.\n",
      "mgrid: Grid-shaped arrays of evenly spaced numbers in N-dimensions.\n",
      "\n",
      "Examples\n",
      "--------\n",
      ">>> np.arange(3)\n",
      "array([0, 1, 2])\n",
      ">>> np.arange(3.0)\n",
      "array([ 0.,  1.,  2.])\n",
      ">>> np.arange(3,7)\n",
      "array([3, 4, 5, 6])\n",
      ">>> np.arange(3,7,2)\n",
      "array([3, 5])\n",
      "----------------------------------------------------------------------------\n",
      "     *** Found in numpy.ma ***\n",
      "arange([start,] stop[, step,], dtype=None)\n",
      "\n",
      "Return evenly spaced values within a given interval.\n",
      "\n",
      "Values are generated within the half-open interval ``[start, stop)``\n",
      "(in other words, the interval including `start` but excluding `stop`).\n",
      "For integer arguments the function is equivalent to the Python built-in\n",
      "`range <http://docs.python.org/lib/built-in-funcs.html>`_ function,\n",
      "but returns an ndarray rather than a list.\n",
      "\n",
      "When using a non-integer step, such as 0.1, the results will often not\n",
      "be consistent.  It is better to use ``linspace`` for these cases.\n",
      "\n",
      "Parameters\n",
      "----------\n",
      "start : number, optional\n",
      "    Start of interval.  The interval includes this value.  The default\n",
      "    start value is 0.\n",
      "stop : number\n",
      "    End of interval.  The interval does not include this value, except\n",
      "    in some cases where `step` is not an integer and floating point\n",
      "    round-off affects the length of `out`.\n",
      "step : number, optional\n",
      "    Spacing between values.  For any output `out`, this is the distance\n",
      "    between two adjacent values, ``out[i+1] - out[i]``.  The default\n",
      "    step size is 1.  If `step` is specified as a position argument,\n",
      "    `start` must also be given.\n",
      "dtype : dtype\n",
      "    The type of the output array.  If `dtype` is not given, infer the data\n",
      "    type from the other input arguments.\n",
      "\n",
      "Returns\n",
      "-------\n",
      "arange : ndarray\n",
      "    Array of evenly spaced values.\n",
      "\n",
      "    For floating point arguments, the length of the result is\n",
      "    ``ceil((stop - start)/step)``.  Because of floating point overflow,\n",
      "    this rule may result in the last element of `out` being greater\n",
      "    than `stop`.\n",
      "\n",
      "See Also\n",
      "--------\n",
      "linspace : Evenly spaced numbers with careful handling of endpoints.\n",
      "ogrid: Arrays of evenly spaced numbers in N-dimensions.\n",
      "mgrid: Grid-shaped arrays of evenly spaced numbers in N-dimensions.\n",
      "\n",
      "Examples\n",
      "--------\n",
      ">>> np.arange(3)\n",
      "array([0, 1, 2])\n",
      ">>> np.arange(3.0)\n",
      "array([ 0.,  1.,  2.])\n",
      ">>> np.arange(3,7)\n",
      "array([3, 4, 5, 6])\n",
      ">>> np.arange(3,7,2)\n",
      "array([3, 5])\n",
      "----------------------------------------------------------------------------\n",
      "\n",
      "     *** Repeat reference found in numpy.core *** \n",
      "\n",
      "     *** Repeat reference found in numpy.ma.core *** \n",
      "\n",
      "     *** Repeat reference found in numpy.lib.function_base *** \n",
      "\n",
      "     *** Repeat reference found in numpy.lib.index_tricks *** \n",
      "\n",
      "     *** Repeat reference found in numpy.lib.twodim_base *** \n",
      "\n",
      "     *** Repeat reference found in numpy.core.numeric *** \n",
      "\n",
      "     *** Repeat reference found in numpy.core.multiarray *** \n",
      "\n",
      "     *** Repeat reference found in numpy.fft.helper *** \n",
      "\n",
      "     *** Repeat reference found in numpy.testing._private.utils *** \n",
      "\n",
      "     *** Total of 11 references found. ***\n"
     ]
    }
   ],
   "source": [
    "C = np.arange(10,49,1)\n",
    "print(C)\n",
    "print(C.itemsize)\n",
    "print(C.size)\n",
    "np.info('arange')"
   ]
  },
  {
   "cell_type": "markdown",
   "metadata": {},
   "source": [
    "#### 8.  Reverse a vector (first element becomes last) (★☆☆) \n",
    "(**hint**: array\\[::-1\\])"
   ]
  },
  {
   "cell_type": "code",
   "execution_count": 47,
   "metadata": {},
   "outputs": [
    {
     "name": "stdout",
     "output_type": "stream",
     "text": [
      "[[[ 1.24545939  1.24736595 -0.75737952]\n",
      "  [ 3.2908534   0.27382649 -0.65054965]]\n",
      "\n",
      " [[-0.43155741  0.56908913 -0.78043488]\n",
      "  [-0.84781545  2.15448046  0.23819801]]\n",
      "\n",
      " [[ 1.29511492  1.90166683 -0.45179711]\n",
      "  [-0.14317947 -0.99881942 -0.57876741]]\n",
      "\n",
      " [[-2.68215848  1.13342289 -0.01780418]\n",
      "  [-0.0275603   0.79979279  1.1901257 ]]\n",
      "\n",
      " [[ 0.69326124 -1.02739384 -0.33138523]\n",
      "  [ 0.57527366  0.66535176  1.0932121 ]]\n",
      "\n",
      " [[-3.03257101  0.06110976  0.72016178]\n",
      "  [-0.63731597  0.05045094  0.0737084 ]]\n",
      "\n",
      " [[-0.59658371  0.06345038  1.13013119]\n",
      "  [ 0.57263605  0.61811782 -1.10153237]]\n",
      "\n",
      " [[-0.62423993  0.41504267  2.05188959]\n",
      "  [ 1.7957694   1.13579747  1.13645006]]\n",
      "\n",
      " [[-0.46701734 -0.95838727 -0.79776352]\n",
      "  [ 0.11810018  1.13887866 -1.75132361]]\n",
      "\n",
      " [[ 1.19611054 -1.6209479   0.26388584]\n",
      "  [ 0.02612844 -0.48545635  0.37281679]]]\n",
      "[[[ 1.19611054 -1.6209479   0.26388584]\n",
      "  [ 0.02612844 -0.48545635  0.37281679]]\n",
      "\n",
      " [[-0.62423993  0.41504267  2.05188959]\n",
      "  [ 1.7957694   1.13579747  1.13645006]]\n",
      "\n",
      " [[-3.03257101  0.06110976  0.72016178]\n",
      "  [-0.63731597  0.05045094  0.0737084 ]]\n",
      "\n",
      " [[-2.68215848  1.13342289 -0.01780418]\n",
      "  [-0.0275603   0.79979279  1.1901257 ]]\n",
      "\n",
      " [[-0.43155741  0.56908913 -0.78043488]\n",
      "  [-0.84781545  2.15448046  0.23819801]]]\n"
     ]
    }
   ],
   "source": [
    "D = np.random.randn(10,2,3)\n",
    "print(D)\n",
    "E = D[::-2]\n",
    "print(E)"
   ]
  },
  {
   "cell_type": "markdown",
   "metadata": {},
   "source": [
    "#### 9.  Create a 3x3 matrix with values ranging from 0 to 8 (★☆☆) \n",
    "(**hint**: reshape)"
   ]
  },
  {
   "cell_type": "code",
   "execution_count": 50,
   "metadata": {},
   "outputs": [
    {
     "name": "stdout",
     "output_type": "stream",
     "text": [
      "[0. 1. 2. 3. 4. 5. 6. 7. 8.]\n",
      "[[0. 1. 2.]\n",
      " [3. 4. 5.]\n",
      " [6. 7. 8.]]\n"
     ]
    }
   ],
   "source": [
    "F =np.arange(9.)\n",
    "print(F)\n",
    "G = F.reshape(3,3)\n",
    "print(G)"
   ]
  },
  {
   "cell_type": "markdown",
   "metadata": {},
   "source": [
    "#### 10. Find indices of non-zero elements from \\[1,2,0,0,4,0\\] (★☆☆) \n",
    "(**hint**: np.nonzero)"
   ]
  },
  {
   "cell_type": "code",
   "execution_count": 71,
   "metadata": {},
   "outputs": [
    {
     "name": "stdout",
     "output_type": "stream",
     "text": [
      "[[[ 1  2]\n",
      "  [ 0  0]]\n",
      "\n",
      " [[ 4  0]\n",
      "  [ 9  8]]\n",
      "\n",
      " [[ 0  0]\n",
      "  [ 0 12]]]\n",
      "(array([0, 0, 1, 1, 1, 2], dtype=int64), array([0, 0, 0, 1, 1, 1], dtype=int64), array([0, 1, 0, 0, 1, 1], dtype=int64))\n",
      "[[0 0 0]\n",
      " [0 0 1]\n",
      " [1 0 0]\n",
      " [1 1 0]\n",
      " [1 1 1]\n",
      " [2 1 1]]\n",
      "[[[[ 1  2]\n",
      "   [ 0  0]]\n",
      "\n",
      "  [[ 1  2]\n",
      "   [ 0  0]]\n",
      "\n",
      "  [[ 1  2]\n",
      "   [ 0  0]]]\n",
      "\n",
      "\n",
      " [[[ 1  2]\n",
      "   [ 0  0]]\n",
      "\n",
      "  [[ 1  2]\n",
      "   [ 0  0]]\n",
      "\n",
      "  [[ 4  0]\n",
      "   [ 9  8]]]\n",
      "\n",
      "\n",
      " [[[ 4  0]\n",
      "   [ 9  8]]\n",
      "\n",
      "  [[ 1  2]\n",
      "   [ 0  0]]\n",
      "\n",
      "  [[ 1  2]\n",
      "   [ 0  0]]]\n",
      "\n",
      "\n",
      " [[[ 4  0]\n",
      "   [ 9  8]]\n",
      "\n",
      "  [[ 4  0]\n",
      "   [ 9  8]]\n",
      "\n",
      "  [[ 1  2]\n",
      "   [ 0  0]]]\n",
      "\n",
      "\n",
      " [[[ 4  0]\n",
      "   [ 9  8]]\n",
      "\n",
      "  [[ 4  0]\n",
      "   [ 9  8]]\n",
      "\n",
      "  [[ 4  0]\n",
      "   [ 9  8]]]\n",
      "\n",
      "\n",
      " [[[ 0  0]\n",
      "   [ 0 12]]\n",
      "\n",
      "  [[ 4  0]\n",
      "   [ 9  8]]\n",
      "\n",
      "  [[ 4  0]\n",
      "   [ 9  8]]]]\n",
      "     *** Found in numpy ***\n",
      " nonzero(a)\n",
      "\n",
      "Return the indices of the elements that are non-zero.\n",
      "\n",
      "Returns a tuple of arrays, one for each dimension of `a`,\n",
      "containing the indices of the non-zero elements in that\n",
      "dimension. The values in `a` are always tested and returned in\n",
      "row-major, C-style order. The corresponding non-zero\n",
      "values can be obtained with::\n",
      "\n",
      "    a[nonzero(a)]\n",
      "\n",
      "To group the indices by element, rather than dimension, use::\n",
      "\n",
      "    transpose(nonzero(a))\n",
      "\n",
      "The result of this is always a 2-D array, with a row for\n",
      "each non-zero element.\n",
      "\n",
      "Parameters\n",
      "----------\n",
      "a : array_like\n",
      "    Input array.\n",
      "\n",
      "Returns\n",
      "-------\n",
      "tuple_of_arrays : tuple\n",
      "    Indices of elements that are non-zero.\n",
      "\n",
      "See Also\n",
      "--------\n",
      "flatnonzero :\n",
      "    Return indices that are non-zero in the flattened version of the input\n",
      "    array.\n",
      "ndarray.nonzero :\n",
      "    Equivalent ndarray method.\n",
      "count_nonzero :\n",
      "    Counts the number of non-zero elements in the input array.\n",
      "\n",
      "Examples\n",
      "--------\n",
      ">>> x = np.array([[1,0,0], [0,2,0], [1,1,0]])\n",
      ">>> x\n",
      "array([[1, 0, 0],\n",
      "       [0, 2, 0],\n",
      "       [1, 1, 0]])\n",
      ">>> np.nonzero(x)\n",
      "(array([0, 1, 2, 2]), array([0, 1, 0, 1]))\n",
      "\n",
      ">>> x[np.nonzero(x)]\n",
      "array([1, 2, 1, 1])\n",
      ">>> np.transpose(np.nonzero(x))\n",
      "array([[0, 0],\n",
      "       [1, 1],\n",
      "       [2, 0],\n",
      "       [2, 1])\n",
      "\n",
      "A common use for ``nonzero`` is to find the indices of an array, where\n",
      "a condition is True.  Given an array `a`, the condition `a` > 3 is a\n",
      "boolean array and since False is interpreted as 0, np.nonzero(a > 3)\n",
      "yields the indices of the `a` where the condition is true.\n",
      "\n",
      ">>> a = np.array([[1,2,3],[4,5,6],[7,8,9]])\n",
      ">>> a > 3\n",
      "array([[False, False, False],\n",
      "       [ True,  True,  True],\n",
      "       [ True,  True,  True]])\n",
      ">>> np.nonzero(a > 3)\n",
      "(array([1, 1, 1, 2, 2, 2]), array([0, 1, 2, 0, 1, 2]))\n",
      "\n",
      "The ``nonzero`` method of the boolean array can also be called.\n",
      "\n",
      ">>> (a > 3).nonzero()\n",
      "(array([1, 1, 1, 2, 2, 2]), array([0, 1, 2, 0, 1, 2]))\n",
      "----------------------------------------------------------------------------\n",
      "     *** Found in numpy.ma ***\n",
      "nonzero(self)\n",
      "\n",
      "Return the indices of unmasked elements that are not zero.\n",
      "\n",
      "Returns a tuple of arrays, one for each dimension, containing the\n",
      "indices of the non-zero elements in that dimension. The corresponding\n",
      "non-zero values can be obtained with::\n",
      "\n",
      "    a[a.nonzero()]\n",
      "\n",
      "To group the indices by element, rather than dimension, use\n",
      "instead::\n",
      "\n",
      "    np.transpose(a.nonzero())\n",
      "\n",
      "The result of this is always a 2d array, with a row for each non-zero\n",
      "element.\n",
      "\n",
      "Parameters\n",
      "----------\n",
      "None\n",
      "\n",
      "Returns\n",
      "-------\n",
      "tuple_of_arrays : tuple\n",
      "    Indices of elements that are non-zero.\n",
      "\n",
      "See Also\n",
      "--------\n",
      "numpy.nonzero :\n",
      "    Function operating on ndarrays.\n",
      "flatnonzero :\n",
      "    Return indices that are non-zero in the flattened version of the input\n",
      "    array.\n",
      "ndarray.nonzero :\n",
      "    Equivalent ndarray method.\n",
      "count_nonzero :\n",
      "    Counts the number of non-zero elements in the input array.\n",
      "\n",
      "Examples\n",
      "--------\n",
      ">>> import numpy.ma as ma\n",
      ">>> x = ma.array(np.eye(3))\n",
      ">>> x\n",
      "masked_array(data =\n",
      " [[ 1.  0.  0.]\n",
      " [ 0.  1.  0.]\n",
      " [ 0.  0.  1.]],\n",
      "      mask =\n",
      " False,\n",
      "      fill_value=1e+20)\n",
      ">>> x.nonzero()\n",
      "(array([0, 1, 2]), array([0, 1, 2]))\n",
      "\n",
      "Masked elements are ignored.\n",
      "\n",
      ">>> x[1, 1] = ma.masked\n",
      ">>> x\n",
      "masked_array(data =\n",
      " [[1.0 0.0 0.0]\n",
      " [0.0 -- 0.0]\n",
      " [0.0 0.0 1.0]],\n",
      "      mask =\n",
      " [[False False False]\n",
      " [False  True False]\n",
      " [False False False]],\n",
      "      fill_value=1e+20)\n",
      ">>> x.nonzero()\n",
      "(array([0, 2]), array([0, 2]))\n",
      "\n",
      "Indices can also be grouped by element.\n",
      "\n",
      ">>> np.transpose(x.nonzero())\n",
      "array([[0, 0],\n",
      "       [2, 2]])\n",
      "\n",
      "A common use for ``nonzero`` is to find the indices of an array, where\n",
      "a condition is True.  Given an array `a`, the condition `a` > 3 is a\n",
      "boolean array and since False is interpreted as 0, ma.nonzero(a > 3)\n",
      "yields the indices of the `a` where the condition is true.\n",
      "\n",
      ">>> a = ma.array([[1,2,3],[4,5,6],[7,8,9]])\n",
      ">>> a > 3\n",
      "masked_array(data =\n",
      " [[False False False]\n",
      " [ True  True  True]\n",
      " [ True  True  True]],\n",
      "      mask =\n",
      " False,\n",
      "      fill_value=999999)\n",
      ">>> ma.nonzero(a > 3)\n",
      "(array([1, 1, 1, 2, 2, 2]), array([0, 1, 2, 0, 1, 2]))\n",
      "\n",
      "The ``nonzero`` method of the condition array can also be called.\n",
      "\n",
      ">>> (a > 3).nonzero()\n",
      "(array([1, 1, 1, 2, 2, 2]), array([0, 1, 2, 0, 1, 2]))\n",
      "----------------------------------------------------------------------------\n",
      "\n",
      "     *** Repeat reference found in numpy.core *** \n",
      "\n",
      "     *** Repeat reference found in numpy.ma.core *** \n",
      "\n",
      "     *** Repeat reference found in numpy.lib.function_base *** \n",
      "\n",
      "     *** Repeat reference found in numpy.lib.twodim_base *** \n",
      "\n",
      "     *** Repeat reference found in numpy.core.numeric *** \n",
      "\n",
      "     *** Repeat reference found in numpy.core.fromnumeric *** \n",
      "\n",
      "     *** Total of 8 references found. ***\n"
     ]
    }
   ],
   "source": [
    "H = np.array([1,2,0,0,4,0,9,8,0,0,0,12])\n",
    "# H = [1,2,0,0,4,0]\n",
    "H = H.reshape(3,2,2)\n",
    "print(H)\n",
    "idx = np.nonzero(H)\n",
    "HH = H[idx]\n",
    "print(idx)\n",
    "idxx = np.transpose(np.nonzero(H))\n",
    "print(idxx)\n",
    "print(H[idxx])\n",
    "np.info('nonzero')"
   ]
  },
  {
   "cell_type": "markdown",
   "metadata": {},
   "source": [
    "#### 11. Create a 3x3 identity matrix (★☆☆) \n",
    "(**hint**: np.eye)"
   ]
  },
  {
   "cell_type": "code",
   "execution_count": 72,
   "metadata": {},
   "outputs": [
    {
     "name": "stdout",
     "output_type": "stream",
     "text": [
      "[[1. 0. 0.]\n",
      " [0. 1. 0.]\n",
      " [0. 0. 1.]]\n"
     ]
    }
   ],
   "source": [
    "J = np.eye(3,3)\n",
    "print(J)"
   ]
  },
  {
   "cell_type": "markdown",
   "metadata": {},
   "source": [
    "#### 12. Create a 3x3x3 array with random values (★☆☆) \n",
    "(**hint**: np.random.random)"
   ]
  },
  {
   "cell_type": "code",
   "execution_count": 78,
   "metadata": {},
   "outputs": [
    {
     "name": "stdout",
     "output_type": "stream",
     "text": [
      "[[[0.49666929 0.68671708 0.69922436]\n",
      "  [0.29019553 0.7036906  0.19758205]\n",
      "  [0.01057367 0.00304161 0.52459939]]\n",
      "\n",
      " [[0.18368503 0.96770791 0.39925511]\n",
      "  [0.84453732 0.49015331 0.93618945]\n",
      "  [0.83870149 0.01767041 0.83089887]]\n",
      "\n",
      " [[0.52937852 0.67076162 0.10120104]\n",
      "  [0.35766572 0.2460791  0.27552611]\n",
      "  [0.96465268 0.35500735 0.69522513]]]\n"
     ]
    }
   ],
   "source": [
    "# np.info('random')\n",
    "J = np.random.random((3,3,3))\n",
    "print(J)"
   ]
  },
  {
   "cell_type": "markdown",
   "metadata": {},
   "source": [
    "#### 13. Create a 10x10 array with random values and find the minimum and maximum values (★☆☆) \n",
    "(**hint**: min, max)"
   ]
  },
  {
   "cell_type": "code",
   "execution_count": 82,
   "metadata": {},
   "outputs": [
    {
     "name": "stdout",
     "output_type": "stream",
     "text": [
      "[[0.12945044 0.38309604 0.52590873 0.97434897 0.12085074 0.30757591\n",
      "  0.71378504 0.98290917 0.67278073 0.85362462]\n",
      " [0.2126014  0.47458205 0.14256943 0.73767886 0.16631911 0.55762416\n",
      "  0.06733596 0.02462009 0.08547867 0.35828646]\n",
      " [0.29550151 0.13426711 0.2802087  0.44056127 0.82469093 0.32108569\n",
      "  0.23304864 0.11178497 0.14251611 0.4647894 ]\n",
      " [0.76516236 0.41199795 0.83922707 0.92921947 0.02795881 0.20180034\n",
      "  0.30736941 0.64493794 0.36514502 0.35472333]\n",
      " [0.44279506 0.78652542 0.15300285 0.77651999 0.9237936  0.22090346\n",
      "  0.611434   0.23148919 0.55133653 0.85622714]\n",
      " [0.9600085  0.03948223 0.29389975 0.21400058 0.57631164 0.18420015\n",
      "  0.13382193 0.83161316 0.05031244 0.00393913]\n",
      " [0.56781082 0.59090442 0.05149334 0.95695901 0.53493206 0.65546794\n",
      "  0.87634932 0.00347526 0.64362626 0.52218516]\n",
      " [0.45528106 0.21613896 0.06525017 0.15501816 0.81749324 0.15398276\n",
      "  0.9695504  0.26512072 0.74150354 0.17111454]\n",
      " [0.86831676 0.39344648 0.10757879 0.48690593 0.85209637 0.07875173\n",
      "  0.52405916 0.43797466 0.53642602 0.32621047]\n",
      " [0.85587513 0.91304163 0.36064591 0.00306452 0.68692927 0.10883647\n",
      "  0.61814019 0.13667045 0.73295135 0.38554874]]\n",
      "0.0030645176747114977\n",
      "0.9829091740038086\n",
      "     *** Found in numpy ***\n",
      " amin(a, axis=None, out=None, keepdims=<no value>, initial=<no value>)\n",
      "\n",
      "Return the minimum of an array or minimum along an axis.\n",
      "\n",
      "Parameters\n",
      "----------\n",
      "a : array_like\n",
      "    Input data.\n",
      "axis : None or int or tuple of ints, optional\n",
      "    Axis or axes along which to operate.  By default, flattened input is\n",
      "    used.\n",
      "\n",
      "    .. versionadded:: 1.7.0\n",
      "\n",
      "    If this is a tuple of ints, the minimum is selected over multiple axes,\n",
      "    instead of a single axis or all the axes as before.\n",
      "out : ndarray, optional\n",
      "    Alternative output array in which to place the result.  Must\n",
      "    be of the same shape and buffer length as the expected output.\n",
      "    See `doc.ufuncs` (Section \"Output arguments\") for more details.\n",
      "\n",
      "keepdims : bool, optional\n",
      "    If this is set to True, the axes which are reduced are left\n",
      "    in the result as dimensions with size one. With this option,\n",
      "    the result will broadcast correctly against the input array.\n",
      "\n",
      "    If the default value is passed, then `keepdims` will not be\n",
      "    passed through to the `amin` method of sub-classes of\n",
      "    `ndarray`, however any non-default value will be.  If the\n",
      "    sub-class' method does not implement `keepdims` any\n",
      "    exceptions will be raised.\n",
      "\n",
      "initial : scalar, optional\n",
      "    The maximum value of an output element. Must be present to allow\n",
      "    computation on empty slice. See `~numpy.ufunc.reduce` for details.\n",
      "\n",
      "    .. versionadded:: 1.15.0\n",
      "\n",
      "Returns\n",
      "-------\n",
      "amin : ndarray or scalar\n",
      "    Minimum of `a`. If `axis` is None, the result is a scalar value.\n",
      "    If `axis` is given, the result is an array of dimension\n",
      "    ``a.ndim - 1``.\n",
      "\n",
      "See Also\n",
      "--------\n",
      "amax :\n",
      "    The maximum value of an array along a given axis, propagating any NaNs.\n",
      "nanmin :\n",
      "    The minimum value of an array along a given axis, ignoring any NaNs.\n",
      "minimum :\n",
      "    Element-wise minimum of two arrays, propagating any NaNs.\n",
      "fmin :\n",
      "    Element-wise minimum of two arrays, ignoring any NaNs.\n",
      "argmin :\n",
      "    Return the indices of the minimum values.\n",
      "\n",
      "nanmax, maximum, fmax\n",
      "\n",
      "Notes\n",
      "-----\n",
      "NaN values are propagated, that is if at least one item is NaN, the\n",
      "corresponding min value will be NaN as well. To ignore NaN values\n",
      "(MATLAB behavior), please use nanmin.\n",
      "\n",
      "Don't use `amin` for element-wise comparison of 2 arrays; when\n",
      "``a.shape[0]`` is 2, ``minimum(a[0], a[1])`` is faster than\n",
      "``amin(a, axis=0)``.\n",
      "\n",
      "Examples\n",
      "--------\n",
      ">>> a = np.arange(4).reshape((2,2))\n",
      ">>> a\n",
      "array([[0, 1],\n",
      "       [2, 3]])\n",
      ">>> np.amin(a)           # Minimum of the flattened array\n",
      "0\n",
      ">>> np.amin(a, axis=0)   # Minima along the first axis\n",
      "array([0, 1])\n",
      ">>> np.amin(a, axis=1)   # Minima along the second axis\n",
      "array([0, 2])\n",
      "\n",
      ">>> b = np.arange(5, dtype=float)\n",
      ">>> b[2] = np.NaN\n",
      ">>> np.amin(b)\n",
      "nan\n",
      ">>> np.nanmin(b)\n",
      "0.0\n",
      "\n",
      ">>> np.min([[-50], [10]], axis=-1, initial=0)\n",
      "array([-50,   0])\n",
      "\n",
      "Notice that the initial value is used as one of the elements for which the\n",
      "minimum is determined, unlike for the default argument Python's max\n",
      "function, which is only used for empty iterables.\n",
      "\n",
      "Notice that this isn't the same as Python's ``default`` argument.\n",
      "\n",
      ">>> np.min([6], initial=5)\n",
      "5\n",
      ">>> min([6], default=5)\n",
      "6\n",
      "----------------------------------------------------------------------------\n",
      "     *** Found in numpy.ma ***\n",
      " min(obj, axis=None, out=None, fill_value=None, keepdims=<no value>)\n",
      "\n",
      "Return the minimum along a given axis.\n",
      "\n",
      "Parameters\n",
      "----------\n",
      "axis : {None, int}, optional\n",
      "    Axis along which to operate.  By default, ``axis`` is None and the\n",
      "    flattened input is used.\n",
      "out : array_like, optional\n",
      "    Alternative output array in which to place the result.  Must be of\n",
      "    the same shape and buffer length as the expected output.\n",
      "fill_value : {var}, optional\n",
      "    Value used to fill in the masked values.\n",
      "    If None, use the output of `minimum_fill_value`.\n",
      "\n",
      "Returns\n",
      "-------\n",
      "amin : array_like\n",
      "    New array holding the result.\n",
      "    If ``out`` was specified, ``out`` is returned.\n",
      "\n",
      "See Also\n",
      "--------\n",
      "minimum_fill_value\n",
      "    Returns the minimum filling value for a given datatype.\n",
      "----------------------------------------------------------------------------\n",
      "\n",
      "     *** Repeat reference found in numpy.core *** \n",
      "\n",
      "     *** Repeat reference found in numpy.ma.core *** \n",
      "     *** Found in builtins ***\n",
      "min(iterable, *[, default=obj, key=func]) -> value\n",
      "min(arg1, arg2, *args, *[, key=func]) -> value\n",
      "\n",
      "With a single iterable argument, return its smallest item. The\n",
      "default keyword-only argument specifies an object to return if\n",
      "the provided iterable is empty.\n",
      "With two or more arguments, return the smallest argument.\n",
      "----------------------------------------------------------------------------\n",
      "\n",
      "     *** Total of 5 references found. ***\n"
     ]
    }
   ],
   "source": [
    "J = np.random.random((10,10))\n",
    "min_J = np.min(J)\n",
    "max_J = np.max(J)\n",
    "print(J)\n",
    "print(min_J)\n",
    "print(max_J)\n",
    "np.info('min')"
   ]
  },
  {
   "cell_type": "markdown",
   "metadata": {},
   "source": [
    "#### 14. Create a random vector of size 30 and find the mean value (★☆☆) \n",
    "(**hint**: mean)"
   ]
  },
  {
   "cell_type": "code",
   "execution_count": 2,
   "metadata": {},
   "outputs": [
    {
     "name": "stdout",
     "output_type": "stream",
     "text": [
      "[0.78856313 0.71135176 0.45994173 0.65073661 0.97368083 0.83499845\n",
      " 0.2045889  0.69704546 0.65621602 0.56412159 0.86617115 0.10424023\n",
      " 0.42674869 0.62495071 0.03540168 0.27693673 0.1085654  0.35237917\n",
      " 0.14720857 0.86219931 0.97534184 0.61072669 0.61595796 0.52774585\n",
      " 0.6493766  0.81309016 0.51136545 0.02940042 0.43755658 0.68159692]\n",
      "0.5399401516707386\n"
     ]
    }
   ],
   "source": [
    "import  numpy as np\n",
    "A = np.random.random(30)\n",
    "print(A)\n",
    "print(np.mean(A))"
   ]
  },
  {
   "cell_type": "markdown",
   "metadata": {},
   "source": [
    "#### 15. Create a 2d array with 1 on the border and 0 inside (★☆☆) \n",
    "(**hint**: array\\[1:-1, 1:-1\\])"
   ]
  },
  {
   "cell_type": "code",
   "execution_count": 6,
   "metadata": {},
   "outputs": [
    {
     "name": "stdout",
     "output_type": "stream",
     "text": [
      "[[1. 1. 1. 1. 1. 1.]\n",
      " [1. 1. 1. 1. 1. 1.]\n",
      " [1. 1. 1. 1. 1. 1.]\n",
      " [1. 1. 1. 1. 1. 1.]]\n",
      "[[1. 1. 1. 1. 1. 1.]\n",
      " [1. 0. 0. 0. 0. 1.]\n",
      " [1. 0. 0. 0. 0. 1.]\n",
      " [1. 1. 1. 1. 1. 1.]]\n"
     ]
    }
   ],
   "source": [
    "B = np.ones(shape=(4,6))\n",
    "print(B)\n",
    "B[1:-1,1:-1] = 0.0\n",
    "print(B)"
   ]
  },
  {
   "cell_type": "markdown",
   "metadata": {},
   "source": [
    "#### 16. How to add a border (filled with 0's) around an existing array? (★☆☆) \n",
    "(**hint**: np.pad)"
   ]
  },
  {
   "cell_type": "code",
   "execution_count": 15,
   "metadata": {},
   "outputs": [
    {
     "name": "stdout",
     "output_type": "stream",
     "text": [
      "[[-8.44736455e-01  6.52049928e-01  6.97200368e-02 -5.26824419e-01\n",
      "  -9.87445475e-01 -1.21263424e-01  3.24266632e-01 -4.76850004e-01\n",
      "  -1.09310392e+00]\n",
      " [-7.96851699e-01 -1.65527150e-03  1.02044699e+00  6.57822044e-01\n",
      "  -7.57080811e-01 -1.52959651e+00  1.07066117e+00 -4.54050604e-01\n",
      "  -4.85568668e-01]\n",
      " [-4.79119568e-01  9.67572391e-01  1.16395135e+00  1.11132842e+00\n",
      "  -1.46242959e+00 -4.46011192e-01 -6.63439842e-01  4.99625186e-01\n",
      "   6.14527890e-02]\n",
      " [ 9.57715345e-01  1.31344627e+00  5.28927774e-01 -8.20106506e-01\n",
      "  -4.53593631e-01 -5.19433325e-01  1.32270617e+00 -9.31873294e-01\n",
      "  -6.75228320e-01]\n",
      " [ 2.80011790e+00 -5.12439923e-01 -3.22269008e-01  1.15849881e+00\n",
      "   9.43318791e-01  6.08811265e-01  7.16652693e-01  8.83770551e-01\n",
      "   7.66948116e-01]\n",
      " [ 1.00426919e-02 -9.38103919e-01 -4.60784106e-01  4.17921959e-01\n",
      "  -2.57028592e-01 -1.09884327e+00 -4.81597597e-01  5.87451316e-01\n",
      "  -1.69866777e+00]]\n"
     ]
    },
    {
     "data": {
      "text/plain": [
       "array([[ 2.10000000e+00,  1.10000000e+00,  1.10000000e+00,\n",
       "         1.10000000e+00,  1.10000000e+00,  1.10000000e+00,\n",
       "         1.10000000e+00,  1.10000000e+00,  1.10000000e+00,\n",
       "         1.10000000e+00,  2.20000000e+00,  2.20000000e+00],\n",
       "       [ 2.10000000e+00,  1.10000000e+00,  1.10000000e+00,\n",
       "         1.10000000e+00,  1.10000000e+00,  1.10000000e+00,\n",
       "         1.10000000e+00,  1.10000000e+00,  1.10000000e+00,\n",
       "         1.10000000e+00,  2.20000000e+00,  2.20000000e+00],\n",
       "       [ 2.10000000e+00, -8.44736455e-01,  6.52049928e-01,\n",
       "         6.97200368e-02, -5.26824419e-01, -9.87445475e-01,\n",
       "        -1.21263424e-01,  3.24266632e-01, -4.76850004e-01,\n",
       "        -1.09310392e+00,  2.20000000e+00,  2.20000000e+00],\n",
       "       [ 2.10000000e+00, -7.96851699e-01, -1.65527150e-03,\n",
       "         1.02044699e+00,  6.57822044e-01, -7.57080811e-01,\n",
       "        -1.52959651e+00,  1.07066117e+00, -4.54050604e-01,\n",
       "        -4.85568668e-01,  2.20000000e+00,  2.20000000e+00],\n",
       "       [ 2.10000000e+00, -4.79119568e-01,  9.67572391e-01,\n",
       "         1.16395135e+00,  1.11132842e+00, -1.46242959e+00,\n",
       "        -4.46011192e-01, -6.63439842e-01,  4.99625186e-01,\n",
       "         6.14527890e-02,  2.20000000e+00,  2.20000000e+00],\n",
       "       [ 2.10000000e+00,  9.57715345e-01,  1.31344627e+00,\n",
       "         5.28927774e-01, -8.20106506e-01, -4.53593631e-01,\n",
       "        -5.19433325e-01,  1.32270617e+00, -9.31873294e-01,\n",
       "        -6.75228320e-01,  2.20000000e+00,  2.20000000e+00],\n",
       "       [ 2.10000000e+00,  2.80011790e+00, -5.12439923e-01,\n",
       "        -3.22269008e-01,  1.15849881e+00,  9.43318791e-01,\n",
       "         6.08811265e-01,  7.16652693e-01,  8.83770551e-01,\n",
       "         7.66948116e-01,  2.20000000e+00,  2.20000000e+00],\n",
       "       [ 2.10000000e+00,  1.00426919e-02, -9.38103919e-01,\n",
       "        -4.60784106e-01,  4.17921959e-01, -2.57028592e-01,\n",
       "        -1.09884327e+00, -4.81597597e-01,  5.87451316e-01,\n",
       "        -1.69866777e+00,  2.20000000e+00,  2.20000000e+00],\n",
       "       [ 2.10000000e+00,  1.20000000e+00,  1.20000000e+00,\n",
       "         1.20000000e+00,  1.20000000e+00,  1.20000000e+00,\n",
       "         1.20000000e+00,  1.20000000e+00,  1.20000000e+00,\n",
       "         1.20000000e+00,  2.20000000e+00,  2.20000000e+00]])"
      ]
     },
     "execution_count": 15,
     "metadata": {},
     "output_type": "execute_result"
    }
   ],
   "source": [
    "C = np.random.randn(6,9)\n",
    "print(C)\n",
    "np.pad(C,((2,1),(1,2)),'constant',constant_values=((1.1,1.2),(2.1,2.2)))\n",
    "# np.info('pad')"
   ]
  },
  {
   "cell_type": "markdown",
   "metadata": {},
   "source": [
    "#### 17. What is the result of the following expression? (★☆☆) \n",
    "(**hint**: NaN = not a number, inf = infinity)"
   ]
  },
  {
   "cell_type": "markdown",
   "metadata": {},
   "source": [
    "```python\n",
    "0 * np.nan\n",
    "np.nan == np.nan\n",
    "np.inf > np.nan\n",
    "np.nan - np.nan\n",
    "np.nan in set([np.nan])\n",
    "0.3 == 3 * 0.1\n",
    "```"
   ]
  },
  {
   "cell_type": "code",
   "execution_count": 32,
   "metadata": {},
   "outputs": [
    {
     "name": "stdout",
     "output_type": "stream",
     "text": [
      "nan\n",
      "False\n",
      "False\n",
      "nan\n",
      "True\n",
      "0.30000000000000004\n",
      "0.30000000000000004\n"
     ]
    }
   ],
   "source": [
    "print(0*np.nan)\n",
    "print(np.nan == np.nan)\n",
    "print(np.inf > np.nan)\n",
    "print(np.nan - np.nan)\n",
    "print(np.nan in set([np.nan]))\n",
    "print(3 * 0.1)\n",
    "print(3*0.1)"
   ]
  },
  {
   "cell_type": "markdown",
   "metadata": {},
   "source": [
    "#### 18. Create a 5x5 matrix with values 1,2,3,4 just below the diagonal (★☆☆) \n",
    "(**hint**: np.diag)"
   ]
  },
  {
   "cell_type": "code",
   "execution_count": 33,
   "metadata": {},
   "outputs": [
    {
     "name": "stdout",
     "output_type": "stream",
     "text": [
      "[[1 0 0 0]\n",
      " [0 2 0 0]\n",
      " [0 0 3 0]\n",
      " [0 0 0 4]]\n"
     ]
    }
   ],
   "source": [
    "A = np.diag([1,2,3,4])\n",
    "print(A)"
   ]
  },
  {
   "cell_type": "markdown",
   "metadata": {},
   "source": [
    "#### 19. Create a 8x8 matrix and fill it with a checkerboard pattern (★☆☆) \n",
    "(**hint**: array\\[::2\\])"
   ]
  },
  {
   "cell_type": "code",
   "execution_count": 81,
   "metadata": {},
   "outputs": [
    {
     "name": "stdout",
     "output_type": "stream",
     "text": [
      "[[1. 0. 1. 0. 1. 0. 1. 0.]\n",
      " [0. 1. 0. 1. 0. 1. 0. 1.]\n",
      " [1. 0. 1. 0. 1. 0. 1. 0.]\n",
      " [0. 1. 0. 1. 0. 1. 0. 1.]\n",
      " [1. 0. 1. 0. 1. 0. 1. 0.]\n",
      " [0. 1. 0. 1. 0. 1. 0. 1.]\n",
      " [1. 0. 1. 0. 1. 0. 1. 0.]\n",
      " [0. 1. 0. 1. 0. 1. 0. 1.]]\n"
     ]
    }
   ],
   "source": [
    "A = np.zeros(shape=(8,8))\n",
    "A[::2,::2] = 1.0 \n",
    "A[::-2,::-2] = 1.0 \n",
    "# A[:,::2] = 1 - A[:,::2]\n",
    "# A = A.T\n",
    "# A[::2] = 1.0\n",
    "# A = A.T\n",
    "# # print(A[::-2])\n",
    "# A[::-2] = 1 - A[::-2]\n",
    "# A.T[::2] = 1.0\n",
    "print(A)"
   ]
  },
  {
   "cell_type": "markdown",
   "metadata": {},
   "source": [
    "#### 20. Consider a (6,7,8) shape array, what is the index (x,y,z) of the 100th element? \n",
    "(**hint**: np.unravel_index)"
   ]
  },
  {
   "cell_type": "code",
   "execution_count": 51,
   "metadata": {},
   "outputs": [
    {
     "name": "stdout",
     "output_type": "stream",
     "text": [
      "0.43923143133501674\n",
      "0.004061556154298929\n",
      "0.630155625294341\n",
      "[0.43923143 0.00406156 0.63015563]\n"
     ]
    }
   ],
   "source": [
    "A = np.random.rand(6,7,8)\n",
    "print(A[0,0,0])\n",
    "print(A[1,0,0])\n",
    "print(A[2,0,0])\n",
    "# np.info('unravel_index')\n",
    "print(A[np.unravel_index((0,56,112),A.shape)])"
   ]
  },
  {
   "cell_type": "markdown",
   "metadata": {},
   "source": [
    "#### 21. Create a checkerboard 8x8 matrix using the tile function (★☆☆) \n",
    "(**hint**: np.tile)"
   ]
  },
  {
   "cell_type": "code",
   "execution_count": 7,
   "metadata": {},
   "outputs": [
    {
     "name": "stdout",
     "output_type": "stream",
     "text": [
      "[[0. 1.]\n",
      " [1. 0.]]\n",
      "[[0. 1. 0. 1. 0. 1. 0. 1.]\n",
      " [1. 0. 1. 0. 1. 0. 1. 0.]\n",
      " [0. 1. 0. 1. 0. 1. 0. 1.]\n",
      " [1. 0. 1. 0. 1. 0. 1. 0.]\n",
      " [0. 1. 0. 1. 0. 1. 0. 1.]\n",
      " [1. 0. 1. 0. 1. 0. 1. 0.]\n",
      " [0. 1. 0. 1. 0. 1. 0. 1.]\n",
      " [1. 0. 1. 0. 1. 0. 1. 0.]]\n"
     ]
    }
   ],
   "source": [
    "import numpy as np\n",
    "A  = np.array([[0.,1.],[1.,0.]])\n",
    "print(A)\n",
    "B = np.tile(A,(4,4))\n",
    "print(B)\n",
    "# np.info('tile')"
   ]
  },
  {
   "cell_type": "markdown",
   "metadata": {},
   "source": [
    "#### 22. Normalize a 5x5 random matrix (★☆☆) \n",
    "(**hint**: (x - mean) / std)"
   ]
  },
  {
   "cell_type": "code",
   "execution_count": 11,
   "metadata": {},
   "outputs": [
    {
     "name": "stdout",
     "output_type": "stream",
     "text": [
      "[[-1.13092038 -1.31558785 -0.9821183  -1.05298076 -0.45169737]\n",
      " [-0.48760238 -0.81164902 -0.4993193  -1.35097227 -0.62352352]\n",
      " [-0.5247452  -0.50214602 -1.37862178 -1.1174702  -1.32479893]\n",
      " [-0.98330347 -0.59533771 -1.42177895 -1.2203672  -0.49702155]\n",
      " [-1.07666387 -0.8581876  -1.31843127 -1.38171681 -0.69360052]]\n",
      "     *** Found in numpy ***\n",
      " std(a, axis=None, dtype=None, out=None, ddof=0, keepdims=<no value>)\n",
      "\n",
      "Compute the standard deviation along the specified axis.\n",
      "\n",
      "Returns the standard deviation, a measure of the spread of a distribution,\n",
      "of the array elements. The standard deviation is computed for the\n",
      "flattened array by default, otherwise over the specified axis.\n",
      "\n",
      "Parameters\n",
      "----------\n",
      "a : array_like\n",
      "    Calculate the standard deviation of these values.\n",
      "axis : None or int or tuple of ints, optional\n",
      "    Axis or axes along which the standard deviation is computed. The\n",
      "    default is to compute the standard deviation of the flattened array.\n",
      "\n",
      "    .. versionadded:: 1.7.0\n",
      "\n",
      "    If this is a tuple of ints, a standard deviation is performed over\n",
      "    multiple axes, instead of a single axis or all the axes as before.\n",
      "dtype : dtype, optional\n",
      "    Type to use in computing the standard deviation. For arrays of\n",
      "    integer type the default is float64, for arrays of float types it is\n",
      "    the same as the array type.\n",
      "out : ndarray, optional\n",
      "    Alternative output array in which to place the result. It must have\n",
      "    the same shape as the expected output but the type (of the calculated\n",
      "    values) will be cast if necessary.\n",
      "ddof : int, optional\n",
      "    Means Delta Degrees of Freedom.  The divisor used in calculations\n",
      "    is ``N - ddof``, where ``N`` represents the number of elements.\n",
      "    By default `ddof` is zero.\n",
      "keepdims : bool, optional\n",
      "    If this is set to True, the axes which are reduced are left\n",
      "    in the result as dimensions with size one. With this option,\n",
      "    the result will broadcast correctly against the input array.\n",
      "\n",
      "    If the default value is passed, then `keepdims` will not be\n",
      "    passed through to the `std` method of sub-classes of\n",
      "    `ndarray`, however any non-default value will be.  If the\n",
      "    sub-class' method does not implement `keepdims` any\n",
      "    exceptions will be raised.\n",
      "\n",
      "Returns\n",
      "-------\n",
      "standard_deviation : ndarray, see dtype parameter above.\n",
      "    If `out` is None, return a new array containing the standard deviation,\n",
      "    otherwise return a reference to the output array.\n",
      "\n",
      "See Also\n",
      "--------\n",
      "var, mean, nanmean, nanstd, nanvar\n",
      "numpy.doc.ufuncs : Section \"Output arguments\"\n",
      "\n",
      "Notes\n",
      "-----\n",
      "The standard deviation is the square root of the average of the squared\n",
      "deviations from the mean, i.e., ``std = sqrt(mean(abs(x - x.mean())**2))``.\n",
      "\n",
      "The average squared deviation is normally calculated as\n",
      "``x.sum() / N``, where ``N = len(x)``.  If, however, `ddof` is specified,\n",
      "the divisor ``N - ddof`` is used instead. In standard statistical\n",
      "practice, ``ddof=1`` provides an unbiased estimator of the variance\n",
      "of the infinite population. ``ddof=0`` provides a maximum likelihood\n",
      "estimate of the variance for normally distributed variables. The\n",
      "standard deviation computed in this function is the square root of\n",
      "the estimated variance, so even with ``ddof=1``, it will not be an\n",
      "unbiased estimate of the standard deviation per se.\n",
      "\n",
      "Note that, for complex numbers, `std` takes the absolute\n",
      "value before squaring, so that the result is always real and nonnegative.\n",
      "\n",
      "For floating-point input, the *std* is computed using the same\n",
      "precision the input has. Depending on the input data, this can cause\n",
      "the results to be inaccurate, especially for float32 (see example below).\n",
      "Specifying a higher-accuracy accumulator using the `dtype` keyword can\n",
      "alleviate this issue.\n",
      "\n",
      "Examples\n",
      "--------\n",
      ">>> a = np.array([[1, 2], [3, 4]])\n",
      ">>> np.std(a)\n",
      "1.1180339887498949\n",
      ">>> np.std(a, axis=0)\n",
      "array([ 1.,  1.])\n",
      ">>> np.std(a, axis=1)\n",
      "array([ 0.5,  0.5])\n",
      "\n",
      "In single precision, std() can be inaccurate:\n",
      "\n",
      ">>> a = np.zeros((2, 512*512), dtype=np.float32)\n",
      ">>> a[0, :] = 1.0\n",
      ">>> a[1, :] = 0.1\n",
      ">>> np.std(a)\n",
      "0.45000005\n",
      "\n",
      "Computing the standard deviation in float64 is more accurate:\n",
      "\n",
      ">>> np.std(a, dtype=np.float64)\n",
      "0.44999999925494177\n",
      "----------------------------------------------------------------------------\n",
      "\n",
      "     *** Repeat reference found in numpy.core *** \n",
      "     *** Found in numpy.ma ***\n",
      "std(self, axis=None, dtype=None, out=None, ddof=0, keepdims=<no value>)\n",
      "\n",
      "Returns the standard deviation of the array elements along given axis.\n",
      "\n",
      "Masked entries are ignored.\n",
      "\n",
      "Refer to `numpy.std` for full documentation.\n",
      "\n",
      "See Also\n",
      "--------\n",
      "ndarray.std : corresponding function for ndarrays\n",
      "numpy.std : Equivalent function\n",
      "----------------------------------------------------------------------------\n",
      "\n",
      "     *** Repeat reference found in numpy.core.numeric *** \n",
      "\n",
      "     *** Repeat reference found in numpy.core.fromnumeric *** \n",
      "\n",
      "     *** Repeat reference found in numpy.ma.core *** \n",
      "\n",
      "     *** Total of 6 references found. ***\n"
     ]
    }
   ],
   "source": [
    "A = np.random.random((5,5))\n",
    "B = A - np.mean(A) / np.std(A)\n",
    "print(B)\n",
    "np.info('std')"
   ]
  },
  {
   "cell_type": "markdown",
   "metadata": {},
   "source": [
    "#### 23. Create a custom dtype that describes a color as four unsigned bytes (RGBA) (★☆☆) \n",
    "(**hint**: np.dtype)"
   ]
  },
  {
   "cell_type": "code",
   "execution_count": 21,
   "metadata": {},
   "outputs": [
    {
     "name": "stdout",
     "output_type": "stream",
     "text": [
      "[('r', 'u1'), ('g', 'u1'), ('b', 'u1'), ('a', 'u1')]\n",
      "[[(3, 4, 5, 155) (3, 4, 5, 155)]\n",
      " [(3, 4, 5, 155) (3, 4, 5, 155)]]\n",
      "(2, 2)\n"
     ]
    }
   ],
   "source": [
    "mytype = np.dtype([('r',np.ubyte),('g',np.ubyte),('b',np.ubyte),('a',np.ubyte)])\n",
    "print(mytype)\n",
    "colrtArray = np.array([[(3,4,5,155),(3,4,5,155)],[(3,4,5,155),(3,4,5,155)]],dtype=mytype)\n",
    "print(colrtArray)\n",
    "print(colrtArray.shape)\n",
    "# np.info('dtype')"
   ]
  },
  {
   "cell_type": "markdown",
   "metadata": {},
   "source": [
    "#### 24. Multiply a 5x3 matrix by a 3x2 matrix (real matrix product) (★☆☆) \n",
    "(**hint**: np.dot | @)"
   ]
  },
  {
   "cell_type": "code",
   "execution_count": 38,
   "metadata": {},
   "outputs": [
    {
     "name": "stdout",
     "output_type": "stream",
     "text": [
      "A: [[-0.20475981 -0.18909519 -3.03174268]\n",
      " [ 1.88776469  0.41961265 -0.82379059]\n",
      " [-0.08603374 -1.59703415 -0.08071019]\n",
      " [ 1.45996096 -0.22274211  1.79277023]\n",
      " [ 0.2682207   0.77368019  0.6003705 ]]\n",
      "B: [[ 0.9060565   0.94594924]\n",
      " [ 0.91797042 -0.84251643]\n",
      " [-0.0021255   0.20469629]]\n",
      "C: [[-0.35266376 -0.65496306]\n",
      " [ 2.09736445  1.26357215]\n",
      " [-1.54380999  1.24762288]\n",
      " [ 1.11452592  1.93568627]\n",
      " [ 0.95196254 -0.27522149]]\n",
      "D: [[-0.35266376 -0.65496306]\n",
      " [ 2.09736445  1.26357215]\n",
      " [-1.54380999  1.24762288]\n",
      " [ 1.11452592  1.93568627]\n",
      " [ 0.95196254 -0.27522149]]\n",
      "E: [[-0.35266376 -0.65496306]\n",
      " [ 2.09736445  1.26357215]\n",
      " [-1.54380999  1.24762288]\n",
      " [ 1.11452592  1.93568627]\n",
      " [ 0.95196254 -0.27522149]]\n",
      "F: [[[[-4.05307236e-01  3.94825264e-01  2.30083327e-01]\n",
      "   [-1.59095937e+00  1.25961583e-01  2.45697604e-01]\n",
      "   [ 1.22704240e+00 -7.42435318e-01 -1.31850164e+00]\n",
      "   [ 7.86656389e-01  2.35107035e-01  8.32062026e-01]]\n",
      "\n",
      "  [[ 1.52765656e+00  9.26918809e-01 -1.65473139e+00]\n",
      "   [-2.39570003e+00 -1.24159422e+00  1.38367516e-01]\n",
      "   [-1.00363530e+00  1.48913549e+00 -3.81113468e-01]\n",
      "   [-1.80374869e-01 -1.17627315e+00  1.27583198e+00]]\n",
      "\n",
      "  [[ 1.95353954e+00  9.49590959e-01 -2.08776331e+00]\n",
      "   [-2.22444400e+00 -1.51508056e+00  8.69434981e-02]\n",
      "   [-1.67543734e+00  2.09754615e+00  7.67380202e-02]\n",
      "   [-5.76041968e-01 -1.53876060e+00  1.18351417e+00]]]\n",
      "\n",
      "\n",
      " [[[ 2.07311089e+00  8.20575834e-01 -9.01877755e-01]\n",
      "   [-2.22492488e+00 -1.49160808e+00 -3.48578811e-01]\n",
      "   [-1.06522283e+00  6.39533168e-01 -5.81812693e-01]\n",
      "   [ 1.06950326e+00  1.05670447e-02  1.36109570e+00]]\n",
      "\n",
      "  [[ 1.17188879e+00 -1.20452671e+00  2.02774247e+00]\n",
      "   [ 3.72084664e+00 -2.23060836e-01 -1.50269528e+00]\n",
      "   [-1.52290408e+00 -1.42017043e+00  1.65215350e+00]\n",
      "   [ 1.69917732e+00  2.78617655e+00 -1.56709675e+00]]\n",
      "\n",
      "  [[-7.98288205e-01 -1.43756798e+00  1.85043407e+00]\n",
      "   [ 4.28693761e+00  9.82059235e-01 -6.85508671e-01]\n",
      "   [-3.69591764e-01 -1.17082971e+00  1.73027919e+00]\n",
      "   [ 1.70528374e-02  1.60257737e+00 -2.16720735e+00]]]\n",
      "\n",
      "\n",
      " [[[-1.27522467e+00 -3.25469065e-01  1.55143403e+00]\n",
      "   [ 3.12116927e-01  9.08432622e-01 -8.41510551e-03]\n",
      "   [ 1.76080763e+00 -1.91228684e+00 -9.47237011e-01]\n",
      "   [ 1.14636545e+00  1.33738411e+00 -1.33182677e-01]]\n",
      "\n",
      "  [[ 2.94092656e+00  1.45557994e+00 -1.79102187e+00]\n",
      "   [-3.99812868e+00 -2.22744625e+00 -2.46844567e-01]\n",
      "   [-1.40436881e+00  1.31049791e+00 -1.11277931e+00]\n",
      "   [ 1.22262847e+00 -5.59087281e-01  2.31474810e+00]]\n",
      "\n",
      "  [[-1.31509982e+00 -8.02288656e-01  4.77898551e-01]\n",
      "   [ 2.46691437e+00  1.02724125e+00  1.50182835e-01]\n",
      "   [ 1.05699439e-01 -2.21754336e-03  1.15343179e+00]\n",
      "   [-1.28506455e+00 -2.13673376e-01 -1.44454579e+00]]]\n",
      "\n",
      "\n",
      " [[[ 2.28234033e+00  1.03825835e+00 -1.81877403e+00]\n",
      "   [-2.59690434e+00 -1.72041775e+00 -1.00629191e-01]\n",
      "   [-1.59056025e+00  1.68451063e+00 -2.66540629e-01]\n",
      "   [ 1.49114795e-01 -1.01640525e+00  1.46582122e+00]]\n",
      "\n",
      "  [[ 3.41423084e-01  1.51473147e-01 -3.17211362e-01]\n",
      "   [-3.56066551e-01 -2.58245739e-01 -3.47656184e-03]\n",
      "   [-2.80486613e-01  3.16579396e-01  8.55796675e-03]\n",
      "   [-5.23589549e-02 -2.11615703e-01  1.95701925e-01]]\n",
      "\n",
      "  [[ 6.67776749e-01 -2.40738515e-01 -2.88771722e-01]\n",
      "   [ 1.10531575e+00 -3.27489451e-01 -2.88265096e-01]\n",
      "   [-1.22965146e+00  6.99362679e-01  1.07179116e+00]\n",
      "   [-4.84567169e-01 -1.46802011e-01 -5.42391711e-01]]]]\n",
      "-0.009403020974595427\n",
      "[ 4.28693761  0.98205924 -0.68550867]\n",
      "     *** Found in numpy ***\n",
      "dot(a, b, out=None)\n",
      "\n",
      "Dot product of two arrays. Specifically,\n",
      "\n",
      "- If both `a` and `b` are 1-D arrays, it is inner product of vectors\n",
      "  (without complex conjugation).\n",
      "\n",
      "- If both `a` and `b` are 2-D arrays, it is matrix multiplication,\n",
      "  but using :func:`matmul` or ``a @ b`` is preferred.\n",
      "\n",
      "- If either `a` or `b` is 0-D (scalar), it is equivalent to :func:`multiply`\n",
      "  and using ``numpy.multiply(a, b)`` or ``a * b`` is preferred.\n",
      "\n",
      "- If `a` is an N-D array and `b` is a 1-D array, it is a sum product over\n",
      "  the last axis of `a` and `b`.\n",
      "\n",
      "- If `a` is an N-D array and `b` is an M-D array (where ``M>=2``), it is a\n",
      "  sum product over the last axis of `a` and the second-to-last axis of `b`::\n",
      "\n",
      "    dot(a, b)[i,j,k,m] = sum(a[i,j,:] * b[k,:,m])\n",
      "\n",
      "Parameters\n",
      "----------\n",
      "a : array_like\n",
      "    First argument.\n",
      "b : array_like\n",
      "    Second argument.\n",
      "out : ndarray, optional\n",
      "    Output argument. This must have the exact kind that would be returned\n",
      "    if it was not used. In particular, it must have the right type, must be\n",
      "    C-contiguous, and its dtype must be the dtype that would be returned\n",
      "    for `dot(a,b)`. This is a performance feature. Therefore, if these\n",
      "    conditions are not met, an exception is raised, instead of attempting\n",
      "    to be flexible.\n",
      "\n",
      "Returns\n",
      "-------\n",
      "output : ndarray\n",
      "    Returns the dot product of `a` and `b`.  If `a` and `b` are both\n",
      "    scalars or both 1-D arrays then a scalar is returned; otherwise\n",
      "    an array is returned.\n",
      "    If `out` is given, then it is returned.\n",
      "\n",
      "Raises\n",
      "------\n",
      "ValueError\n",
      "    If the last dimension of `a` is not the same size as\n",
      "    the second-to-last dimension of `b`.\n",
      "\n",
      "See Also\n",
      "--------\n",
      "vdot : Complex-conjugating dot product.\n",
      "tensordot : Sum products over arbitrary axes.\n",
      "einsum : Einstein summation convention.\n",
      "matmul : '@' operator as method with out parameter.\n",
      "\n",
      "Examples\n",
      "--------\n",
      ">>> np.dot(3, 4)\n",
      "12\n",
      "\n",
      "Neither argument is complex-conjugated:\n",
      "\n",
      ">>> np.dot([2j, 3j], [2j, 3j])\n",
      "(-13+0j)\n",
      "\n",
      "For 2-D arrays it is the matrix product:\n",
      "\n",
      ">>> a = [[1, 0], [0, 1]]\n",
      ">>> b = [[4, 1], [2, 2]]\n",
      ">>> np.dot(a, b)\n",
      "array([[4, 1],\n",
      "       [2, 2]])\n",
      "\n",
      ">>> a = np.arange(3*4*5*6).reshape((3,4,5,6))\n",
      ">>> b = np.arange(3*4*5*6)[::-1].reshape((5,4,6,3))\n",
      ">>> np.dot(a, b)[2,3,2,1,2,2]\n",
      "499128\n",
      ">>> sum(a[2,3,2,:] * b[1,2,:,2])\n",
      "499128\n",
      "----------------------------------------------------------------------------\n",
      "\n",
      "     *** Repeat reference found in numpy.core *** \n",
      "     *** Found in numpy.ma ***\n",
      " dot(a, b, strict=False, out=None)\n",
      "\n",
      "Return the dot product of two arrays.\n",
      "\n",
      "This function is the equivalent of `numpy.dot` that takes masked values\n",
      "into account. Note that `strict` and `out` are in different position\n",
      "than in the method version. In order to maintain compatibility with the\n",
      "corresponding method, it is recommended that the optional arguments be\n",
      "treated as keyword only.  At some point that may be mandatory.\n",
      "\n",
      ".. note::\n",
      "  Works only with 2-D arrays at the moment.\n",
      "\n",
      "\n",
      "Parameters\n",
      "----------\n",
      "a, b : masked_array_like\n",
      "    Inputs arrays.\n",
      "strict : bool, optional\n",
      "    Whether masked data are propagated (True) or set to 0 (False) for\n",
      "    the computation. Default is False.  Propagating the mask means that\n",
      "    if a masked value appears in a row or column, the whole row or\n",
      "    column is considered masked.\n",
      "out : masked_array, optional\n",
      "    Output argument. This must have the exact kind that would be returned\n",
      "    if it was not used. In particular, it must have the right type, must be\n",
      "    C-contiguous, and its dtype must be the dtype that would be returned\n",
      "    for `dot(a,b)`. This is a performance feature. Therefore, if these\n",
      "    conditions are not met, an exception is raised, instead of attempting\n",
      "    to be flexible.\n",
      "\n",
      "    .. versionadded:: 1.10.2\n",
      "\n",
      "See Also\n",
      "--------\n",
      "numpy.dot : Equivalent function for ndarrays.\n",
      "\n",
      "Examples\n",
      "--------\n",
      ">>> a = ma.array([[1, 2, 3], [4, 5, 6]], mask=[[1, 0, 0], [0, 0, 0]])\n",
      ">>> b = ma.array([[1, 2], [3, 4], [5, 6]], mask=[[1, 0], [0, 0], [0, 0]])\n",
      ">>> np.ma.dot(a, b)\n",
      "masked_array(data =\n",
      " [[21 26]\n",
      " [45 64]],\n",
      "             mask =\n",
      " [[False False]\n",
      " [False False]],\n",
      "       fill_value = 999999)\n",
      ">>> np.ma.dot(a, b, strict=True)\n",
      "masked_array(data =\n",
      " [[-- --]\n",
      " [-- 64]],\n",
      "             mask =\n",
      " [[ True  True]\n",
      " [ True False]],\n",
      "       fill_value = 999999)\n",
      "----------------------------------------------------------------------------\n",
      "\n",
      "     *** Repeat reference found in numpy.linalg.linalg *** \n",
      "\n",
      "     *** Repeat reference found in numpy.core.numeric *** \n",
      "\n",
      "     *** Repeat reference found in numpy.core.einsumfunc *** \n",
      "\n",
      "     *** Repeat reference found in numpy.core.multiarray *** \n",
      "\n",
      "     *** Repeat reference found in numpy.lib.polynomial *** \n",
      "\n",
      "     *** Repeat reference found in numpy.lib.function_base *** \n",
      "\n",
      "     *** Repeat reference found in numpy.ma.extras *** \n",
      "\n",
      "     *** Repeat reference found in numpy.ma.core *** \n",
      "\n",
      "     *** Total of 11 references found. ***\n"
     ]
    }
   ],
   "source": [
    "A = np.random.randn(5,3)\n",
    "print('A:',A)\n",
    "B = np.random.randn(3,2)\n",
    "print('B:',B)\n",
    "C = np.matrix(A) *  np.matrix(B)\n",
    "print('C:',C)\n",
    "D = np.dot(A,B)\n",
    "D = A.dot(B)\n",
    "print('D:',D)\n",
    "E = np.matmul(A,B)\n",
    "print('E:',E)\n",
    "\n",
    "#####\n",
    "A = np.random.randn(4,3,3)\n",
    "B = np.random.randn(4,3,3)\n",
    "F = np.dot(A,B)\n",
    "print('F:',F)\n",
    "print(A[1,2,1]* B[1,2,1],)\n",
    "print(F[1,2,1],)\n",
    "np.info('dot')"
   ]
  },
  {
   "cell_type": "markdown",
   "metadata": {},
   "source": [
    "#### 25. Given a 1D array, negate all elements which are between 3 and 8, in place. (★☆☆) \n",
    "(**hint**: >, <=)"
   ]
  },
  {
   "cell_type": "code",
   "execution_count": 46,
   "metadata": {},
   "outputs": [
    {
     "name": "stdout",
     "output_type": "stream",
     "text": [
      "[False False False False  True  True  True  True  True False False]\n",
      "[ 0  1  2  3 -4 -5 -6 -7 -8  9 10]\n"
     ]
    }
   ],
   "source": [
    "Z = np.arange(11)\n",
    "B = (3 < Z) & (Z <= 8)\n",
    "print(B)\n",
    "Z[(3 < Z) & (Z <= 8)] *= -1\n",
    "print(Z)"
   ]
  },
  {
   "cell_type": "markdown",
   "metadata": {},
   "source": [
    "#### 26. What is the output of the following script? (★☆☆) \n",
    "(**hint**: np.sum)"
   ]
  },
  {
   "cell_type": "markdown",
   "metadata": {},
   "source": [
    "```python\n",
    "# Author: Jake VanderPlas\n",
    "\n",
    "print(sum(range(5),-1))\n",
    "from numpy import *\n",
    "print(sum(range(5),-1))\n",
    "```"
   ]
  },
  {
   "cell_type": "code",
   "execution_count": 61,
   "metadata": {},
   "outputs": [
    {
     "name": "stdout",
     "output_type": "stream",
     "text": [
      "10\n",
      "     *** Found in numpy ***\n",
      " sum(a, axis=None, dtype=None, out=None, keepdims=<no value>,\n",
      "     initial=<no value>)\n",
      "\n",
      "Sum of array elements over a given axis.\n",
      "\n",
      "Parameters\n",
      "----------\n",
      "a : array_like\n",
      "    Elements to sum.\n",
      "axis : None or int or tuple of ints, optional\n",
      "    Axis or axes along which a sum is performed.  The default,\n",
      "    axis=None, will sum all of the elements of the input array.  If\n",
      "    axis is negative it counts from the last to the first axis.\n",
      "\n",
      "    .. versionadded:: 1.7.0\n",
      "\n",
      "    If axis is a tuple of ints, a sum is performed on all of the axes\n",
      "    specified in the tuple instead of a single axis or all the axes as\n",
      "    before.\n",
      "dtype : dtype, optional\n",
      "    The type of the returned array and of the accumulator in which the\n",
      "    elements are summed.  The dtype of `a` is used by default unless `a`\n",
      "    has an integer dtype of less precision than the default platform\n",
      "    integer.  In that case, if `a` is signed then the platform integer\n",
      "    is used while if `a` is unsigned then an unsigned integer of the\n",
      "    same precision as the platform integer is used.\n",
      "out : ndarray, optional\n",
      "    Alternative output array in which to place the result. It must have\n",
      "    the same shape as the expected output, but the type of the output\n",
      "    values will be cast if necessary.\n",
      "keepdims : bool, optional\n",
      "    If this is set to True, the axes which are reduced are left\n",
      "    in the result as dimensions with size one. With this option,\n",
      "    the result will broadcast correctly against the input array.\n",
      "\n",
      "    If the default value is passed, then `keepdims` will not be\n",
      "    passed through to the `sum` method of sub-classes of\n",
      "    `ndarray`, however any non-default value will be.  If the\n",
      "    sub-class' method does not implement `keepdims` any\n",
      "    exceptions will be raised.\n",
      "initial : scalar, optional\n",
      "    Starting value for the sum. See `~numpy.ufunc.reduce` for details.\n",
      "\n",
      "    .. versionadded:: 1.15.0\n",
      "\n",
      "Returns\n",
      "-------\n",
      "sum_along_axis : ndarray\n",
      "    An array with the same shape as `a`, with the specified\n",
      "    axis removed.   If `a` is a 0-d array, or if `axis` is None, a scalar\n",
      "    is returned.  If an output array is specified, a reference to\n",
      "    `out` is returned.\n",
      "\n",
      "See Also\n",
      "--------\n",
      "ndarray.sum : Equivalent method.\n",
      "\n",
      "cumsum : Cumulative sum of array elements.\n",
      "\n",
      "trapz : Integration of array values using the composite trapezoidal rule.\n",
      "\n",
      "mean, average\n",
      "\n",
      "Notes\n",
      "-----\n",
      "Arithmetic is modular when using integer types, and no error is\n",
      "raised on overflow.\n",
      "\n",
      "The sum of an empty array is the neutral element 0:\n",
      "\n",
      ">>> np.sum([])\n",
      "0.0\n",
      "\n",
      "Examples\n",
      "--------\n",
      ">>> np.sum([0.5, 1.5])\n",
      "2.0\n",
      ">>> np.sum([0.5, 0.7, 0.2, 1.5], dtype=np.int32)\n",
      "1\n",
      ">>> np.sum([[0, 1], [0, 5]])\n",
      "6\n",
      ">>> np.sum([[0, 1], [0, 5]], axis=0)\n",
      "array([0, 6])\n",
      ">>> np.sum([[0, 1], [0, 5]], axis=1)\n",
      "array([1, 5])\n",
      "\n",
      "If the accumulator is too small, overflow occurs:\n",
      "\n",
      ">>> np.ones(128, dtype=np.int8).sum(dtype=np.int8)\n",
      "-128\n",
      "\n",
      "You can also start the sum with a value other than zero:\n",
      "\n",
      ">>> np.sum([10], initial=5)\n",
      "15\n",
      "----------------------------------------------------------------------------\n",
      "\n",
      "     *** Repeat reference found in numpy.core *** \n",
      "     *** Found in numpy.ma ***\n",
      "sum(self, axis=None, dtype=None, out=None, keepdims=<no value>)\n",
      "\n",
      "Return the sum of the array elements over the given axis.\n",
      "\n",
      "Masked elements are set to 0 internally.\n",
      "\n",
      "Refer to `numpy.sum` for full documentation.\n",
      "\n",
      "See Also\n",
      "--------\n",
      "ndarray.sum : corresponding function for ndarrays\n",
      "numpy.sum : equivalent function\n",
      "\n",
      "Examples\n",
      "--------\n",
      ">>> x = np.ma.array([[1,2,3],[4,5,6],[7,8,9]], mask=[0] + [1,0]*4)\n",
      ">>> print(x)\n",
      "[[1 -- 3]\n",
      " [-- 5 --]\n",
      " [7 -- 9]]\n",
      ">>> print(x.sum())\n",
      "25\n",
      ">>> print(x.sum(axis=1))\n",
      "[4 5 16]\n",
      ">>> print(x.sum(axis=0))\n",
      "[8 5 12]\n",
      ">>> print(type(x.sum(axis=0, dtype=np.int64)[0]))\n",
      "<type 'numpy.int64'>\n",
      "----------------------------------------------------------------------------\n",
      "\n",
      "     *** Repeat reference found in numpy.linalg.linalg *** \n",
      "\n",
      "     *** Repeat reference found in numpy.core.numeric *** \n",
      "\n",
      "     *** Repeat reference found in numpy.core.fromnumeric *** \n",
      "\n",
      "     *** Repeat reference found in numpy.lib.function_base *** \n",
      "\n",
      "     *** Repeat reference found in numpy.ma.core *** \n",
      "     *** Found in builtins ***\n",
      "Return the sum of a 'start' value (default: 0) plus an iterable of numbers\n",
      "\n",
      "When the iterable is empty, return the start value.\n",
      "This function is intended specifically for use with numeric values and may\n",
      "reject non-numeric types.\n",
      "----------------------------------------------------------------------------\n",
      "\n",
      "     *** Total of 9 references found. ***\n"
     ]
    }
   ],
   "source": [
    "print(sum(range(5),-1))\n",
    "from numpy import *\n",
    "np.info('sum')\n",
    "# print(np.sum(range(5),-1))"
   ]
  },
  {
   "cell_type": "markdown",
   "metadata": {},
   "source": [
    "#### 27. Consider an integer vector Z, which of these expressions are legal? (★☆☆)"
   ]
  },
  {
   "cell_type": "markdown",
   "metadata": {},
   "source": [
    "```python\n",
    "Z**Z\n",
    "2 << Z >> 2\n",
    "Z <- Z\n",
    "1j*Z\n",
    "Z/1/1\n",
    "Z<Z>Z\n",
    "```"
   ]
  },
  {
   "cell_type": "code",
   "execution_count": 75,
   "metadata": {
    "scrolled": true
   },
   "outputs": [
    {
     "name": "stdout",
     "output_type": "stream",
     "text": [
      "[0 1 2 3 4]\n",
      "[  1   1   4  27 256]\n",
      "[ 2  4  8 16 32]\n",
      "[0 1 2 4 8]\n",
      "[ True False False False False]\n"
     ]
    }
   ],
   "source": [
    "Z = range(5)\n",
    "Z = np.array(Z)\n",
    "print(Z)\n",
    "Z**Z\n",
    "print(Z**Z)\n",
    "print(2 << Z)\n",
    "print(2 << Z >> 2)\n",
    "print(Z <=- Z)"
   ]
  },
  {
   "cell_type": "markdown",
   "metadata": {},
   "source": [
    "#### 28. What are the result of the following expressions?"
   ]
  },
  {
   "cell_type": "markdown",
   "metadata": {},
   "source": [
    "```python\n",
    "np.array(0) / np.array(0)\n",
    "np.array(0) // np.array(0)\n",
    "np.array([np.nan]).astype(int).astype(float)\n",
    "```"
   ]
  },
  {
   "cell_type": "code",
   "execution_count": 79,
   "metadata": {},
   "outputs": [
    {
     "name": "stdout",
     "output_type": "stream",
     "text": [
      "nan\n",
      "0\n"
     ]
    },
    {
     "name": "stderr",
     "output_type": "stream",
     "text": [
      "d:\\study\\python_venv\\python35\\tf\\lib\\site-packages\\ipykernel\\__main__.py:1: RuntimeWarning: invalid value encountered in true_divide\n",
      "  if __name__ == '__main__':\n",
      "d:\\study\\python_venv\\python35\\tf\\lib\\site-packages\\ipykernel\\__main__.py:3: RuntimeWarning: divide by zero encountered in floor_divide\n",
      "  app.launch_new_instance()\n"
     ]
    },
    {
     "data": {
      "text/plain": [
       "array([-2.14748365e+09])"
      ]
     },
     "execution_count": 79,
     "metadata": {},
     "output_type": "execute_result"
    }
   ],
   "source": [
    "A = np.array(0) / np.array(0)\n",
    "print(A)\n",
    "B = np.array(0) // np.array(0)\n",
    "print(B)\n",
    "np.array([np.nan]).astype(int).astype(float)"
   ]
  },
  {
   "cell_type": "markdown",
   "metadata": {},
   "source": [
    "#### 29. How to round away from zero a float array ? (★☆☆) \n",
    "(**hint**: np.uniform, np.copysign, np.ceil, np.abs)"
   ]
  },
  {
   "cell_type": "code",
   "execution_count": 86,
   "metadata": {},
   "outputs": [
    {
     "name": "stdout",
     "output_type": "stream",
     "text": [
      "[-7.77830382  7.2063751  -9.84572324 -1.06718501 -6.95663808  7.5669293\n",
      "  6.27815443 -0.10772615  1.06873503  8.14959138]\n",
      "[ 8.  8. 10.  2.  7.  8.  7.  1.  2.  9.]\n",
      "[ -8.   8. -10.  -2.  -7.   8.   7.  -1.   2.   9.]\n"
     ]
    }
   ],
   "source": [
    "# Author: Charles R Harris\n",
    "\n",
    "Z = np.random.uniform(-10,+10,10)\n",
    "print(Z)\n",
    "print(np.ceil(np.abs(Z)))\n",
    "# np.info('copysign')\n",
    "print (np.copysign(np.ceil(np.abs(Z)), Z))"
   ]
  },
  {
   "cell_type": "markdown",
   "metadata": {},
   "source": [
    "#### 30. How to find common values between two arrays? (★☆☆) \n",
    "(**hint**: np.intersect1d)"
   ]
  },
  {
   "cell_type": "code",
   "execution_count": 89,
   "metadata": {},
   "outputs": [
    {
     "name": "stdout",
     "output_type": "stream",
     "text": [
      "[6 7 4 2 2 2 4 4 9 9]\n",
      "[3 6 7 4 4 0 3 3 2 8]\n",
      "[2 4 6 7]\n"
     ]
    }
   ],
   "source": [
    "Z1 = np.random.randint(0,10,10)\n",
    "print(Z1)\n",
    "Z2 = np.random.randint(0,10,10)\n",
    "print(Z2)\n",
    "print(np.intersect1d(Z1,Z2))"
   ]
  },
  {
   "cell_type": "markdown",
   "metadata": {},
   "source": [
    "#### 31. How to ignore all numpy warnings (not recommended)? (★☆☆) \n",
    "(**hint**: np.seterr, np.errstate)"
   ]
  },
  {
   "cell_type": "code",
   "execution_count": 99,
   "metadata": {},
   "outputs": [
    {
     "name": "stdout",
     "output_type": "stream",
     "text": [
      "     *** Found in numpy ***\n",
      " errstate()\n",
      "\n",
      "errstate(**kwargs)\n",
      "\n",
      "Context manager for floating-point error handling.\n",
      "\n",
      "Using an instance of `errstate` as a context manager allows statements in\n",
      "that context to execute with a known error handling behavior. Upon entering\n",
      "the context the error handling is set with `seterr` and `seterrcall`, and\n",
      "upon exiting it is reset to what it was before.\n",
      "\n",
      "Parameters\n",
      "----------\n",
      "kwargs : {divide, over, under, invalid}\n",
      "    Keyword arguments. The valid keywords are the possible floating-point\n",
      "    exceptions. Each keyword should have a string value that defines the\n",
      "    treatment for the particular error. Possible values are\n",
      "    {'ignore', 'warn', 'raise', 'call', 'print', 'log'}.\n",
      "\n",
      "See Also\n",
      "--------\n",
      "seterr, geterr, seterrcall, geterrcall\n",
      "\n",
      "Notes\n",
      "-----\n",
      "The ``with`` statement was introduced in Python 2.5, and can only be used\n",
      "there by importing it: ``from __future__ import with_statement``. In\n",
      "earlier Python versions the ``with`` statement is not available.\n",
      "\n",
      "For complete documentation of the types of floating-point exceptions and\n",
      "treatment options, see `seterr`.\n",
      "\n",
      "Examples\n",
      "--------\n",
      ">>> from __future__ import with_statement  # use 'with' in Python 2.5\n",
      ">>> olderr = np.seterr(all='ignore')  # Set error handling to known state.\n",
      "\n",
      ">>> np.arange(3) / 0.\n",
      "array([ NaN,  Inf,  Inf])\n",
      ">>> with np.errstate(divide='warn'):\n",
      "...     np.arange(3) / 0.\n",
      "...\n",
      "__main__:2: RuntimeWarning: divide by zero encountered in divide\n",
      "array([ NaN,  Inf,  Inf])\n",
      "\n",
      ">>> np.sqrt(-1)\n",
      "nan\n",
      ">>> with np.errstate(invalid='raise'):\n",
      "...     np.sqrt(-1)\n",
      "Traceback (most recent call last):\n",
      "  File \"<stdin>\", line 2, in <module>\n",
      "FloatingPointError: invalid value encountered in sqrt\n",
      "\n",
      "Outside the context the error handling behavior has not changed:\n",
      "\n",
      ">>> np.geterr()\n",
      "{'over': 'warn', 'divide': 'warn', 'invalid': 'warn',\n",
      "'under': 'ignore'}\n",
      "\n",
      "\n",
      "Methods:\n",
      "\n",
      "----------------------------------------------------------------------------\n",
      "\n",
      "     *** Repeat reference found in numpy.core *** \n",
      "\n",
      "     *** Repeat reference found in numpy.linalg.linalg *** \n",
      "\n",
      "     *** Repeat reference found in numpy.core.numeric *** \n",
      "\n",
      "     *** Repeat reference found in numpy.core.machar *** \n",
      "\n",
      "     *** Repeat reference found in numpy.core.arrayprint *** \n",
      "\n",
      "     *** Total of 6 references found. ***\n"
     ]
    }
   ],
   "source": [
    "# np.info('seterr')\n",
    "np.info('errstate')"
   ]
  },
  {
   "cell_type": "markdown",
   "metadata": {},
   "source": [
    "#### 32. Is the following expressions true? (★☆☆) \n",
    "(**hint**: imaginary number)"
   ]
  },
  {
   "cell_type": "markdown",
   "metadata": {},
   "source": [
    "```python\n",
    "np.sqrt(-1) == np.emath.sqrt(-1)\n",
    "```"
   ]
  },
  {
   "cell_type": "code",
   "execution_count": 111,
   "metadata": {},
   "outputs": [
    {
     "name": "stdout",
     "output_type": "stream",
     "text": [
      "     *** Found in numpy ***\n",
      "sqrt(x, /, out=None, *, where=True, casting='same_kind', order='K', dtype=None, subok=True[, signature, extobj])\n",
      "\n",
      "Return the non-negative square-root of an array, element-wise.\n",
      "\n",
      "Parameters\n",
      "----------\n",
      "x : array_like\n",
      "    The values whose square-roots are required.\n",
      "out : ndarray, None, or tuple of ndarray and None, optional\n",
      "    A location into which the result is stored. If provided, it must have\n",
      "    a shape that the inputs broadcast to. If not provided or `None`,\n",
      "    a freshly-allocated array is returned. A tuple (possible only as a\n",
      "    keyword argument) must have length equal to the number of outputs.\n",
      "where : array_like, optional\n",
      "    Values of True indicate to calculate the ufunc at that position, values\n",
      "    of False indicate to leave the value in the output alone.\n",
      "**kwargs\n",
      "    For other keyword-only arguments, see the\n",
      "    :ref:`ufunc docs <ufuncs.kwargs>`.\n",
      "\n",
      "Returns\n",
      "-------\n",
      "y : ndarray\n",
      "    An array of the same shape as `x`, containing the positive\n",
      "    square-root of each element in `x`.  If any element in `x` is\n",
      "    complex, a complex array is returned (and the square-roots of\n",
      "    negative reals are calculated).  If all of the elements in `x`\n",
      "    are real, so is `y`, with negative elements returning ``nan``.\n",
      "    If `out` was provided, `y` is a reference to it.\n",
      "    This is a scalar if `x` is a scalar.\n",
      "\n",
      "See Also\n",
      "--------\n",
      "lib.scimath.sqrt\n",
      "    A version which returns complex numbers when given negative reals.\n",
      "\n",
      "Notes\n",
      "-----\n",
      "*sqrt* has--consistent with common convention--as its branch cut the\n",
      "real \"interval\" [`-inf`, 0), and is continuous from above on it.\n",
      "A branch cut is a curve in the complex plane across which a given\n",
      "complex function fails to be continuous.\n",
      "\n",
      "Examples\n",
      "--------\n",
      ">>> np.sqrt([1,4,9])\n",
      "array([ 1.,  2.,  3.])\n",
      "\n",
      ">>> np.sqrt([4, -1, -3+4J])\n",
      "array([ 2.+0.j,  0.+1.j,  1.+2.j])\n",
      "\n",
      ">>> np.sqrt([4, -1, numpy.inf])\n",
      "array([  2.,  NaN,  Inf])\n",
      "----------------------------------------------------------------------------\n",
      "     *** Found in numpy.lib.scimath ***\n",
      " sqrt(x)\n",
      "\n",
      "Compute the square root of x.\n",
      "\n",
      "For negative input elements, a complex value is returned\n",
      "(unlike `numpy.sqrt` which returns NaN).\n",
      "\n",
      "Parameters\n",
      "----------\n",
      "x : array_like\n",
      "   The input value(s).\n",
      "\n",
      "Returns\n",
      "-------\n",
      "out : ndarray or scalar\n",
      "   The square root of `x`. If `x` was a scalar, so is `out`,\n",
      "   otherwise an array is returned.\n",
      "\n",
      "See Also\n",
      "--------\n",
      "numpy.sqrt\n",
      "\n",
      "Examples\n",
      "--------\n",
      "For real, non-negative inputs this works just like `numpy.sqrt`:\n",
      "\n",
      ">>> np.lib.scimath.sqrt(1)\n",
      "1.0\n",
      ">>> np.lib.scimath.sqrt([1, 4])\n",
      "array([ 1.,  2.])\n",
      "\n",
      "But it automatically handles negative inputs:\n",
      "\n",
      ">>> np.lib.scimath.sqrt(-1)\n",
      "(0.0+1.0j)\n",
      ">>> np.lib.scimath.sqrt([-1,4])\n",
      "array([ 0.+1.j,  2.+0.j])\n",
      "----------------------------------------------------------------------------\n",
      "     *** Found in math ***\n",
      "sqrt(x)\n",
      "\n",
      "Return the square root of x.\n",
      "----------------------------------------------------------------------------\n",
      "\n",
      "     *** Repeat reference found in numpy.core *** \n",
      "     *** Found in numpy.ma ***\n",
      "sqrt(x, /, out=None, *, where=True, casting='same_kind', order='K', dtype=None, subok=True[, signature, extobj])\n",
      "\n",
      "Return the non-negative square-root of an array, element-wise.\n",
      "\n",
      "Parameters\n",
      "----------\n",
      "x : array_like\n",
      "    The values whose square-roots are required.\n",
      "out : ndarray, None, or tuple of ndarray and None, optional\n",
      "    A location into which the result is stored. If provided, it must have\n",
      "    a shape that the inputs broadcast to. If not provided or `None`,\n",
      "    a freshly-allocated array is returned. A tuple (possible only as a\n",
      "    keyword argument) must have length equal to the number of outputs.\n",
      "where : array_like, optional\n",
      "    Values of True indicate to calculate the ufunc at that position, values\n",
      "    of False indicate to leave the value in the output alone.\n",
      "**kwargs\n",
      "    For other keyword-only arguments, see the\n",
      "    :ref:`ufunc docs <ufuncs.kwargs>`.\n",
      "\n",
      "Returns\n",
      "-------\n",
      "y : ndarray\n",
      "    An array of the same shape as `x`, containing the positive\n",
      "    square-root of each element in `x`.  If any element in `x` is\n",
      "    complex, a complex array is returned (and the square-roots of\n",
      "    negative reals are calculated).  If all of the elements in `x`\n",
      "    are real, so is `y`, with negative elements returning ``nan``.\n",
      "    If `out` was provided, `y` is a reference to it.\n",
      "    This is a scalar if `x` is a scalar.\n",
      "\n",
      "See Also\n",
      "--------\n",
      "lib.scimath.sqrt\n",
      "    A version which returns complex numbers when given negative reals.\n",
      "\n",
      "Notes\n",
      "-----\n",
      "*sqrt* has--consistent with common convention--as its branch cut the\n",
      "real \"interval\" [`-inf`, 0), and is continuous from above on it.\n",
      "A branch cut is a curve in the complex plane across which a given\n",
      "complex function fails to be continuous.\n",
      "\n",
      "Examples\n",
      "--------\n",
      ">>> np.sqrt([1,4,9])\n",
      "array([ 1.,  2.,  3.])\n",
      "\n",
      ">>> np.sqrt([4, -1, -3+4J])\n",
      "array([ 2.+0.j,  0.+1.j,  1.+2.j])\n",
      "\n",
      ">>> np.sqrt([4, -1, numpy.inf])\n",
      "array([  2.,  NaN,  Inf])\n",
      "----------------------------------------------------------------------------\n",
      "\n",
      "     *** Repeat reference found in numpy.linalg.linalg *** \n",
      "\n",
      "     *** Repeat reference found in numpy.core.numeric *** \n",
      "\n",
      "     *** Repeat reference found in numpy.core.umath *** \n",
      "\n",
      "     *** Repeat reference found in numpy.fft.fftpack *** \n",
      "\n",
      "     *** Repeat reference found in numpy.lib.function_base *** \n",
      "\n",
      "     *** Repeat reference found in numpy.ma.core *** \n",
      "\n",
      "     *** Total of 11 references found. ***\n"
     ]
    }
   ],
   "source": [
    "np.info('sqrt')\n",
    "# with np.errstate(invalid='ignore'):\n",
    "#     np.sqrt(-1)\n",
    "# np.sqrt([-3+4J, -1, ])\n",
    "# np.emath.sqrt(-1)\n",
    "# print(np.sqrt(-1) == )"
   ]
  },
  {
   "cell_type": "markdown",
   "metadata": {},
   "source": [
    "#### 33. How to get the dates of yesterday, today and tomorrow? (★☆☆) \n",
    "(**hint**: np.datetime64, np.timedelta64)"
   ]
  },
  {
   "cell_type": "code",
   "execution_count": 138,
   "metadata": {},
   "outputs": [
    {
     "name": "stdout",
     "output_type": "stream",
     "text": [
      "2019-03-17\n",
      "2018\n",
      "2019-03-17T04\n"
     ]
    }
   ],
   "source": [
    "# np.info('timedelta64')\n",
    "# today = np.datetime64()\n",
    "# print(today)\n",
    "yesterday = np.datetime64('today', 'D') - np.timedelta64(1, 'D')\n",
    "today     = np.datetime64('today','D')\n",
    "tomorrow  = np.datetime64('today', 'D') + np.timedelta64(1, 'D')\n",
    "thisyear = np.datetime64('today','Y')\n",
    "thismonth = np.datetime64('now','h')\n",
    "lastyear  = thisyear - np.timedelta64(1, 'Y')\n",
    "nextmonth = thismonth + np.timedelta64(2,'h')\n",
    "print(today)\n",
    "print(lastyear)\n",
    "print(nextmonth)"
   ]
  },
  {
   "cell_type": "markdown",
   "metadata": {},
   "source": [
    "#### 34. How to get all the dates corresponding to the month of July 2016? (★★☆) \n",
    "(**hint**: np.arange(dtype=datetime64\\['D'\\]))"
   ]
  },
  {
   "cell_type": "code",
   "execution_count": 148,
   "metadata": {},
   "outputs": [
    {
     "name": "stdout",
     "output_type": "stream",
     "text": [
      "(1019,)\n",
      "<class 'numpy.datetime64'>\n",
      "2016-09-10\n"
     ]
    }
   ],
   "source": [
    "datelist = np.arange('2016-06-01','2019-03-17',dtype='datetime64[D]')\n",
    "print(datelist.shape)\n",
    "print(type(datelist[100]))\n",
    "print(datelist[101])"
   ]
  },
  {
   "cell_type": "markdown",
   "metadata": {},
   "source": [
    "#### 35. How to compute ((A+B)\\*(-A/2)) in place (without copy)? (★★☆) \n",
    "(**hint**: np.add(out=), np.negative(out=), np.multiply(out=), np.divide(out=))"
   ]
  },
  {
   "cell_type": "code",
   "execution_count": 158,
   "metadata": {},
   "outputs": [
    {
     "name": "stdout",
     "output_type": "stream",
     "text": [
      "[[-0.55628434 -0.         -0.         -0.        ]\n",
      " [-0.         -0.98753762 -0.         -0.        ]\n",
      " [-0.         -0.         -0.7718139  -0.        ]\n",
      " [-0.         -0.         -0.         -0.62493758]]\n",
      "[[1.11256869 0.83105906 0.29246731 0.34443665]\n",
      " [0.94158302 1.97507524 0.68888322 0.18066705]\n",
      " [0.06994891 0.90023303 1.54362781 0.25287125]\n",
      " [0.11743855 0.00755677 0.5488738  1.24987515]]\n"
     ]
    }
   ],
   "source": [
    "A = np.eye(4,4)\n",
    "B = np.random.random(size=(4,4))\n",
    "C = np.zeros(shape=(4,4))\n",
    "np.add(A,B,out = B)\n",
    "np.negative(A/2,out = A)\n",
    "np.multiply(A,B,out = C)\n",
    "print(C)\n",
    "print(B)"
   ]
  },
  {
   "cell_type": "markdown",
   "metadata": {},
   "source": [
    "#### 36. Extract the integer part of a random array using 5 different methods (★★☆) \n",
    "(**hint**: %, np.floor, np.ceil, astype, np.trunc)"
   ]
  },
  {
   "cell_type": "code",
   "execution_count": 166,
   "metadata": {},
   "outputs": [
    {
     "name": "stdout",
     "output_type": "stream",
     "text": [
      "[[5.59204994 6.35310355 4.43511066 8.1419384 ]\n",
      " [0.38792754 6.21476662 7.99323916 6.48988917]\n",
      " [4.90102314 1.37762062 3.83590046 7.84426582]\n",
      " [2.65526391 2.17261415 5.84528699 3.64628906]]\n",
      "[[5. 6. 4. 8.]\n",
      " [0. 6. 7. 6.]\n",
      " [4. 1. 3. 7.]\n",
      " [2. 2. 5. 3.]]\n",
      "[[6. 7. 5. 9.]\n",
      " [1. 7. 8. 7.]\n",
      " [5. 2. 4. 8.]\n",
      " [3. 3. 6. 4.]]\n",
      "[[5 6 4 8]\n",
      " [0 6 7 6]\n",
      " [4 1 3 7]\n",
      " [2 2 5 3]]\n",
      "[[5. 6. 4. 8.]\n",
      " [0. 6. 7. 6.]\n",
      " [4. 1. 3. 7.]\n",
      " [2. 2. 5. 3.]]\n",
      "[[5. 6. 4. 8.]\n",
      " [0. 6. 7. 6.]\n",
      " [4. 1. 3. 7.]\n",
      " [2. 2. 5. 3.]]\n"
     ]
    }
   ],
   "source": [
    "A = np.random.random(size=(4,4))*10\n",
    "print(A)\n",
    "B = np.floor(A)\n",
    "print(B)\n",
    "C = np.ceil(A)\n",
    "print(C)\n",
    "D = A.astype(np.int)\n",
    "print(D)\n",
    "E = np.trunc(A)\n",
    "print(E)\n",
    "F = A - A%1\n",
    "print(F)"
   ]
  },
  {
   "cell_type": "markdown",
   "metadata": {},
   "source": [
    "#### 37. Create a 5x5 matrix with row values ranging from 0 to 4 (★★☆) \n",
    "(**hint**: np.arange)"
   ]
  },
  {
   "cell_type": "code",
   "execution_count": 169,
   "metadata": {},
   "outputs": [
    {
     "name": "stdout",
     "output_type": "stream",
     "text": [
      "[0 1 2 3 4]\n",
      "[[0 1 2 3 4]\n",
      " [0 1 2 3 4]\n",
      " [0 1 2 3 4]\n",
      " [0 1 2 3 4]]\n"
     ]
    }
   ],
   "source": [
    "A = np.arange(0,5,1)\n",
    "print(A)\n",
    "# np.info('tile')\n",
    "B = np.tile(A,(4,1))\n",
    "print(B)"
   ]
  },
  {
   "cell_type": "markdown",
   "metadata": {},
   "source": [
    "#### 38. Consider a generator function that generates 10 integers and use it to build an array (★☆☆) \n",
    "(**hint**: np.fromiter)"
   ]
  },
  {
   "cell_type": "code",
   "execution_count": 180,
   "metadata": {},
   "outputs": [
    {
     "name": "stdout",
     "output_type": "stream",
     "text": [
      "[ 0.  1.  4.  9. 16. 25. 36. 49. 64. 81.]\n"
     ]
    }
   ],
   "source": [
    "def gen():\n",
    "    for i in range(10):\n",
    "        yield i**2\n",
    "        \n",
    "# iter = [i**2 for i in range(10)]\n",
    "    \n",
    "A = np.fromiter(gen(),dtype=np.float32)\n",
    "print(A)\n",
    "# np.info('fromiter')"
   ]
  },
  {
   "cell_type": "markdown",
   "metadata": {},
   "source": [
    "#### 39. Create a vector of size 10 with values ranging from 0 to 1, both excluded (★★☆) \n",
    "(**hint**: np.linspace)"
   ]
  },
  {
   "cell_type": "code",
   "execution_count": 182,
   "metadata": {},
   "outputs": [
    {
     "name": "stdout",
     "output_type": "stream",
     "text": [
      "[0.         0.11111111 0.22222222 0.33333333 0.44444444 0.55555556\n",
      " 0.66666667 0.77777778 0.88888889 1.        ]\n"
     ]
    }
   ],
   "source": [
    "A = np.linspace(0,1,num=10,endpoint = True)\n",
    "print(A)"
   ]
  },
  {
   "cell_type": "markdown",
   "metadata": {},
   "source": [
    "#### 40. Create a random vector of size 10 and sort it (★★☆) \n",
    "(**hint**: sort)"
   ]
  },
  {
   "cell_type": "code",
   "execution_count": 184,
   "metadata": {},
   "outputs": [
    {
     "name": "stdout",
     "output_type": "stream",
     "text": [
      "[0.08607631 0.1303806  0.23964841 0.3102332  0.35567588 0.64137258\n",
      " 0.64643196 0.6743784  0.82675839 0.90304987]\n"
     ]
    }
   ],
   "source": [
    "A = np.sort(np.random.random(size=(10,)))\n",
    "print(A)"
   ]
  },
  {
   "cell_type": "markdown",
   "metadata": {},
   "source": [
    "#### 41. How to sum a small array faster than np.sum? (★★☆) \n",
    "(**hint**: np.add.reduce)"
   ]
  },
  {
   "cell_type": "code",
   "execution_count": 192,
   "metadata": {},
   "outputs": [
    {
     "name": "stdout",
     "output_type": "stream",
     "text": [
      "17.091972863485875\n"
     ]
    }
   ],
   "source": [
    "A = np.random.random(size=(4,8))\n",
    "B = np.add.reduce(A)\n",
    "B = np.add.reduce(B)\n",
    "print(B)\n",
    "# np.info('reduce')"
   ]
  },
  {
   "cell_type": "markdown",
   "metadata": {},
   "source": [
    "#### 42. Consider two random array A and B, check if they are equal (★★☆) \n",
    "(**hint**: np.allclose, np.array\\_equal)"
   ]
  },
  {
   "cell_type": "code",
   "execution_count": 202,
   "metadata": {},
   "outputs": [
    {
     "name": "stdout",
     "output_type": "stream",
     "text": [
      "[[0.16501646 0.0619184  0.69203429 0.19094632 0.648883  ]\n",
      " [0.01361003 0.06084711 0.06145995 0.03400052 0.15599247]\n",
      " [0.02969031 0.07527007 0.99916211 0.12009053 0.54059712]\n",
      " [0.31173426 0.960835   0.83003163 0.45338252 0.7517003 ]]\n",
      "[[0.30851414 0.16576827 0.48362355 0.43495501 0.80398102]\n",
      " [0.60738446 0.03383783 0.99908481 0.89056098 0.92045035]\n",
      " [0.77502135 0.50081633 0.28520883 0.63039395 0.01718906]\n",
      " [0.33847774 0.58520368 0.49680511 0.62818711 0.44546285]]\n",
      "True\n"
     ]
    }
   ],
   "source": [
    "# np.info('allclose')\n",
    "# np.info('array_equal')\n",
    "A = np.random.random(size =(4,5))\n",
    "B = np.random.random(size =(4,5))\n",
    "print(A)\n",
    "print(B)\n",
    "print(np.allclose(A,B,atol = 1))"
   ]
  },
  {
   "cell_type": "markdown",
   "metadata": {},
   "source": [
    "#### 43. Make an array immutable (read-only) (★★☆) \n",
    "(**hint**: flags.writeable)"
   ]
  },
  {
   "cell_type": "code",
   "execution_count": 14,
   "metadata": {},
   "outputs": [
    {
     "name": "stdout",
     "output_type": "stream",
     "text": [
      "[[0.88648884 0.84204097 0.48809059]\n",
      " [0.9034701  0.99425297 0.72745886]\n",
      " [0.70504744 0.54965287 0.97462812]\n",
      " [0.46843352 0.33731861 0.94502381]]\n"
     ]
    }
   ],
   "source": [
    "import numpy as np\n",
    "# np.info('flags')\n",
    "A = np.random.random(size=(4,3),)\n",
    "A.flags.writeable = False\n",
    "print(A)\n",
    "# A[3,1] = 1.0\n",
    "# print(A)"
   ]
  },
  {
   "cell_type": "markdown",
   "metadata": {},
   "source": [
    "#### 44. Consider a random 10x2 matrix representing cartesian coordinates, convert them to polar coordinates (★★☆) \n",
    "(**hint**: np.sqrt, np.arctan2)"
   ]
  },
  {
   "cell_type": "code",
   "execution_count": 52,
   "metadata": {},
   "outputs": [
    {
     "name": "stdout",
     "output_type": "stream",
     "text": [
      "[1.21381659 0.77376498 0.99441671 0.65980339 1.06398709 0.34766204\n",
      " 0.53591168 1.29639622 0.66930062 1.0230381 ]\n",
      "[[1.21381659 0.91605693]\n",
      " [0.77376498 0.56864147]\n",
      " [0.99441671 0.86793722]\n",
      " [0.65980339 0.41468372]\n",
      " [1.06398709 1.09718887]\n",
      " [0.34766204 0.24385039]\n",
      " [0.53591168 0.96968062]\n",
      " [1.29639622 0.71933505]\n",
      " [0.66930062 0.60517292]\n",
      " [1.0230381  0.8562143 ]]\n"
     ]
    }
   ],
   "source": [
    "import numpy.linalg as LA\n",
    "B = np.random.rand(10,2)\n",
    "# print(B)\n",
    "# np.info('norm')\n",
    "norm_B = LA.norm(B,ord=2,axis=1,)\n",
    "print(norm_B)\n",
    "# print(type(B[:,1]))\n",
    "# print(B/B)\n",
    "# np.info('arctan2')\n",
    "theta_B = np.arctan2(B[:,1],B[:,0])\n",
    "B_polar = np.zeros(shape=(10,2))\n",
    "B_polar[:,0] =  norm_B.T\n",
    "B_polar[:,1] =  theta_B.T\n",
    "print(B_polar)\n",
    "# norm_B = np.sqrt(B,)norm_B"
   ]
  },
  {
   "cell_type": "markdown",
   "metadata": {},
   "source": [
    "#### 45. Create random vector of size 10 and replace the maximum value by 0 (★★☆) \n",
    "(**hint**: argmax)"
   ]
  },
  {
   "cell_type": "code",
   "execution_count": 61,
   "metadata": {},
   "outputs": [
    {
     "name": "stdout",
     "output_type": "stream",
     "text": [
      "[93 32 77  3 85 34 78 56 37  2]\n",
      "[ 0 32 77  3 85 34 78 56 37  2]\n",
      "[[0.3082604  0.15846112 0.11451123 0.97142496 0.56520535 0.73218564\n",
      "  0.95123643]\n",
      " [0.34023845 0.68683599 0.75404983 0.98685037 0.43032291 0.91729285\n",
      "  0.60314105]\n",
      " [0.18386664 0.57542758 0.41003266 0.09372416 0.16680637 0.37633207\n",
      "  0.6487344 ]\n",
      " [0.9294721  0.95113215 0.00987571 0.77606827 0.65278005 0.32253037\n",
      "  0.81264862]\n",
      " [0.77685782 0.74044666 0.94175262 0.51723435 0.95392873 0.16186316\n",
      "  0.60802052]\n",
      " [0.4866511  0.84065205 0.44798542 0.54276537 0.09016793 0.3003764\n",
      "  0.19246345]\n",
      " [0.32457513 0.0311519  0.02317532 0.65132229 0.97199369 0.12266223\n",
      "  0.0225129 ]\n",
      " [0.83080007 0.82177251 0.31192559 0.67067813 0.05611253 0.14329829\n",
      "  0.90924997]\n",
      " [0.28974997 0.99657005 0.4161623  0.57200464 0.35235694 0.62527011\n",
      "  0.77500198]\n",
      " [0.27165652 0.54254995 0.56222553 0.53215114 0.01578436 0.88435876\n",
      "  0.39546096]]\n",
      "[[0.3082604  0.15846112 0.11451123 0.97142496 0.56520535 0.73218564\n",
      "  0.95123643]\n",
      " [0.34023845 0.68683599 0.75404983 0.98685037 0.43032291 0.91729285\n",
      "  0.60314105]\n",
      " [0.18386664 0.57542758 0.41003266 0.09372416 0.16680637 0.37633207\n",
      "  0.6487344 ]\n",
      " [0.9294721  0.95113215       -inf 0.77606827 0.65278005 0.32253037\n",
      "  0.81264862]\n",
      " [0.77685782 0.74044666 0.94175262 0.51723435 0.95392873 0.16186316\n",
      "  0.60802052]\n",
      " [0.4866511  0.84065205 0.44798542 0.54276537 0.09016793 0.3003764\n",
      "  0.19246345]\n",
      " [0.32457513 0.0311519  0.02317532 0.65132229 0.97199369 0.12266223\n",
      "  0.0225129 ]\n",
      " [0.83080007 0.82177251 0.31192559 0.67067813 0.05611253 0.14329829\n",
      "  0.90924997]\n",
      " [0.28974997        inf 0.4161623  0.57200464 0.35235694 0.62527011\n",
      "  0.77500198]\n",
      " [0.27165652 0.54254995 0.56222553 0.53215114 0.01578436 0.88435876\n",
      "  0.39546096]]\n"
     ]
    }
   ],
   "source": [
    "A = np.random.randint(0,high = 100,size=(10,))\n",
    "print(A)\n",
    "A[np.argmax(A)] = 0\n",
    "print(A)\n",
    "\n",
    "B = np.random.random(size=(10,7))\n",
    "print(B)\n",
    "B[np.unravel_index(np.argmax(B),B.shape)]  = np.inf\n",
    "B[np.unravel_index(np.argmin(B),B.shape)]  = - np.inf\n",
    "\n",
    "print(B)"
   ]
  },
  {
   "cell_type": "markdown",
   "metadata": {},
   "source": [
    "#### 46. Create a structured array with `x` and `y` coordinates covering the \\[0,1\\]x\\[0,1\\] area (★★☆) \n",
    "(**hint**: np.meshgrid)"
   ]
  },
  {
   "cell_type": "code",
   "execution_count": 114,
   "metadata": {},
   "outputs": [
    {
     "name": "stdout",
     "output_type": "stream",
     "text": [
      "[[-1.         -0.95918367]\n",
      " [-1.         -0.95918367]]\n"
     ]
    },
    {
     "data": {
      "image/png": "[encoded data removed]",
      "text/plain": [
       "<matplotlib.figure.Figure at 0x7854860>"
      ]
     },
     "metadata": {},
     "output_type": "display_data"
    }
   ],
   "source": [
    "# np.info('meshgrid')\n",
    "x = np.linspace(-1,1,50)\n",
    "y = np.linspace(-1,1,50)\n",
    "# print(x)\n",
    "xg,yg = np.meshgrid(x,y)\n",
    "print(xg[0:2,0:2])\n",
    "\n",
    "z = xg**2 + yg**2  + 2\n",
    "\n",
    "import matplotlib.pyplot as plt\n",
    "from mpl_toolkits.mplot3d import Axes3D #绘制3D坐标的函数 \n",
    "\n",
    "# %matplotlib inline \n",
    "# %matplotlib notebook\n",
    "# %matplotlib qt5\n",
    "%matplotlib inline\n",
    "fig1=plt.figure()#创建一个绘图对象\n",
    "ax=Axes3D(fig1)#用这个绘图对象创建一个Axes对象(有3D坐标)\n",
    "ax.plot_surface(xg,yg,z,cmap=plt.cm.hsv,)\n",
    "ax.contour(xg,yg,z, offset = 2, cmap = 'rainbow')\n",
    "plt.show()"
   ]
  },
  {
   "cell_type": "markdown",
   "metadata": {},
   "source": [
    "##  47. Given two arrays, X and Y, construct the Cauchy matrix C (Cij =1/(xi - yj)) \n",
    "(**hint**: np.subtract.outer)"
   ]
  },
  {
   "cell_type": "code",
   "execution_count": 130,
   "metadata": {},
   "outputs": [
    {
     "name": "stdout",
     "output_type": "stream",
     "text": [
      "(20, 20)\n"
     ]
    },
    {
     "data": {
      "image/png": "[encoded data removed]",
      "text/plain": [
       "<matplotlib.figure.Figure at 0x79e65c0>"
      ]
     },
     "metadata": {},
     "output_type": "display_data"
    }
   ],
   "source": [
    "# np.info('outer') \n",
    "A = np.linspace(-11,11,num = 20)#.reshape(20,1)\n",
    "# print(A)\n",
    "B = np.linspace(-1,1,num = 20)#.reshape(1,20)\n",
    "\n",
    "C = 1 / np.subtract.outer(A,B)\n",
    "print(C.shape)\n",
    "A = np.tile(A.reshape(20,1),(1,20))\n",
    "B= np.tile(B.reshape(1,20),(20,1))\n",
    "# print(C)\n",
    "# print(A.shape)\n",
    "\n",
    "import matplotlib.pyplot as plt\n",
    "from mpl_toolkits.mplot3d import Axes3D #绘制3D坐标的函数 \n",
    "\n",
    "# %matplotlib inline \n",
    "# %matplotlib notebook\n",
    "# %matplotlib qt5\n",
    "%matplotlib inline\n",
    "fig1=plt.figure()#创建一个绘图对象\n",
    "ax=Axes3D(fig1)#用这个绘图对象创建一个Axes对象(有3D坐标)\n",
    "ax.plot_surface(A,B,C,cmap=plt.cm.hsv,)\n",
    "# ax.contour(A,B,C, offset = 2, cmap = 'rainbow')\n",
    "plt.show()"
   ]
  },
  {
   "cell_type": "markdown",
   "metadata": {},
   "source": [
    "#### 48. Print the minimum and maximum representable value for each numpy scalar type (★★☆) \n",
    "(**hint**: np.iinfo, np.finfo, eps)"
   ]
  },
  {
   "cell_type": "code",
   "execution_count": 9,
   "metadata": {},
   "outputs": [
    {
     "name": "stdout",
     "output_type": "stream",
     "text": [
      "-32768\n",
      "32767\n",
      "-2147483648\n",
      "2147483647\n",
      "-9223372036854775808\n",
      "9223372036854775807\n",
      "-65500.0\n",
      "65500.0\n",
      "0.000977\n",
      "-3.4028235e+38\n",
      "3.4028235e+38\n",
      "1.1920929e-07\n",
      "-1.7976931348623157e+308\n",
      "1.7976931348623157e+308\n",
      "2.220446049250313e-16\n"
     ]
    }
   ],
   "source": [
    "import numpy as np\n",
    "\n",
    "for dtype in [np.int16,np.int32,np.int64]:\n",
    "    print(np.iinfo(dtype).min)\n",
    "    print(np.iinfo(dtype).max)\n",
    "#     print(np.iinfo(dtype))\n",
    "\n",
    "for dtype in [np.float16,np.float32,np.float64]:\n",
    "    print(np.finfo(dtype).min)\n",
    "    print(np.finfo(dtype).max)\n",
    "    print(np.finfo(dtype).eps)\n",
    "\n",
    "    "
   ]
  },
  {
   "cell_type": "markdown",
   "metadata": {},
   "source": [
    "#### 49. How to print all the values of an array? (★★☆) \n",
    "(**hint**: np.set\\_printoptions)"
   ]
  },
  {
   "cell_type": "code",
   "execution_count": 17,
   "metadata": {},
   "outputs": [
    {
     "name": "stdout",
     "output_type": "stream",
     "text": [
      "[[0.63264996 0.33217304]\n",
      " [0.426882   0.18011926]\n",
      " [0.21419567 0.27426447]\n",
      " [0.33396768 0.02946984]\n",
      " [0.40708295 0.28568364]]\n",
      "[[0.6326 0.3322]\n",
      " [0.4269 0.1801]\n",
      " [0.2142 0.2743]\n",
      " [0.334  0.0295]\n",
      " [0.4071 0.2857]]\n"
     ]
    }
   ],
   "source": [
    "A = np.random.random(size=(5,2))\n",
    "print(A)\n",
    "# np.info('set_printoptions')\n",
    "np.set_printoptions(precision = 4)\n",
    "print(A)"
   ]
  },
  {
   "cell_type": "markdown",
   "metadata": {},
   "source": [
    "#### 50. How to find the closest value (to a given scalar) in a vector? (★★☆) \n",
    "(**hint**: argmin)"
   ]
  },
  {
   "cell_type": "code",
   "execution_count": 22,
   "metadata": {},
   "outputs": [
    {
     "name": "stdout",
     "output_type": "stream",
     "text": [
      "[[0.9462 0.0972]\n",
      " [0.479  0.6762]\n",
      " [0.8376 0.4774]\n",
      " [0.6747 0.6856]\n",
      " [0.2355 0.761 ]]\n",
      "0.09719473325046435\n"
     ]
    }
   ],
   "source": [
    "A = np.random.random(size=(5,2)) \n",
    "print(A)\n",
    "t = 0.1647\n",
    "print(A[np.unravel_index(np.argmin(np.abs(A - t)),A.shape)])"
   ]
  },
  {
   "cell_type": "markdown",
   "metadata": {},
   "source": [
    "#### 51. Create a structured array representing a position (x,y) and a color (r,g,b) (★★☆) \n",
    "(**hint**: dtype)"
   ]
  },
  {
   "cell_type": "code",
   "execution_count": 76,
   "metadata": {},
   "outputs": [
    {
     "ename": "ValueError",
     "evalue": "cannot copy sequence with size 2 to array axis with dimension 3",
     "output_type": "error",
     "traceback": [
      "\u001b[1;31m---------------------------------------------------------------------------\u001b[0m",
      "\u001b[1;31mValueError\u001b[0m                                Traceback (most recent call last)",
      "\u001b[1;32m<ipython-input-76-5b3bc717ab2c>\u001b[0m in \u001b[0;36m<module>\u001b[1;34m()\u001b[0m\n\u001b[0;32m      1\u001b[0m \u001b[0mA\u001b[0m \u001b[1;33m=\u001b[0m \u001b[0mnp\u001b[0m\u001b[1;33m.\u001b[0m\u001b[0mdtype\u001b[0m\u001b[1;33m(\u001b[0m\u001b[1;34m\"i4, (2,3)f8\"\u001b[0m\u001b[1;33m)\u001b[0m\u001b[1;33m\u001b[0m\u001b[0m\n\u001b[0;32m      2\u001b[0m \u001b[0mB\u001b[0m \u001b[1;33m=\u001b[0m \u001b[0mnp\u001b[0m\u001b[1;33m.\u001b[0m\u001b[0mdtype\u001b[0m\u001b[1;33m(\u001b[0m\u001b[1;33m[\u001b[0m\u001b[1;33m(\u001b[0m\u001b[1;34m'position'\u001b[0m\u001b[1;33m,\u001b[0m\u001b[1;33m(\u001b[0m\u001b[0mnp\u001b[0m\u001b[1;33m.\u001b[0m\u001b[0mfloat64\u001b[0m\u001b[1;33m,\u001b[0m\u001b[1;36m2\u001b[0m\u001b[1;33m)\u001b[0m\u001b[1;33m)\u001b[0m\u001b[1;33m,\u001b[0m\u001b[1;33m(\u001b[0m\u001b[1;34m'color'\u001b[0m\u001b[1;33m,\u001b[0m\u001b[1;33m(\u001b[0m\u001b[0mnp\u001b[0m\u001b[1;33m.\u001b[0m\u001b[0mint8\u001b[0m\u001b[1;33m,\u001b[0m\u001b[1;33m(\u001b[0m\u001b[1;36m3\u001b[0m\u001b[1;33m,\u001b[0m\u001b[1;36m2\u001b[0m\u001b[1;33m)\u001b[0m\u001b[1;33m)\u001b[0m\u001b[1;33m)\u001b[0m\u001b[1;33m]\u001b[0m\u001b[1;33m)\u001b[0m\u001b[1;33m\u001b[0m\u001b[0m\n\u001b[1;32m----> 3\u001b[1;33m \u001b[0mv\u001b[0m \u001b[1;33m=\u001b[0m \u001b[0mnp\u001b[0m\u001b[1;33m.\u001b[0m\u001b[0marray\u001b[0m\u001b[1;33m(\u001b[0m\u001b[1;33m[\u001b[0m\u001b[1;33m(\u001b[0m\u001b[1;33m(\u001b[0m\u001b[1;36m2.\u001b[0m\u001b[1;33m,\u001b[0m\u001b[1;36m3.\u001b[0m\u001b[1;33m)\u001b[0m\u001b[1;33m,\u001b[0m\u001b[1;33m(\u001b[0m\u001b[1;33m(\u001b[0m\u001b[1;36m3\u001b[0m\u001b[1;33m,\u001b[0m\u001b[1;36m4\u001b[0m\u001b[1;33m,\u001b[0m\u001b[1;36m5\u001b[0m\u001b[1;33m)\u001b[0m\u001b[1;33m,\u001b[0m\u001b[1;33m(\u001b[0m\u001b[1;36m3\u001b[0m\u001b[1;33m,\u001b[0m\u001b[1;36m4\u001b[0m\u001b[1;33m,\u001b[0m\u001b[1;36m5\u001b[0m\u001b[1;33m)\u001b[0m\u001b[1;33m)\u001b[0m\u001b[1;33m)\u001b[0m\u001b[1;33m,\u001b[0m \u001b[1;33m(\u001b[0m\u001b[1;33m(\u001b[0m\u001b[1;36m2.0\u001b[0m\u001b[1;33m,\u001b[0m\u001b[1;36m30.3\u001b[0m\u001b[1;33m)\u001b[0m\u001b[1;33m,\u001b[0m\u001b[1;33m(\u001b[0m\u001b[1;33m(\u001b[0m\u001b[1;36m23\u001b[0m\u001b[1;33m,\u001b[0m\u001b[1;36m56\u001b[0m\u001b[1;33m,\u001b[0m\u001b[1;36m34\u001b[0m\u001b[1;33m)\u001b[0m\u001b[1;33m,\u001b[0m\u001b[1;33m(\u001b[0m\u001b[1;36m3\u001b[0m\u001b[1;33m,\u001b[0m\u001b[1;36m4\u001b[0m\u001b[1;33m,\u001b[0m\u001b[1;36m5\u001b[0m\u001b[1;33m)\u001b[0m\u001b[1;33m)\u001b[0m\u001b[1;33m)\u001b[0m\u001b[1;33m]\u001b[0m\u001b[1;33m,\u001b[0m\u001b[0mdtype\u001b[0m\u001b[1;33m=\u001b[0m\u001b[0mB\u001b[0m\u001b[1;33m)\u001b[0m\u001b[1;33m\u001b[0m\u001b[0m\n\u001b[0m\u001b[0;32m      4\u001b[0m \u001b[0mprint\u001b[0m\u001b[1;33m(\u001b[0m\u001b[0mv\u001b[0m\u001b[1;33m)\u001b[0m\u001b[1;33m\u001b[0m\u001b[0m\n\u001b[0;32m      5\u001b[0m \u001b[0mprint\u001b[0m\u001b[1;33m(\u001b[0m\u001b[0mA\u001b[0m\u001b[1;33m)\u001b[0m\u001b[1;33m\u001b[0m\u001b[0m\n",
      "\u001b[1;31mValueError\u001b[0m: cannot copy sequence with size 2 to array axis with dimension 3"
     ]
    }
   ],
   "source": [
    "A = np.dtype(\"i4, (2,3)f8\")\n",
    "B = np.dtype([('position',(np.float64,2)),('color',(np.int8,(3,2)))])\n",
    "v = np.array([((2.,3.),((3,4,5),(3,4,5))), ((2.0,30.3),((23,56,34),(3,4,5)))],dtype=B)\n",
    "print(v)\n",
    "print(A)"
   ]
  },
  {
   "cell_type": "code",
   "execution_count": 72,
   "metadata": {},
   "outputs": [
    {
     "name": "stdout",
     "output_type": "stream",
     "text": [
      "[((2.,  3. ), ( 3,  4,  5)) ((2., 30.3), (23, 56, 34))]\n",
      "     *** Found in numpy ***\n",
      " dtype()\n",
      "\n",
      "dtype(obj, align=False, copy=False)\n",
      "\n",
      "Create a data type object.\n",
      "\n",
      "A numpy array is homogeneous, and contains elements described by a\n",
      "dtype object. A dtype object can be constructed from different\n",
      "combinations of fundamental numeric types.\n",
      "\n",
      "Parameters\n",
      "----------\n",
      "obj\n",
      "    Object to be converted to a data type object.\n",
      "align : bool, optional\n",
      "    Add padding to the fields to match what a C compiler would output\n",
      "    for a similar C-struct. Can be ``True`` only if `obj` is a dictionary\n",
      "    or a comma-separated string. If a struct dtype is being created,\n",
      "    this also sets a sticky alignment flag ``isalignedstruct``.\n",
      "copy : bool, optional\n",
      "    Make a new copy of the data-type object. If ``False``, the result\n",
      "    may just be a reference to a built-in data-type object.\n",
      "\n",
      "See also\n",
      "--------\n",
      "result_type\n",
      "\n",
      "Examples\n",
      "--------\n",
      "Using array-scalar type:\n",
      "\n",
      ">>> np.dtype(np.int16)\n",
      "dtype('int16')\n",
      "\n",
      "Structured type, one field name 'f1', containing int16:\n",
      "\n",
      ">>> np.dtype([('f1', np.int16)])\n",
      "dtype([('f1', '<i2')])\n",
      "\n",
      "Structured type, one field named 'f1', in itself containing a structured\n",
      "type with one field:\n",
      "\n",
      ">>> np.dtype([('f1', [('f1', np.int16)])])\n",
      "dtype([('f1', [('f1', '<i2')])])\n",
      "\n",
      "Structured type, two fields: the first field contains an unsigned int, the\n",
      "second an int32:\n",
      "\n",
      ">>> np.dtype([('f1', np.uint), ('f2', np.int32)])\n",
      "dtype([('f1', '<u4'), ('f2', '<i4')])\n",
      "\n",
      "Using array-protocol type strings:\n",
      "\n",
      ">>> np.dtype([('a','f8'),('b','S10')])\n",
      "dtype([('a', '<f8'), ('b', '|S10')])\n",
      "\n",
      "Using comma-separated field formats.  The shape is (2,3):\n",
      "\n",
      ">>> np.dtype(\"i4, (2,3)f8\")\n",
      "dtype([('f0', '<i4'), ('f1', '<f8', (2, 3))])\n",
      "\n",
      "Using tuples.  ``int`` is a fixed type, 3 the field's shape.  ``void``\n",
      "is a flexible type, here of size 10:\n",
      "\n",
      ">>> np.dtype([('hello',(int,3)),('world',np.void,10)])\n",
      "dtype([('hello', '<i4', 3), ('world', '|V10')])\n",
      "\n",
      "Subdivide ``int16`` into 2 ``int8``'s, called x and y.  0 and 1 are\n",
      "the offsets in bytes:\n",
      "\n",
      ">>> np.dtype((np.int16, {'x':(np.int8,0), 'y':(np.int8,1)}))\n",
      "dtype(('<i2', [('x', '|i1'), ('y', '|i1')]))\n",
      "\n",
      "Using dictionaries.  Two fields named 'gender' and 'age':\n",
      "\n",
      ">>> np.dtype({'names':['gender','age'], 'formats':['S1',np.uint8]})\n",
      "dtype([('gender', '|S1'), ('age', '|u1')])\n",
      "\n",
      "Offsets in bytes, here 0 and 25:\n",
      "\n",
      ">>> np.dtype({'surname':('S25',0),'age':(np.uint8,25)})\n",
      "dtype([('surname', '|S25'), ('age', '|u1')])\n",
      "\n",
      "\n",
      "Methods:\n",
      "\n",
      "  newbyteorder  --  newbyteorder(new_order='S')\n",
      "----------------------------------------------------------------------------\n",
      "\n",
      "     *** Repeat reference found in numpy.core *** \n",
      "\n",
      "     *** Repeat reference found in numpy.core.multiarray *** \n",
      "\n",
      "     *** Repeat reference found in numpy.core.numerictypes *** \n",
      "\n",
      "     *** Repeat reference found in numpy.core._internal *** \n",
      "\n",
      "     *** Repeat reference found in numpy.core.arrayprint *** \n",
      "\n",
      "     *** Repeat reference found in numpy.core.numeric *** \n",
      "\n",
      "     *** Total of 7 references found. ***\n"
     ]
    }
   ],
   "source": [
    "myStruct = np.dtype([('position',\n",
    "                         [('x',np.float64),('y',np.float64)]\n",
    "                     ),\n",
    "                     ('color',\n",
    "                     [('r',np.int8),('g',np.int8),('b',np.int8)]\n",
    "                     )\n",
    "                    ])\n",
    "v = np.array([((2,3),(3,4,5)), ((2.0,30.3),(23,56,34))],dtype=myStruct)\n",
    "print(v)\n",
    "np.info('dtype')\n",
    "# print(v[0]['position'][1])"
   ]
  },
  {
   "cell_type": "markdown",
   "metadata": {},
   "source": [
    "#### 52. Consider a random vector with shape (100,2) representing coordinates, find point by point distances (★★☆) \n",
    "(**hint**: np.atleast\\_2d, T, np.sqrt)"
   ]
  },
  {
   "cell_type": "code",
   "execution_count": 93,
   "metadata": {},
   "outputs": [
    {
     "name": "stdout",
     "output_type": "stream",
     "text": [
      "[[0.     0.5989 0.5453 0.2846 0.0186 0.0758 0.293  0.1107 0.4847 0.3104]\n",
      " [0.5989 0.     0.1386 0.6972 0.6134 0.6064 0.5591 0.4891 1.0089 0.4921]\n",
      " [0.5453 0.1386 0.     0.6984 0.5619 0.5363 0.4475 0.4424 0.9945 0.3782]\n",
      " [0.2846 0.6972 0.6984 0.     0.2713 0.3596 0.5731 0.3075 0.3193 0.5785]\n",
      " [0.0186 0.6134 0.5619 0.2713 0.     0.0883 0.3094 0.1244 0.4662 0.3283]\n",
      " [0.0758 0.6064 0.5363 0.3596 0.0883 0.     0.2259 0.1434 0.5375 0.2539]\n",
      " [0.293  0.5591 0.4475 0.5731 0.3094 0.2259 0.     0.2843 0.7606 0.0697]\n",
      " [0.1107 0.4891 0.4424 0.3075 0.1244 0.1434 0.2843 0.     0.5627 0.2757]\n",
      " [0.4847 1.0089 0.9945 0.3193 0.4662 0.5375 0.7606 0.5627 0.     0.791 ]\n",
      " [0.3104 0.4921 0.3782 0.5785 0.3283 0.2539 0.0697 0.2757 0.791  0.    ]]\n"
     ]
    }
   ],
   "source": [
    "# Z = np.random.random((10,2))\n",
    "# X,Y = np.atleast_2d(Z[:,0], Z[:,1])\n",
    "# print(X)\n",
    "# D = np.sqrt( (X-X.T)**2 + (Y-Y.T)**2)\n",
    "# print(D)\n",
    "\n",
    "# Much faster with scipy\n",
    "import scipy\n",
    "# Thanks Gavin Heverly-Coulson (#issue 1)\n",
    "import scipy.spatial\n",
    "\n",
    "Z = np.random.random((10,2))\n",
    "D = scipy.spatial.distance.cdist(Z,Z)\n",
    "print(D)"
   ]
  },
  {
   "cell_type": "markdown",
   "metadata": {},
   "source": [
    "#### 53. How to convert a float (32 bits) array into an integer (32 bits) in place? \n",
    "(**hint**: astype(copy=False))"
   ]
  },
  {
   "cell_type": "code",
   "execution_count": 107,
   "metadata": {},
   "outputs": [
    {
     "name": "stdout",
     "output_type": "stream",
     "text": [
      "[[8.8319 7.9074 4.751 ]\n",
      " [0.178  3.3659 2.0207]\n",
      " [4.1982 9.6522 1.9906]\n",
      " [1.4866 1.4619 3.7953]]\n",
      "[[8 7 4]\n",
      " [0 3 2]\n",
      " [4 9 1]\n",
      " [1 1 3]]\n",
      "[[8.8319 7.9074 4.751 ]\n",
      " [0.178  3.3659 2.0207]\n",
      " [4.1982 9.6522 1.9906]\n",
      " [1.4866 1.4619 3.7953]]\n"
     ]
    }
   ],
   "source": [
    "A = np.random.random((4,3))*10\n",
    "print(A)\n",
    "B = A.astype(int,copy = False)\n",
    "print(B)\n",
    "print(A)"
   ]
  },
  {
   "cell_type": "markdown",
   "metadata": {},
   "source": [
    "#### 54. How to read the following file? (★★☆) \n",
    "(**hint**: np.genfromtxt)"
   ]
  },
  {
   "cell_type": "markdown",
   "metadata": {},
   "source": [
    "```\n",
    "1, 2, 3, 4, 5\n",
    "6,  ,  , 7, 8\n",
    " ,  , 9,10,11\n",
    "```"
   ]
  },
  {
   "cell_type": "code",
   "execution_count": 103,
   "metadata": {},
   "outputs": [
    {
     "name": "stdout",
     "output_type": "stream",
     "text": [
      "[[ 1.  2.  3.  4.  5.  6.  7.  8.  9. 10. 11.]\n",
      " [ 2.  0.  0.  0.  0.  0.  2.  1.  2. 11. 22.]]\n",
      "     *** Found in numpy ***\n",
      " genfromtxt(fname, dtype=<class 'float'>, comments='#', delimiter=None,\n",
      "            skip_header=0, skip_footer=0, converters=None,\n",
      "            missing_values=None, filling_values=None, usecols=None,\n",
      "            names=None, excludelist=None, deletechars=None, replace_space='_',\n",
      "            autostrip=False, case_sensitive=True, defaultfmt='f%i',\n",
      "            unpack=None, usemask=False, loose=True, invalid_raise=True,\n",
      "            max_rows=None, encoding='bytes')\n",
      "\n",
      "Load data from a text file, with missing values handled as specified.\n",
      "\n",
      "Each line past the first `skip_header` lines is split at the `delimiter`\n",
      "character, and characters following the `comments` character are discarded.\n",
      "\n",
      "Parameters\n",
      "----------\n",
      "fname : file, str, pathlib.Path, list of str, generator\n",
      "    File, filename, list, or generator to read.  If the filename\n",
      "    extension is `.gz` or `.bz2`, the file is first decompressed. Note\n",
      "    that generators must return byte strings in Python 3k.  The strings\n",
      "    in a list or produced by a generator are treated as lines.\n",
      "dtype : dtype, optional\n",
      "    Data type of the resulting array.\n",
      "    If None, the dtypes will be determined by the contents of each\n",
      "    column, individually.\n",
      "comments : str, optional\n",
      "    The character used to indicate the start of a comment.\n",
      "    All the characters occurring on a line after a comment are discarded\n",
      "delimiter : str, int, or sequence, optional\n",
      "    The string used to separate values.  By default, any consecutive\n",
      "    whitespaces act as delimiter.  An integer or sequence of integers\n",
      "    can also be provided as width(s) of each field.\n",
      "skiprows : int, optional\n",
      "    `skiprows` was removed in numpy 1.10. Please use `skip_header` instead.\n",
      "skip_header : int, optional\n",
      "    The number of lines to skip at the beginning of the file.\n",
      "skip_footer : int, optional\n",
      "    The number of lines to skip at the end of the file.\n",
      "converters : variable, optional\n",
      "    The set of functions that convert the data of a column to a value.\n",
      "    The converters can also be used to provide a default value\n",
      "    for missing data: ``converters = {3: lambda s: float(s or 0)}``.\n",
      "missing : variable, optional\n",
      "    `missing` was removed in numpy 1.10. Please use `missing_values`\n",
      "    instead.\n",
      "missing_values : variable, optional\n",
      "    The set of strings corresponding to missing data.\n",
      "filling_values : variable, optional\n",
      "    The set of values to be used as default when the data are missing.\n",
      "usecols : sequence, optional\n",
      "    Which columns to read, with 0 being the first.  For example,\n",
      "    ``usecols = (1, 4, 5)`` will extract the 2nd, 5th and 6th columns.\n",
      "names : {None, True, str, sequence}, optional\n",
      "    If `names` is True, the field names are read from the first line after\n",
      "    the first `skip_header` lines.  This line can optionally be proceeded\n",
      "    by a comment delimiter. If `names` is a sequence or a single-string of\n",
      "    comma-separated names, the names will be used to define the field names\n",
      "    in a structured dtype. If `names` is None, the names of the dtype\n",
      "    fields will be used, if any.\n",
      "excludelist : sequence, optional\n",
      "    A list of names to exclude. This list is appended to the default list\n",
      "    ['return','file','print']. Excluded names are appended an underscore:\n",
      "    for example, `file` would become `file_`.\n",
      "deletechars : str, optional\n",
      "    A string combining invalid characters that must be deleted from the\n",
      "    names.\n",
      "defaultfmt : str, optional\n",
      "    A format used to define default field names, such as \"f%i\" or \"f_%02i\".\n",
      "autostrip : bool, optional\n",
      "    Whether to automatically strip white spaces from the variables.\n",
      "replace_space : char, optional\n",
      "    Character(s) used in replacement of white spaces in the variables\n",
      "    names. By default, use a '_'.\n",
      "case_sensitive : {True, False, 'upper', 'lower'}, optional\n",
      "    If True, field names are case sensitive.\n",
      "    If False or 'upper', field names are converted to upper case.\n",
      "    If 'lower', field names are converted to lower case.\n",
      "unpack : bool, optional\n",
      "    If True, the returned array is transposed, so that arguments may be\n",
      "    unpacked using ``x, y, z = loadtxt(...)``\n",
      "usemask : bool, optional\n",
      "    If True, return a masked array.\n",
      "    If False, return a regular array.\n",
      "loose : bool, optional\n",
      "    If True, do not raise errors for invalid values.\n",
      "invalid_raise : bool, optional\n",
      "    If True, an exception is raised if an inconsistency is detected in the\n",
      "    number of columns.\n",
      "    If False, a warning is emitted and the offending lines are skipped.\n",
      "max_rows : int,  optional\n",
      "    The maximum number of rows to read. Must not be used with skip_footer\n",
      "    at the same time.  If given, the value must be at least 1. Default is\n",
      "    to read the entire file.\n",
      "\n",
      "    .. versionadded:: 1.10.0\n",
      "encoding : str, optional\n",
      "    Encoding used to decode the inputfile. Does not apply when `fname` is\n",
      "    a file object.  The special value 'bytes' enables backward compatibility\n",
      "    workarounds that ensure that you receive byte arrays when possible\n",
      "    and passes latin1 encoded strings to converters. Override this value to\n",
      "    receive unicode arrays and pass strings as input to converters.  If set\n",
      "    to None the system default is used. The default value is 'bytes'.\n",
      "\n",
      "    .. versionadded:: 1.14.0\n",
      "\n",
      "Returns\n",
      "-------\n",
      "out : ndarray\n",
      "    Data read from the text file. If `usemask` is True, this is a\n",
      "    masked array.\n",
      "\n",
      "See Also\n",
      "--------\n",
      "numpy.loadtxt : equivalent function when no data is missing.\n",
      "\n",
      "Notes\n",
      "-----\n",
      "* When spaces are used as delimiters, or when no delimiter has been given\n",
      "  as input, there should not be any missing data between two fields.\n",
      "* When the variables are named (either by a flexible dtype or with `names`,\n",
      "  there must not be any header in the file (else a ValueError\n",
      "  exception is raised).\n",
      "* Individual values are not stripped of spaces by default.\n",
      "  When using a custom converter, make sure the function does remove spaces.\n",
      "\n",
      "References\n",
      "----------\n",
      ".. [1] NumPy User Guide, section `I/O with NumPy\n",
      "       <http://docs.scipy.org/doc/numpy/user/basics.io.genfromtxt.html>`_.\n",
      "\n",
      "Examples\n",
      "---------\n",
      ">>> from io import StringIO\n",
      ">>> import numpy as np\n",
      "\n",
      "Comma delimited file with mixed dtype\n",
      "\n",
      ">>> s = StringIO(u\"1,1.3,abcde\")\n",
      ">>> data = np.genfromtxt(s, dtype=[('myint','i8'),('myfloat','f8'),\n",
      "... ('mystring','S5')], delimiter=\",\")\n",
      ">>> data\n",
      "array((1, 1.3, 'abcde'),\n",
      "      dtype=[('myint', '<i8'), ('myfloat', '<f8'), ('mystring', '|S5')])\n",
      "\n",
      "Using dtype = None\n",
      "\n",
      ">>> s.seek(0) # needed for StringIO example only\n",
      ">>> data = np.genfromtxt(s, dtype=None,\n",
      "... names = ['myint','myfloat','mystring'], delimiter=\",\")\n",
      ">>> data\n",
      "array((1, 1.3, 'abcde'),\n",
      "      dtype=[('myint', '<i8'), ('myfloat', '<f8'), ('mystring', '|S5')])\n",
      "\n",
      "Specifying dtype and names\n",
      "\n",
      ">>> s.seek(0)\n",
      ">>> data = np.genfromtxt(s, dtype=\"i8,f8,S5\",\n",
      "... names=['myint','myfloat','mystring'], delimiter=\",\")\n",
      ">>> data\n",
      "array((1, 1.3, 'abcde'),\n",
      "      dtype=[('myint', '<i8'), ('myfloat', '<f8'), ('mystring', '|S5')])\n",
      "\n",
      "An example with fixed-width columns\n",
      "\n",
      ">>> s = StringIO(u\"11.3abcde\")\n",
      ">>> data = np.genfromtxt(s, dtype=None, names=['intvar','fltvar','strvar'],\n",
      "...     delimiter=[1,3,5])\n",
      ">>> data\n",
      "array((1, 1.3, 'abcde'),\n",
      "      dtype=[('intvar', '<i8'), ('fltvar', '<f8'), ('strvar', '|S5')])\n",
      "----------------------------------------------------------------------------\n",
      "\n",
      "     *** Repeat reference found in numpy.lib *** \n",
      "\n",
      "     *** Repeat reference found in numpy.lib.npyio *** \n",
      "\n",
      "     *** Total of 3 references found. ***\n"
     ]
    }
   ],
   "source": [
    "A = np.genfromtxt('test.txt',delimiter = ',', encoding = 'utf-8')\n",
    "print(A)\n",
    "np.info('genfromtxt',)"
   ]
  },
  {
   "cell_type": "markdown",
   "metadata": {},
   "source": [
    "#### 55. What is the equivalent of enumerate for numpy arrays? (★★☆) \n",
    "(**hint**: np.ndenumerate, np.ndindex)"
   ]
  },
  {
   "cell_type": "code",
   "execution_count": 116,
   "metadata": {},
   "outputs": [
    {
     "name": "stdout",
     "output_type": "stream",
     "text": [
      "[[0.0211 0.5102]\n",
      " [0.3923 0.7397]\n",
      " [0.4268 0.4467]\n",
      " [0.783  0.2774]\n",
      " [0.155  0.9243]\n",
      " [0.879  0.2581]]\n",
      "0.02107332370602144\n",
      "0.5101515274313295\n",
      "0.39233283251543927\n",
      "0.7397457292727302\n",
      "0.42680691504661294\n",
      "0.44669358648552826\n",
      "0.7829609646862354\n",
      "0.2774079587101771\n",
      "0.1549591399898128\n",
      "0.9242649388851053\n",
      "0.878969933562535\n",
      "0.25809316138956817\n",
      "0.02107332370602144\n",
      "0.5101515274313295\n",
      "0.39233283251543927\n",
      "0.7397457292727302\n",
      "0.42680691504661294\n",
      "0.44669358648552826\n",
      "0.7829609646862354\n",
      "0.2774079587101771\n",
      "0.1549591399898128\n",
      "0.9242649388851053\n",
      "0.878969933562535\n",
      "0.25809316138956817\n",
      "     *** Found in numpy ***\n",
      " ndindex()\n",
      "\n",
      "An N-dimensional iterator object to index arrays.\n",
      "\n",
      "Given the shape of an array, an `ndindex` instance iterates over\n",
      "the N-dimensional index of the array. At each iteration a tuple\n",
      "of indices is returned, the last dimension is iterated over first.\n",
      "\n",
      "Parameters\n",
      "----------\n",
      "`*args` : ints\n",
      "  The size of each dimension of the array.\n",
      "\n",
      "See Also\n",
      "--------\n",
      "ndenumerate, flatiter\n",
      "\n",
      "Examples\n",
      "--------\n",
      ">>> for index in np.ndindex(3, 2, 1):\n",
      "...     print(index)\n",
      "(0, 0, 0)\n",
      "(0, 1, 0)\n",
      "(1, 0, 0)\n",
      "(1, 1, 0)\n",
      "(2, 0, 0)\n",
      "(2, 1, 0)\n",
      "\n",
      "\n",
      "Methods:\n",
      "\n",
      "  ndincr  --  Increment the multi-dimensional index by one.\n",
      "  next  --  \n",
      "----------------------------------------------------------------------------\n",
      "\n",
      "     *** Repeat reference found in numpy.lib *** \n",
      "\n",
      "     *** Repeat reference found in numpy.lib.index_tricks *** \n",
      "\n",
      "     *** Repeat reference found in numpy.lib.shape_base *** \n",
      "\n",
      "     *** Total of 4 references found. ***\n"
     ]
    }
   ],
   "source": [
    "A = np.random.random((6,2))\n",
    "print(A)\n",
    "for index, v in np.ndenumerate(A):\n",
    "    print(v)\n",
    "    \n",
    "for i in np.ndindex(A.shape):\n",
    "    print(A[i])\n",
    "np.info('ndindex')"
   ]
  },
  {
   "cell_type": "markdown",
   "metadata": {},
   "source": [
    "#### 56. Generate a generic 2D Gaussian-like array (★★☆) \n",
    "(**hint**: np.meshgrid, np.exp)"
   ]
  },
  {
   "cell_type": "code",
   "execution_count": 131,
   "metadata": {},
   "outputs": [
    {
     "name": "stdout",
     "output_type": "stream",
     "text": [
      "[-0.2108  0.1219  0.5555  0.9788  0.963  -0.5965  0.6872 -0.216  -0.6038\n",
      "  0.5689  0.5585  0.3351 -0.4101  0.762  -0.6939  0.4146 -0.0678 -0.397\n",
      " -0.6503  0.4262 -0.6079 -0.906   0.2926  0.7433 -0.8455  0.48    0.4117\n",
      " -0.4394  0.7349  0.8338 -0.6306  0.8611  0.3722 -0.7104  0.4995  0.8038\n",
      "  0.2941  0.0169  0.8441  0.7965  0.9268 -0.579   0.1072  0.99    0.9041\n",
      "  0.9347 -0.5788  0.6213 -0.7981  0.5654  0.959   0.5091 -0.9282  0.6854\n",
      "  0.6761  0.9541  0.7123  0.1172 -0.3193  0.3218  0.3845 -0.8118 -0.5901\n",
      "  0.7183 -0.3452 -0.563   0.7925 -0.3562  0.7426  0.6005 -0.5268  0.6012\n",
      "  0.8312  0.7872  0.0771  0.3851  0.3782 -0.1682 -0.3554 -0.0905 -0.9079\n",
      " -0.3147 -0.2948  0.9648 -0.6414 -0.1923 -0.1626 -0.689   0.1774 -0.6538\n",
      " -0.4271 -0.3719  0.294  -0.8063 -0.264  -0.0955 -0.2962  0.432   0.6604\n",
      " -0.3179]\n"
     ]
    },
    {
     "data": {
      "image/png": "[encoded data removed]",
      "text/plain": [
       "<Figure size 432x288 with 1 Axes>"
      ]
     },
     "metadata": {},
     "output_type": "display_data"
    }
   ],
   "source": [
    "X = np.random.random((100,))*2 - 1\n",
    "print(X)\n",
    "Y = np.random.random((100,))*2 - 1\n",
    "XG,YG = np.meshgrid(X,Y)\n",
    "\n",
    "import matplotlib.pyplot as plt\n",
    "from mpl_toolkits.mplot3d import Axes3D #绘制3D坐标的函数 \n",
    "\n",
    "Z = np.exp(-(XG**2 + YG**2/2)/2)/(2*np.pi*np.sqrt(2))\n",
    "# print(Z)\n",
    "\n",
    "%matplotlib inline\n",
    "fig1=plt.figure()#创建一个绘图对象\n",
    "ax=Axes3D(fig1)#用这个绘图对象创建一个Axes对象(有3D坐标)\n",
    "ax.plot_surface(XG,YG,Z,cmap=plt.cm.spring,)\n",
    "ax.contour(XG,YG,Z, cmap = 'spring')\n",
    "plt.show()"
   ]
  },
  {
   "cell_type": "markdown",
   "metadata": {},
   "source": [
    "#### 57. How to randomly place p elements in a 2D array? (★★☆) \n",
    "(**hint**: np.put, np.random.choice)"
   ]
  },
  {
   "cell_type": "code",
   "execution_count": 138,
   "metadata": {},
   "outputs": [
    {
     "name": "stdout",
     "output_type": "stream",
     "text": [
      "[[0.8889 0.7416 0.9284]\n",
      " [0.7767 0.0206 0.6764]\n",
      " [0.5864 0.4067 0.0482]\n",
      " [0.6038 0.6771 0.3734]]\n",
      "[ 3  9 10]\n",
      "[0.7767 0.6038 0.6771]\n",
      "[[0.8889 0.7416 0.9284]\n",
      " [0.     0.0206 0.6764]\n",
      " [0.5864 0.4067 0.0482]\n",
      " [1.     2.     0.3734]]\n"
     ]
    }
   ],
   "source": [
    "A = np.random.random((4,3))\n",
    "print(A)\n",
    "idx = np.random.choice(A.shape[0]*A.shape[1],3)\n",
    "print(idx)\n",
    "print(A[np.unravel_index(idx,A.shape)])\n",
    "np.put(A,idx,[0,1,2])\n",
    "print(A)\n",
    "# np.info('put')"
   ]
  },
  {
   "cell_type": "markdown",
   "metadata": {},
   "source": [
    "#### 58. Subtract the mean of each row of a matrix (★★☆) \n",
    "(**hint**: mean(axis=,keepdims=))"
   ]
  },
  {
   "cell_type": "code",
   "execution_count": 141,
   "metadata": {},
   "outputs": [
    {
     "name": "stdout",
     "output_type": "stream",
     "text": [
      "[[0.5876 0.6376 0.3313]\n",
      " [0.1247 0.3797 0.6635]\n",
      " [0.219  0.0447 0.0754]\n",
      " [0.1958 0.8486 0.9205]]\n",
      "[[ 0.3058  0.1599 -0.1664]\n",
      " [-0.1571 -0.098   0.1658]\n",
      " [-0.0627 -0.4329 -0.4223]\n",
      " [-0.086   0.371   0.4228]]\n"
     ]
    }
   ],
   "source": [
    "A = np.random.random((4,3))\n",
    "print(A)\n",
    "B= A - np.mean(A,axis = 0)\n",
    "print(B)"
   ]
  },
  {
   "cell_type": "markdown",
   "metadata": {},
   "source": [
    "#### 59. How to sort an array by the nth column? (★★☆) \n",
    "(**hint**: argsort)"
   ]
  },
  {
   "cell_type": "code",
   "execution_count": 164,
   "metadata": {},
   "outputs": [
    {
     "name": "stdout",
     "output_type": "stream",
     "text": [
      "[[0.8665 0.2101 0.5626]\n",
      " [0.5595 0.0518 0.0644]\n",
      " [0.9553 0.6436 0.3287]\n",
      " [0.8949 0.513  0.0947]\n",
      " [0.2181 0.5983 0.0225]]\n",
      "[[0.2181 0.0518 0.0225]\n",
      " [0.5595 0.2101 0.0644]\n",
      " [0.8665 0.513  0.0947]\n",
      " [0.8949 0.5983 0.3287]\n",
      " [0.9553 0.6436 0.5626]]\n",
      "[[8 4 9]\n",
      " [5 4 6]\n",
      " [5 7 6]\n",
      " [2 4 9]\n",
      " [9 4 1]]\n",
      "[0 1 3 4 2]\n",
      "[[8 4 9]\n",
      " [5 4 6]\n",
      " [2 4 9]\n",
      " [9 4 1]\n",
      " [5 7 6]]\n"
     ]
    }
   ],
   "source": [
    "A = np.random.random((5,3))\n",
    "print(A)\n",
    "idx = np.argsort(A,axis=0,kind = 'quicksort', )\n",
    "# idx_unravel = np.unravel_index(idx, A.shape)\n",
    "# print(idx_unravel)\n",
    "# np.info('take_along_axis')\n",
    "B = np.take_along_axis(A, idx, axis=0)\n",
    "print(B)\n",
    "\n",
    "# C = np.mean(A,axis = 1)\n",
    "# print(C)\n",
    "# np.info('argsort')\n",
    "\n",
    "\n",
    "# Author: Steve Tjoa\n",
    "\n",
    "Z = np.random.randint(0,10,(5,3))\n",
    "print(Z)\n",
    "idx = Z[:,1].argsort()\n",
    "print(idx)\n",
    "print(Z[idx])"
   ]
  },
  {
   "cell_type": "markdown",
   "metadata": {},
   "source": [
    "#### 60. How to tell if a given 2D array has null columns? (★★☆) \n",
    "(**hint**: any, ~)"
   ]
  },
  {
   "cell_type": "code",
   "execution_count": 191,
   "metadata": {},
   "outputs": [
    {
     "name": "stdout",
     "output_type": "stream",
     "text": [
      "[[0.9786 0.3413 0.1083]\n",
      " [0.4862 0.7667 0.7806]\n",
      " [0.1635 0.098  0.9896]\n",
      " [0.2488 0.4433 0.7254]\n",
      " [0.8949 0.522  0.9755]]\n",
      "False\n",
      "     *** Found in numpy ***\n",
      " any(a, axis=None, out=None, keepdims=<no value>)\n",
      "\n",
      "Test whether any array element along a given axis evaluates to True.\n",
      "\n",
      "Returns single boolean unless `axis` is not ``None``\n",
      "\n",
      "Parameters\n",
      "----------\n",
      "a : array_like\n",
      "    Input array or object that can be converted to an array.\n",
      "axis : None or int or tuple of ints, optional\n",
      "    Axis or axes along which a logical OR reduction is performed.\n",
      "    The default (`axis` = `None`) is to perform a logical OR over all\n",
      "    the dimensions of the input array. `axis` may be negative, in\n",
      "    which case it counts from the last to the first axis.\n",
      "\n",
      "    .. versionadded:: 1.7.0\n",
      "\n",
      "    If this is a tuple of ints, a reduction is performed on multiple\n",
      "    axes, instead of a single axis or all the axes as before.\n",
      "out : ndarray, optional\n",
      "    Alternate output array in which to place the result.  It must have\n",
      "    the same shape as the expected output and its type is preserved\n",
      "    (e.g., if it is of type float, then it will remain so, returning\n",
      "    1.0 for True and 0.0 for False, regardless of the type of `a`).\n",
      "    See `doc.ufuncs` (Section \"Output arguments\") for details.\n",
      "\n",
      "keepdims : bool, optional\n",
      "    If this is set to True, the axes which are reduced are left\n",
      "    in the result as dimensions with size one. With this option,\n",
      "    the result will broadcast correctly against the input array.\n",
      "\n",
      "    If the default value is passed, then `keepdims` will not be\n",
      "    passed through to the `any` method of sub-classes of\n",
      "    `ndarray`, however any non-default value will be.  If the\n",
      "    sub-class' method does not implement `keepdims` any\n",
      "    exceptions will be raised.\n",
      "\n",
      "Returns\n",
      "-------\n",
      "any : bool or ndarray\n",
      "    A new boolean or `ndarray` is returned unless `out` is specified,\n",
      "    in which case a reference to `out` is returned.\n",
      "\n",
      "See Also\n",
      "--------\n",
      "ndarray.any : equivalent method\n",
      "\n",
      "all : Test whether all elements along a given axis evaluate to True.\n",
      "\n",
      "Notes\n",
      "-----\n",
      "Not a Number (NaN), positive infinity and negative infinity evaluate\n",
      "to `True` because these are not equal to zero.\n",
      "\n",
      "Examples\n",
      "--------\n",
      ">>> np.any([[True, False], [True, True]])\n",
      "True\n",
      "\n",
      ">>> np.any([[True, False], [False, False]], axis=0)\n",
      "array([ True, False])\n",
      "\n",
      ">>> np.any([-1, 0, 5])\n",
      "True\n",
      "\n",
      ">>> np.any(np.nan)\n",
      "True\n",
      "\n",
      ">>> o=np.array([False])\n",
      ">>> z=np.any([-1, 4, 5], out=o)\n",
      ">>> z, o\n",
      "(array([ True]), array([ True]))\n",
      ">>> # Check now that z is a reference to o\n",
      ">>> z is o\n",
      "True\n",
      ">>> id(z), id(o) # identity of z and o              # doctest: +SKIP\n",
      "(191614240, 191614240)\n",
      "----------------------------------------------------------------------------\n",
      "\n",
      "     *** Repeat reference found in numpy.core *** \n",
      "\n",
      "     *** Repeat reference found in numpy.lib.scimath *** \n",
      "     *** Found in numpy.ma ***\n",
      "any(self, axis=None, out=None, keepdims=<no value>)\n",
      "\n",
      "Returns True if any of the elements of `a` evaluate to True.\n",
      "\n",
      "Masked values are considered as False during computation.\n",
      "\n",
      "Refer to `numpy.any` for full documentation.\n",
      "\n",
      "See Also\n",
      "--------\n",
      "ndarray.any : corresponding function for ndarrays\n",
      "numpy.any : equivalent function\n",
      "----------------------------------------------------------------------------\n",
      "\n",
      "     *** Repeat reference found in numpy.core.fromnumeric *** \n",
      "\n",
      "     *** Repeat reference found in numpy.core.arrayprint *** \n",
      "\n",
      "     *** Repeat reference found in numpy.core.numeric *** \n",
      "\n",
      "     *** Repeat reference found in numpy.core.machar *** \n",
      "\n",
      "     *** Repeat reference found in numpy.lib.function_base *** \n",
      "\n",
      "     *** Repeat reference found in numpy.ma.core *** \n",
      "     *** Found in builtins ***\n",
      "Return True if bool(x) is True for any x in the iterable.\n",
      "\n",
      "If the iterable is empty, return False.\n",
      "----------------------------------------------------------------------------\n",
      "     *** Found in tokenize ***\n",
      " any(*choices)\n",
      "\n",
      "None\n",
      "----------------------------------------------------------------------------\n",
      "\n",
      "     *** Total of 12 references found. ***\n"
     ]
    }
   ],
   "source": [
    "A = np.random.random((5,3))\n",
    "# A[:,0] = 0\n",
    "print(A)\n",
    "print((~A.any(axis=0)).any())\n",
    "np.info('any')"
   ]
  },
  {
   "cell_type": "markdown",
   "metadata": {},
   "source": [
    "#### 61. Find the nearest value from a given value in an array (★★☆) \n",
    "(**hint**: np.abs, argmin, flat)"
   ]
  },
  {
   "cell_type": "code",
   "execution_count": 194,
   "metadata": {},
   "outputs": [
    {
     "name": "stdout",
     "output_type": "stream",
     "text": [
      "[-1 -5 10  9 14 10 -1 12  1  4]\n",
      "4\n"
     ]
    }
   ],
   "source": [
    "arch = 4.3\n",
    "A = np.random.randint(-5,15,10)\n",
    "print(A)\n",
    "print(A[np.argmin(np.abs(A - arch))])"
   ]
  },
  {
   "cell_type": "markdown",
   "metadata": {},
   "source": [
    "#### 62. Considering two arrays with shape (1,3) and (3,1), how to compute their sum using an iterator? (★★☆) \n",
    "(**hint**: np.nditer)"
   ]
  },
  {
   "cell_type": "code",
   "execution_count": 234,
   "metadata": {},
   "outputs": [
    {
     "name": "stdout",
     "output_type": "stream",
     "text": [
      "[[3 4 7]]\n",
      "[[12]\n",
      " [ 7]\n",
      " [-3]]\n",
      "[[15 16 19]\n",
      " [10 11 14]\n",
      " [ 0  1  4]]\n"
     ]
    }
   ],
   "source": [
    "A = np.random.randint(-5,15,(1,3))\n",
    "print(A)\n",
    "B = np.random.randint(-5,15,(3,1))\n",
    "print(B)\n",
    "it = np.nditer((A,B,None),)\n",
    "for x,y,z in it:\n",
    "    z[...] = x + y\n",
    "#     print('x:{0};y:{1}'.format(x,y))\n",
    "    \n",
    "print(it.operands[2])\n",
    "# for i in np.nditer(A):\n",
    "#     print(i)\n",
    "# # np.info('nditer')\n",
    "\n",
    "\n",
    "# A = np.linspace(-1,1,20).reshape(20,1)\n",
    "# B = np.linspace(-1,1,20).reshape(1,20)\n",
    "# print(A)\n",
    "\n",
    "# it = np.nditer((A,B,None))\n",
    "\n",
    "# for x,y,z in it:\n",
    "#     z[...] = np.exp(-(x**2 + y**2/2)/2)/(2*np.pi*np.sqrt(2))\n",
    "\n",
    "    \n",
    "# import matplotlib.pyplot as plt\n",
    "# from mpl_toolkits.mplot3d import Axes3D #绘制3D坐标的函数 \n",
    "\n",
    "\n",
    "# %matplotlib inline\n",
    "# fig1=plt.figure()#创建一个绘图对象\n",
    "# ax=Axes3D(fig1)#用这个绘图对象创建一个Axes对象(有3D坐标)\n",
    "# ax.plot_surface(np.tile(A,(1,20)),np.tile(B,(20,1)),it.operands[2],cmap=plt.cm.hsv,)\n",
    "# ax.contour(np.tile(A,(1,20)),np.tile(B,(20,1)),it.operands[2], cmap = 'summer')\n",
    "# plt.show()"
   ]
  },
  {
   "cell_type": "markdown",
   "metadata": {},
   "source": [
    "#### 63. Create an array class that has a name attribute (★★☆) \n",
    "(**hint**: class method)"
   ]
  },
  {
   "cell_type": "code",
   "execution_count": 243,
   "metadata": {},
   "outputs": [
    {
     "name": "stdout",
     "output_type": "stream",
     "text": [
      "20.2\n",
      "26.2\n"
     ]
    }
   ],
   "source": [
    "class NamedArray(np.ndarray):\n",
    "    def __new__(cls, array, name=\"no name\",):\n",
    "        obj = np.asarray(array).view(cls)\n",
    "        obj.name = name\n",
    "        return obj\n",
    "    def __array_finalize__(self, obj):\n",
    "        if obj is None: return\n",
    "        self.info = getattr(obj, 'name', \"no name\")\n",
    "\n",
    "Z = NamedArray(np.arange(10), \"range_%d\"%10)\n",
    "print(Z.name)\n",
    "\n",
    "\n",
    "def add(a, b, x=1,y=3,z=3.3):\n",
    "    return a + b + x + 2*y + 3*z\n",
    "\n",
    "print(add(1.1,2.2))\n",
    "print(add(1.1,2.2,y=6))"
   ]
  },
  {
   "cell_type": "markdown",
   "metadata": {},
   "source": [
    "#### 64. Consider a given vector, how to add 1 to each element indexed by a second vector (be careful with repeated indices)? (★★★) \n",
    "(**hint**: np.bincount | np.add.at)"
   ]
  },
  {
   "cell_type": "code",
   "execution_count": 268,
   "metadata": {},
   "outputs": [
    {
     "name": "stdout",
     "output_type": "stream",
     "text": [
      "A\n",
      "[10  5  3 16  6  9  8 12  7  5]\n",
      "idx\n",
      "[6 4 5 2 4 5 8 2 7 9 2 3 2]\n",
      "real_idx\n",
      "[2 3 4 5 6 7 8 9]\n",
      "A+\n",
      "[10  5  4 17  7 10  9 13  8  6]\n",
      "idx_bool\n",
      "[False False  True  True  True  True  True  True  True  True]\n",
      "A++\n",
      "[10  5  5 18  8 11 10 14  9  7]\n"
     ]
    }
   ],
   "source": [
    "A = np.random.randint(3,19,10)\n",
    "print('A')\n",
    "print(A)\n",
    "idx = np.random.randint(0,len(A),13)\n",
    "print('idx')\n",
    "print(idx)\n",
    "\n",
    "real_idx = np.unique(idx)\n",
    "print('real_idx')\n",
    "print(real_idx)\n",
    "\n",
    "A[real_idx] +=1 \n",
    "print('A+')\n",
    "print(A)\n",
    "\n",
    "idx_bool = np.bincount(idx)>0\n",
    "print('idx_bool')\n",
    "print(idx_bool)\n",
    "\n",
    "A[idx_bool] += 1\n",
    "print('A++')\n",
    "print(A)\n",
    "# A[idx_bool] += 1\n",
    "# print('A++')\n",
    "# print(A)\n",
    "# zeros = np.ones((10,))\n",
    "# realone = one[np.bincount(idx)>0]\n",
    "# print(realone)\n",
    "# B = np.add.at(A,np.bincount(idx)>0,1)\n",
    "# print(B)\n",
    "# print(np.bincount(idx))\n",
    "# np.info('bincount')"
   ]
  },
  {
   "cell_type": "markdown",
   "metadata": {},
   "source": [
    "#### 65. How to accumulate elements of a vector (X) to an array (F) based on an index list (I)? (★★★) \n",
    "(**hint**: np.bincount)"
   ]
  },
  {
   "cell_type": "code",
   "execution_count": 270,
   "metadata": {},
   "outputs": [
    {
     "name": "stdout",
     "output_type": "stream",
     "text": [
      "[ 9  8  6 10  6 17  3  4 17  4]\n",
      "[ 8 15 11  5  6  5  6  5 11  1]\n",
      "[0 3 4 5 6 9]\n",
      "[17 15 11 15 12 22  9  5 11  5]\n"
     ]
    }
   ],
   "source": [
    "A = np.random.randint(3,19,10)\n",
    "print(A)\n",
    "\n",
    "B = np.random.randint(-2,19,10)\n",
    "print(B)\n",
    "idx = np.random.randint(0,len(A),13)\n",
    "idx_unique = np.unique(idx)\n",
    "B[idx_unique] += A[idx_unique]\n",
    "print(idx_unique)\n",
    "print(B)"
   ]
  },
  {
   "cell_type": "markdown",
   "metadata": {},
   "source": [
    "#### 66. Considering a (w,h,3) image of (dtype=ubyte), compute the number of unique colors (★★★) \n",
    "(**hint**: np.unique)"
   ]
  },
  {
   "cell_type": "code",
   "execution_count": 294,
   "metadata": {
    "scrolled": false
   },
   "outputs": [
    {
     "name": "stdout",
     "output_type": "stream",
     "text": [
      "(2, 3, 3)\n",
      "[[[1 2 3]\n",
      "  [1 0 0]\n",
      "  [1 3 4]]\n",
      "\n",
      " [[4 5 6]\n",
      "  [1 0 0]\n",
      "  [1 3 4]]]\n",
      "[[[1 2 3]\n",
      "  [1 0 0]\n",
      "  [1 3 4]]\n",
      "\n",
      " [[4 5 6]\n",
      "  [1 0 0]\n",
      "  [1 3 4]]]\n",
      "(440,)\n",
      "     *** Found in numpy ***\n",
      " unique(ar, return_index=False, return_inverse=False, return_counts=False,\n",
      "        axis=None)\n",
      "\n",
      "Find the unique elements of an array.\n",
      "\n",
      "Returns the sorted unique elements of an array. There are three optional\n",
      "outputs in addition to the unique elements:\n",
      "\n",
      "* the indices of the input array that give the unique values\n",
      "* the indices of the unique array that reconstruct the input array\n",
      "* the number of times each unique value comes up in the input array\n",
      "\n",
      "Parameters\n",
      "----------\n",
      "ar : array_like\n",
      "    Input array. Unless `axis` is specified, this will be flattened if it\n",
      "    is not already 1-D.\n",
      "return_index : bool, optional\n",
      "    If True, also return the indices of `ar` (along the specified axis,\n",
      "    if provided, or in the flattened array) that result in the unique array.\n",
      "return_inverse : bool, optional\n",
      "    If True, also return the indices of the unique array (for the specified\n",
      "    axis, if provided) that can be used to reconstruct `ar`.\n",
      "return_counts : bool, optional\n",
      "    If True, also return the number of times each unique item appears\n",
      "    in `ar`.\n",
      "\n",
      "    .. versionadded:: 1.9.0\n",
      "\n",
      "axis : int or None, optional\n",
      "    The axis to operate on. If None, `ar` will be flattened. If an integer,\n",
      "    the subarrays indexed by the given axis will be flattened and treated\n",
      "    as the elements of a 1-D array with the dimension of the given axis,\n",
      "    see the notes for more details.  Object arrays or structured arrays\n",
      "    that contain objects are not supported if the `axis` kwarg is used. The\n",
      "    default is None.\n",
      "\n",
      "    .. versionadded:: 1.13.0\n",
      "\n",
      "Returns\n",
      "-------\n",
      "unique : ndarray\n",
      "    The sorted unique values.\n",
      "unique_indices : ndarray, optional\n",
      "    The indices of the first occurrences of the unique values in the\n",
      "    original array. Only provided if `return_index` is True.\n",
      "unique_inverse : ndarray, optional\n",
      "    The indices to reconstruct the original array from the\n",
      "    unique array. Only provided if `return_inverse` is True.\n",
      "unique_counts : ndarray, optional\n",
      "    The number of times each of the unique values comes up in the\n",
      "    original array. Only provided if `return_counts` is True.\n",
      "\n",
      "    .. versionadded:: 1.9.0\n",
      "\n",
      "See Also\n",
      "--------\n",
      "numpy.lib.arraysetops : Module with a number of other functions for\n",
      "                        performing set operations on arrays.\n",
      "\n",
      "Notes\n",
      "-----\n",
      "When an axis is specified the subarrays indexed by the axis are sorted.\n",
      "This is done by making the specified axis the first dimension of the array\n",
      "and then flattening the subarrays in C order. The flattened subarrays are\n",
      "then viewed as a structured type with each element given a label, with the\n",
      "effect that we end up with a 1-D array of structured types that can be\n",
      "treated in the same way as any other 1-D array. The result is that the\n",
      "flattened subarrays are sorted in lexicographic order starting with the\n",
      "first element.\n",
      "\n",
      "Examples\n",
      "--------\n",
      ">>> np.unique([1, 1, 2, 2, 3, 3])\n",
      "array([1, 2, 3])\n",
      ">>> a = np.array([[1, 1], [2, 3]])\n",
      ">>> np.unique(a)\n",
      "array([1, 2, 3])\n",
      "\n",
      "Return the unique rows of a 2D array\n",
      "\n",
      ">>> a = np.array([[1, 0, 0], [1, 0, 0], [2, 3, 4]])\n",
      ">>> np.unique(a, axis=0)\n",
      "array([[1, 0, 0], [2, 3, 4]])\n",
      "\n",
      "Return the indices of the original array that give the unique values:\n",
      "\n",
      ">>> a = np.array(['a', 'b', 'b', 'c', 'a'])\n",
      ">>> u, indices = np.unique(a, return_index=True)\n",
      ">>> u\n",
      "array(['a', 'b', 'c'],\n",
      "       dtype='|S1')\n",
      ">>> indices\n",
      "array([0, 1, 3])\n",
      ">>> a[indices]\n",
      "array(['a', 'b', 'c'],\n",
      "       dtype='|S1')\n",
      "\n",
      "Reconstruct the input array from the unique values:\n",
      "\n",
      ">>> a = np.array([1, 2, 6, 4, 2, 3, 2])\n",
      ">>> u, indices = np.unique(a, return_inverse=True)\n",
      ">>> u\n",
      "array([1, 2, 3, 4, 6])\n",
      ">>> indices\n",
      "array([0, 1, 4, 3, 1, 2, 1])\n",
      ">>> u[indices]\n",
      "array([1, 2, 6, 4, 2, 3, 2])\n",
      "----------------------------------------------------------------------------\n",
      "\n",
      "     *** Repeat reference found in numpy.lib *** \n",
      "     *** Found in numpy.ma ***\n",
      " unique(ar1, return_index=False, return_inverse=False)\n",
      "\n",
      "Finds the unique elements of an array.\n",
      "\n",
      "Masked values are considered the same element (masked). The output array\n",
      "is always a masked array. See `numpy.unique` for more details.\n",
      "\n",
      "See Also\n",
      "--------\n",
      "numpy.unique : Equivalent function for ndarrays.\n",
      "----------------------------------------------------------------------------\n",
      "     *** Found in numpy.lib.function_base ***\n",
      " unique(*args, **kwds)\n",
      "\n",
      "`unique` is deprecated!\n",
      "\n",
      "\n",
      "This function is deprecated.  Use numpy.lib.arraysetops.unique()\n",
      "instead.\n",
      "----------------------------------------------------------------------------\n",
      "\n",
      "     *** Repeat reference found in numpy.lib.arraysetops *** \n",
      "\n",
      "     *** Repeat reference found in numpy.ma.extras *** \n",
      "     *** Found in enum ***\n",
      " unique(enumeration)\n",
      "\n",
      "Class decorator for enumerations ensuring unique member values.\n",
      "----------------------------------------------------------------------------\n",
      "\n",
      "     *** Total of 7 references found. ***\n"
     ]
    }
   ],
   "source": [
    "image = np.random.randint(0,8,(32,32,3))\n",
    "\n",
    "import matplotlib.pyplot as plt\n",
    "\n",
    "# mean_image = np.mean(image,axis = 2,keepdims=True)\n",
    "# print(mean_image.shape)\n",
    "# plt.imshow(image)\n",
    "# plt.show()\n",
    "\n",
    "a = np.array([[[1, 2, 3], [1, 0, 0], [1, 3, 4]],[[4, 5, 6], [1, 0, 0], [1, 3, 4]]])\n",
    "b = np.unique(a, axis=0)\n",
    "print(b.shape)\n",
    "print(a)\n",
    "print(b)\n",
    "\n",
    "image_gray = image[...,0]*256*256 + image[...,1]*256 + image[...,2]\n",
    "i = np.unique(image_gray)\n",
    "print(i.shape)\n",
    "np.info('unique')"
   ]
  },
  {
   "cell_type": "markdown",
   "metadata": {},
   "source": [
    "#### 67. Considering a four dimensions array, how to get sum over the last two axis at once? (★★★) \n",
    "(**hint**: sum(axis=(-2,-1)))"
   ]
  },
  {
   "cell_type": "code",
   "execution_count": null,
   "metadata": {
    "collapsed": true
   },
   "outputs": [],
   "source": []
  },
  {
   "cell_type": "markdown",
   "metadata": {},
   "source": [
    "#### 68. Considering a one-dimensional vector D, how to compute means of subsets of D using a vector S of same size describing subset  indices? (★★★) \n",
    "(**hint**: np.bincount)"
   ]
  },
  {
   "cell_type": "code",
   "execution_count": null,
   "metadata": {
    "collapsed": true
   },
   "outputs": [],
   "source": []
  },
  {
   "cell_type": "markdown",
   "metadata": {},
   "source": [
    "#### 69. How to get the diagonal of a dot product? (★★★) \n",
    "(**hint**: np.diag)"
   ]
  },
  {
   "cell_type": "code",
   "execution_count": 301,
   "metadata": {},
   "outputs": [
    {
     "name": "stdout",
     "output_type": "stream",
     "text": [
      "[[0.33   0.1795 0.7779 0.1008]\n",
      " [0.1241 0.0282 0.9388 0.5193]\n",
      " [0.0287 0.7959 0.0621 0.4009]]\n",
      "[[0.7421 0.9992 0.3584]\n",
      " [0.6736 0.9145 0.9601]\n",
      " [0.4354 0.3766 0.3175]\n",
      " [0.4856 0.7234 0.4894]]\n",
      "[0.7534 0.8791 0.9903]\n",
      "     *** Found in numpy ***\n",
      " einsum(*operands, **kwargs)\n",
      "\n",
      "einsum(subscripts, *operands, out=None, dtype=None, order='K',\n",
      "       casting='safe', optimize=False)\n",
      "\n",
      "Evaluates the Einstein summation convention on the operands.\n",
      "\n",
      "Using the Einstein summation convention, many common multi-dimensional\n",
      "array operations can be represented in a simple fashion.  This function\n",
      "provides a way to compute such summations. The best way to understand this\n",
      "function is to try the examples below, which show how many common NumPy\n",
      "functions can be implemented as calls to `einsum`.\n",
      "\n",
      "Parameters\n",
      "----------\n",
      "subscripts : str\n",
      "    Specifies the subscripts for summation.\n",
      "operands : list of array_like\n",
      "    These are the arrays for the operation.\n",
      "out : {ndarray, None}, optional\n",
      "    If provided, the calculation is done into this array.\n",
      "dtype : {data-type, None}, optional\n",
      "    If provided, forces the calculation to use the data type specified.\n",
      "    Note that you may have to also give a more liberal `casting`\n",
      "    parameter to allow the conversions. Default is None.\n",
      "order : {'C', 'F', 'A', 'K'}, optional\n",
      "    Controls the memory layout of the output. 'C' means it should\n",
      "    be C contiguous. 'F' means it should be Fortran contiguous,\n",
      "    'A' means it should be 'F' if the inputs are all 'F', 'C' otherwise.\n",
      "    'K' means it should be as close to the layout as the inputs as\n",
      "    is possible, including arbitrarily permuted axes.\n",
      "    Default is 'K'.\n",
      "casting : {'no', 'equiv', 'safe', 'same_kind', 'unsafe'}, optional\n",
      "    Controls what kind of data casting may occur.  Setting this to\n",
      "    'unsafe' is not recommended, as it can adversely affect accumulations.\n",
      "\n",
      "      * 'no' means the data types should not be cast at all.\n",
      "      * 'equiv' means only byte-order changes are allowed.\n",
      "      * 'safe' means only casts which can preserve values are allowed.\n",
      "      * 'same_kind' means only safe casts or casts within a kind,\n",
      "        like float64 to float32, are allowed.\n",
      "      * 'unsafe' means any data conversions may be done.\n",
      "\n",
      "    Default is 'safe'.\n",
      "optimize : {False, True, 'greedy', 'optimal'}, optional\n",
      "    Controls if intermediate optimization should occur. No optimization\n",
      "    will occur if False and True will default to the 'greedy' algorithm.\n",
      "    Also accepts an explicit contraction list from the ``np.einsum_path``\n",
      "    function. See ``np.einsum_path`` for more details. Defaults to False.\n",
      "\n",
      "Returns\n",
      "-------\n",
      "output : ndarray\n",
      "    The calculation based on the Einstein summation convention.\n",
      "\n",
      "See Also\n",
      "--------\n",
      "einsum_path, dot, inner, outer, tensordot, linalg.multi_dot\n",
      "\n",
      "Notes\n",
      "-----\n",
      ".. versionadded:: 1.6.0\n",
      "\n",
      "The subscripts string is a comma-separated list of subscript labels,\n",
      "where each label refers to a dimension of the corresponding operand.\n",
      "Repeated subscripts labels in one operand take the diagonal.  For example,\n",
      "``np.einsum('ii', a)`` is equivalent to ``np.trace(a)``.\n",
      "\n",
      "Whenever a label is repeated, it is summed, so ``np.einsum('i,i', a, b)``\n",
      "is equivalent to ``np.inner(a,b)``.  If a label appears only once,\n",
      "it is not summed, so ``np.einsum('i', a)`` produces a view of ``a``\n",
      "with no changes.\n",
      "\n",
      "The order of labels in the output is by default alphabetical.  This\n",
      "means that ``np.einsum('ij', a)`` doesn't affect a 2D array, while\n",
      "``np.einsum('ji', a)`` takes its transpose.\n",
      "\n",
      "The output can be controlled by specifying output subscript labels\n",
      "as well.  This specifies the label order, and allows summing to\n",
      "be disallowed or forced when desired.  The call ``np.einsum('i->', a)``\n",
      "is like ``np.sum(a, axis=-1)``, and ``np.einsum('ii->i', a)``\n",
      "is like ``np.diag(a)``.  The difference is that `einsum` does not\n",
      "allow broadcasting by default.\n",
      "\n",
      "To enable and control broadcasting, use an ellipsis.  Default\n",
      "NumPy-style broadcasting is done by adding an ellipsis\n",
      "to the left of each term, like ``np.einsum('...ii->...i', a)``.\n",
      "To take the trace along the first and last axes,\n",
      "you can do ``np.einsum('i...i', a)``, or to do a matrix-matrix\n",
      "product with the left-most indices instead of rightmost, you can do\n",
      "``np.einsum('ij...,jk...->ik...', a, b)``.\n",
      "\n",
      "When there is only one operand, no axes are summed, and no output\n",
      "parameter is provided, a view into the operand is returned instead\n",
      "of a new array.  Thus, taking the diagonal as ``np.einsum('ii->i', a)``\n",
      "produces a view.\n",
      "\n",
      "An alternative way to provide the subscripts and operands is as\n",
      "``einsum(op0, sublist0, op1, sublist1, ..., [sublistout])``. The examples\n",
      "below have corresponding `einsum` calls with the two parameter methods.\n",
      "\n",
      ".. versionadded:: 1.10.0\n",
      "\n",
      "Views returned from einsum are now writeable whenever the input array\n",
      "is writeable. For example, ``np.einsum('ijk...->kji...', a)`` will now\n",
      "have the same effect as ``np.swapaxes(a, 0, 2)`` and\n",
      "``np.einsum('ii->i', a)`` will return a writeable view of the diagonal\n",
      "of a 2D array.\n",
      "\n",
      ".. versionadded:: 1.12.0\n",
      "\n",
      "Added the ``optimize`` argument which will optimize the contraction order\n",
      "of an einsum expression. For a contraction with three or more operands this\n",
      "can greatly increase the computational efficiency at the cost of a larger\n",
      "memory footprint during computation.\n",
      "\n",
      "See ``np.einsum_path`` for more details.\n",
      "\n",
      "Examples\n",
      "--------\n",
      ">>> a = np.arange(25).reshape(5,5)\n",
      ">>> b = np.arange(5)\n",
      ">>> c = np.arange(6).reshape(2,3)\n",
      "\n",
      ">>> np.einsum('ii', a)\n",
      "60\n",
      ">>> np.einsum(a, [0,0])\n",
      "60\n",
      ">>> np.trace(a)\n",
      "60\n",
      "\n",
      ">>> np.einsum('ii->i', a)\n",
      "array([ 0,  6, 12, 18, 24])\n",
      ">>> np.einsum(a, [0,0], [0])\n",
      "array([ 0,  6, 12, 18, 24])\n",
      ">>> np.diag(a)\n",
      "array([ 0,  6, 12, 18, 24])\n",
      "\n",
      ">>> np.einsum('ij,j', a, b)\n",
      "array([ 30,  80, 130, 180, 230])\n",
      ">>> np.einsum(a, [0,1], b, [1])\n",
      "array([ 30,  80, 130, 180, 230])\n",
      ">>> np.dot(a, b)\n",
      "array([ 30,  80, 130, 180, 230])\n",
      ">>> np.einsum('...j,j', a, b)\n",
      "array([ 30,  80, 130, 180, 230])\n",
      "\n",
      ">>> np.einsum('ji', c)\n",
      "array([[0, 3],\n",
      "       [1, 4],\n",
      "       [2, 5]])\n",
      ">>> np.einsum(c, [1,0])\n",
      "array([[0, 3],\n",
      "       [1, 4],\n",
      "       [2, 5]])\n",
      ">>> c.T\n",
      "array([[0, 3],\n",
      "       [1, 4],\n",
      "       [2, 5]])\n",
      "\n",
      ">>> np.einsum('..., ...', 3, c)\n",
      "array([[ 0,  3,  6],\n",
      "       [ 9, 12, 15]])\n",
      ">>> np.einsum(',ij', 3, C)\n",
      "array([[ 0,  3,  6],\n",
      "       [ 9, 12, 15]])\n",
      ">>> np.einsum(3, [Ellipsis], c, [Ellipsis])\n",
      "array([[ 0,  3,  6],\n",
      "       [ 9, 12, 15]])\n",
      ">>> np.multiply(3, c)\n",
      "array([[ 0,  3,  6],\n",
      "       [ 9, 12, 15]])\n",
      "\n",
      ">>> np.einsum('i,i', b, b)\n",
      "30\n",
      ">>> np.einsum(b, [0], b, [0])\n",
      "30\n",
      ">>> np.inner(b,b)\n",
      "30\n",
      "\n",
      ">>> np.einsum('i,j', np.arange(2)+1, b)\n",
      "array([[0, 1, 2, 3, 4],\n",
      "       [0, 2, 4, 6, 8]])\n",
      ">>> np.einsum(np.arange(2)+1, [0], b, [1])\n",
      "array([[0, 1, 2, 3, 4],\n",
      "       [0, 2, 4, 6, 8]])\n",
      ">>> np.outer(np.arange(2)+1, b)\n",
      "array([[0, 1, 2, 3, 4],\n",
      "       [0, 2, 4, 6, 8]])\n",
      "\n",
      ">>> np.einsum('i...->...', a)\n",
      "array([50, 55, 60, 65, 70])\n",
      ">>> np.einsum(a, [0,Ellipsis], [Ellipsis])\n",
      "array([50, 55, 60, 65, 70])\n",
      ">>> np.sum(a, axis=0)\n",
      "array([50, 55, 60, 65, 70])\n",
      "\n",
      ">>> a = np.arange(60.).reshape(3,4,5)\n",
      ">>> b = np.arange(24.).reshape(4,3,2)\n",
      ">>> np.einsum('ijk,jil->kl', a, b)\n",
      "array([[ 4400.,  4730.],\n",
      "       [ 4532.,  4874.],\n",
      "       [ 4664.,  5018.],\n",
      "       [ 4796.,  5162.],\n",
      "       [ 4928.,  5306.]])\n",
      ">>> np.einsum(a, [0,1,2], b, [1,0,3], [2,3])\n",
      "array([[ 4400.,  4730.],\n",
      "       [ 4532.,  4874.],\n",
      "       [ 4664.,  5018.],\n",
      "       [ 4796.,  5162.],\n",
      "       [ 4928.,  5306.]])\n",
      ">>> np.tensordot(a,b, axes=([1,0],[0,1]))\n",
      "array([[ 4400.,  4730.],\n",
      "       [ 4532.,  4874.],\n",
      "       [ 4664.,  5018.],\n",
      "       [ 4796.,  5162.],\n",
      "       [ 4928.,  5306.]])\n",
      "\n",
      ">>> a = np.arange(6).reshape((3,2))\n",
      ">>> b = np.arange(12).reshape((4,3))\n",
      ">>> np.einsum('ki,jk->ij', a, b)\n",
      "array([[10, 28, 46, 64],\n",
      "       [13, 40, 67, 94]])\n",
      ">>> np.einsum('ki,...k->i...', a, b)\n",
      "array([[10, 28, 46, 64],\n",
      "       [13, 40, 67, 94]])\n",
      ">>> np.einsum('k...,jk', a, b)\n",
      "array([[10, 28, 46, 64],\n",
      "       [13, 40, 67, 94]])\n",
      "\n",
      ">>> # since version 1.10.0\n",
      ">>> a = np.zeros((3, 3))\n",
      ">>> np.einsum('ii->i', a)[:] = 1\n",
      ">>> a\n",
      "array([[ 1.,  0.,  0.],\n",
      "       [ 0.,  1.,  0.],\n",
      "       [ 0.,  0.,  1.]])\n",
      "----------------------------------------------------------------------------\n",
      "\n",
      "     *** Repeat reference found in numpy.core *** \n",
      "\n",
      "     *** Repeat reference found in numpy.core.einsumfunc *** \n",
      "\n",
      "     *** Total of 3 references found. ***\n"
     ]
    }
   ],
   "source": [
    "A = np.random.random((3,4))\n",
    "B = np.random.random((4,3))\n",
    "print(A)\n",
    "print(B)\n",
    "C = np.einsum('ij,ji->i',A,B)\n",
    "print(C)\n",
    "np.info('einsum')"
   ]
  },
  {
   "cell_type": "markdown",
   "metadata": {},
   "source": [
    "#### 70. Consider the vector \\[1, 2, 3, 4, 5\\], how to build a new vector with 3 consecutive zeros interleaved between each value? (★★★) \n",
    "(**hint**: array\\[::4\\])"
   ]
  },
  {
   "cell_type": "code",
   "execution_count": 306,
   "metadata": {},
   "outputs": [
    {
     "name": "stdout",
     "output_type": "stream",
     "text": [
      "[ 32.   0.   0.   0. 130.   0.   0.   0.  37.   0.   0.   0. 139.   0.\n",
      "   0.   0. 109.   0.   0.   0. 111.   0.   0.   0. 170.   0.   0.   0.\n",
      "  86.   0.   0.   0. 118.   0.   0.   0.  88.]\n"
     ]
    }
   ],
   "source": [
    "A = np.random.randint(0,188,(10,))\n",
    "nz = 3\n",
    "Z0 = np.zeros(shape=((len(A) -1)*nz + len(A))) \n",
    "\n",
    "Z0[::(nz+1)] = A\n",
    "print(Z0)"
   ]
  },
  {
   "cell_type": "markdown",
   "metadata": {},
   "source": [
    "#### 71. Consider an array of dimension (5,5,3), how to mulitply it by an array with dimensions (5,5)? (★★★) \n",
    "(**hint**: array\\[:, :, None\\])"
   ]
  },
  {
   "cell_type": "code",
   "execution_count": 313,
   "metadata": {},
   "outputs": [
    {
     "name": "stdout",
     "output_type": "stream",
     "text": [
      "[[[ 530.9094  502.7927 1202.4022]\n",
      "  [ 452.9368  466.3215   78.7018]\n",
      "  [ 464.2519 1152.0326   72.217 ]\n",
      "  [ 332.711   240.2037  346.3769]\n",
      "  [1088.4836 1251.6986  381.6014]]\n",
      "\n",
      " [[ 199.5208  452.4652  604.0137]\n",
      "  [ 184.2869   14.1759  415.6581]\n",
      "  [  33.2503    3.7097   22.7394]\n",
      "  [ 857.8679  497.5869  273.4381]\n",
      "  [ 945.1651  352.8273 1385.5554]]\n",
      "\n",
      " [[1134.8423 1410.3185  911.7664]\n",
      "  [  73.531   194.1857  165.2741]\n",
      "  [ 239.0737  184.4767  356.4063]\n",
      "  [ 892.1979  754.4551  370.9665]\n",
      "  [1116.7763 1013.9998  666.2117]]\n",
      "\n",
      " [[1612.5397 1506.7756  541.8597]\n",
      "  [  78.1849  248.6353  172.3031]\n",
      "  [ 833.8506  259.7765  216.4804]\n",
      "  [  98.2414  707.0163  819.7524]\n",
      "  [ 185.2514  642.6149  789.4324]]\n",
      "\n",
      " [[ 990.7688  536.9551 1808.3263]\n",
      "  [  68.719   186.8414  225.6583]\n",
      "  [ 321.8518 1931.111   519.065 ]\n",
      "  [ 644.9883  846.184    18.8848]\n",
      "  [1547.9638 1959.47   2143.3345]]]\n",
      "[[[ 530.9094  502.7927 1202.4022]\n",
      "  [ 452.9368  466.3215   78.7018]\n",
      "  [ 464.2519 1152.0326   72.217 ]\n",
      "  [ 332.711   240.2037  346.3769]\n",
      "  [1088.4836 1251.6986  381.6014]]\n",
      "\n",
      " [[ 199.5208  452.4652  604.0137]\n",
      "  [ 184.2869   14.1759  415.6581]\n",
      "  [  33.2503    3.7097   22.7394]\n",
      "  [ 857.8679  497.5869  273.4381]\n",
      "  [ 945.1651  352.8273 1385.5554]]\n",
      "\n",
      " [[1134.8423 1410.3185  911.7664]\n",
      "  [  73.531   194.1857  165.2741]\n",
      "  [ 239.0737  184.4767  356.4063]\n",
      "  [ 892.1979  754.4551  370.9665]\n",
      "  [1116.7763 1013.9998  666.2117]]\n",
      "\n",
      " [[1612.5397 1506.7756  541.8597]\n",
      "  [  78.1849  248.6353  172.3031]\n",
      "  [ 833.8506  259.7765  216.4804]\n",
      "  [  98.2414  707.0163  819.7524]\n",
      "  [ 185.2514  642.6149  789.4324]]\n",
      "\n",
      " [[ 990.7688  536.9551 1808.3263]\n",
      "  [  68.719   186.8414  225.6583]\n",
      "  [ 321.8518 1931.111   519.065 ]\n",
      "  [ 644.9883  846.184    18.8848]\n",
      "  [1547.9638 1959.47   2143.3345]]]\n"
     ]
    }
   ],
   "source": [
    "A = np.random.randint(0,1255,(5,5,3))\n",
    "B = 2*np.random.random((5,5))\n",
    "\n",
    "\n",
    "print(A * B[:,:,None]) # 广播\n",
    "print(A * B.reshape(5,5,1))"
   ]
  },
  {
   "cell_type": "markdown",
   "metadata": {},
   "source": [
    "#### 72. How to swap two rows of an array? (★★★) \n",
    "(**hint**: array\\[\\[\\]\\] = array\\[\\[\\]\\])"
   ]
  },
  {
   "cell_type": "code",
   "execution_count": 319,
   "metadata": {},
   "outputs": [
    {
     "name": "stdout",
     "output_type": "stream",
     "text": [
      "[[1177 1088  453]\n",
      " [ 607  832 1157]\n",
      " [ 964  298 1087]\n",
      " [ 563 1013 1053]\n",
      " [ 392  503  133]]\n",
      "[[ 453 1088 1177]\n",
      " [1157  832  607]\n",
      " [1087  298  964]\n",
      " [1053 1013  563]\n",
      " [ 133  503  392]]\n"
     ]
    }
   ],
   "source": [
    "A = np.random.randint(0,1255,(5,3))\n",
    "print(A)\n",
    "# A[[1,3]] =  A[[3,1]]  # 换行\n",
    "A[:,[0,2]] =  A[:,[2,0]]  # 换列\n",
    "print(A)"
   ]
  },
  {
   "cell_type": "markdown",
   "metadata": {},
   "source": [
    "#### 73. Consider a set of 10 triplets describing 10 triangles (with shared vertices), find the set of unique line segments composing all the  triangles (★★★) \n",
    "(**hint**: repeat, np.roll, np.sort, view, np.unique)"
   ]
  },
  {
   "cell_type": "code",
   "execution_count": 353,
   "metadata": {},
   "outputs": [
    {
     "name": "stdout",
     "output_type": "stream",
     "text": [
      "[0 1 2 3 4 5 6 7 8 9]\n",
      "[[8 9 0 1 2]\n",
      " [3 4 5 6 7]]\n",
      "[[64 24]\n",
      " [24 49]\n",
      " [49 64]\n",
      " [32 23]\n",
      " [23 24]\n",
      " [24 32]\n",
      " [63 72]\n",
      " [72 87]\n",
      " [87 63]\n",
      " [80 78]\n",
      " [78 92]\n",
      " [92 80]\n",
      " [39 40]\n",
      " [40 75]\n",
      " [75 39]\n",
      " [ 2 26]\n",
      " [26 51]\n",
      " [51  2]\n",
      " [39 70]\n",
      " [70 81]\n",
      " [81 39]\n",
      " [99 71]\n",
      " [71 58]\n",
      " [58 99]\n",
      " [66 61]\n",
      " [61  7]\n",
      " [ 7 66]\n",
      " [51 60]\n",
      " [60 83]\n",
      " [83 51]]\n",
      "[[24 64]\n",
      " [24 49]\n",
      " [49 64]\n",
      " [23 32]\n",
      " [23 24]\n",
      " [24 32]\n",
      " [63 72]\n",
      " [72 87]\n",
      " [63 87]\n",
      " [78 80]\n",
      " [78 92]\n",
      " [80 92]\n",
      " [39 40]\n",
      " [40 75]\n",
      " [39 75]\n",
      " [ 2 26]\n",
      " [26 51]\n",
      " [ 2 51]\n",
      " [39 70]\n",
      " [70 81]\n",
      " [39 81]\n",
      " [71 99]\n",
      " [58 71]\n",
      " [58 99]\n",
      " [61 66]\n",
      " [ 7 61]\n",
      " [ 7 66]\n",
      " [51 60]\n",
      " [60 83]\n",
      " [51 83]]\n",
      "[[(24, 64)]\n",
      " [(24, 49)]\n",
      " [(49, 64)]\n",
      " [(23, 32)]\n",
      " [(23, 24)]\n",
      " [(24, 32)]\n",
      " [(63, 72)]\n",
      " [(72, 87)]\n",
      " [(63, 87)]\n",
      " [(78, 80)]\n",
      " [(78, 92)]\n",
      " [(80, 92)]\n",
      " [(39, 40)]\n",
      " [(40, 75)]\n",
      " [(39, 75)]\n",
      " [( 2, 26)]\n",
      " [(26, 51)]\n",
      " [( 2, 51)]\n",
      " [(39, 70)]\n",
      " [(70, 81)]\n",
      " [(39, 81)]\n",
      " [(71, 99)]\n",
      " [(58, 71)]\n",
      " [(58, 99)]\n",
      " [(61, 66)]\n",
      " [( 7, 61)]\n",
      " [( 7, 66)]\n",
      " [(51, 60)]\n",
      " [(60, 83)]\n",
      " [(51, 83)]]\n",
      "[( 2, 26) ( 2, 51) ( 7, 61) ( 7, 66) (23, 24) (23, 32) (24, 32) (24, 49)\n",
      " (24, 64) (26, 51) (39, 40) (39, 70) (39, 75) (39, 81) (40, 75) (49, 64)\n",
      " (51, 60) (51, 83) (58, 71) (58, 99) (60, 83) (61, 66) (63, 72) (63, 87)\n",
      " (70, 81) (71, 99) (72, 87) (78, 80) (78, 92) (80, 92)]\n"
     ]
    }
   ],
   "source": [
    "# Author: Nicolas P. Rougier\n",
    "x = np.arange(10)\n",
    "x= x.reshape((2,5))\n",
    "print(x.flatten())\n",
    "print(np.roll(x,2))\n",
    "\n",
    "faces = np.random.randint(0,100,(10,3))\n",
    "# np.info('roll')\n",
    "temp = faces.repeat(2,axis=1)\n",
    "F = np.roll(temp,-1,axis=1)\n",
    "F = F.reshape(len(F)*3,2)\n",
    "print(F)\n",
    "F = np.sort(F,axis=1)\n",
    "print(F)\n",
    "G = F.view( dtype=[('p0',F.dtype),('p1',F.dtype)] )\n",
    "print(G)\n",
    "G = np.unique(G)\n",
    "print(G)\n",
    "\n",
    "\n",
    "# # 利用view 和dtype判断元素相同与否\n",
    "# A = np.random.randint(0,256,(32,32,3))\n",
    "# import matplotlib.pyplot as plt\n",
    "\n",
    "# %matplotlib inline\n",
    "# plt.imshow(A)\n",
    "\n",
    "# G = A.view(dtype = [('r',np.int), ('g',np.int), ('b',np.int)] )\n",
    "# print(G[0,0])\n",
    "# print(G[0,31])\n",
    "# G = G.reshape(A.shape[0]*A.shape[1])\n",
    "# print(G[0])\n",
    "# print(G[31])\n",
    "# print(len(np.unique(G)))\n"
   ]
  },
  {
   "cell_type": "markdown",
   "metadata": {},
   "source": [
    "#### 74. Given an array C that is a bincount, how to produce an array A such that np.bincount(A) == C? (★★★) \n",
    "(**hint**: np.repeat)"
   ]
  },
  {
   "cell_type": "code",
   "execution_count": 354,
   "metadata": {},
   "outputs": [
    {
     "name": "stdout",
     "output_type": "stream",
     "text": [
      "[0 2 1 1 2 0 1]\n",
      "[1 1 2 3 4 4 6]\n",
      "     *** Found in numpy ***\n",
      " repeat(a, repeats, axis=None)\n",
      "\n",
      "Repeat elements of an array.\n",
      "\n",
      "Parameters\n",
      "----------\n",
      "a : array_like\n",
      "    Input array.\n",
      "repeats : int or array of ints\n",
      "    The number of repetitions for each element.  `repeats` is broadcasted\n",
      "    to fit the shape of the given axis.\n",
      "axis : int, optional\n",
      "    The axis along which to repeat values.  By default, use the\n",
      "    flattened input array, and return a flat output array.\n",
      "\n",
      "Returns\n",
      "-------\n",
      "repeated_array : ndarray\n",
      "    Output array which has the same shape as `a`, except along\n",
      "    the given axis.\n",
      "\n",
      "See Also\n",
      "--------\n",
      "tile : Tile an array.\n",
      "\n",
      "Examples\n",
      "--------\n",
      ">>> np.repeat(3, 4)\n",
      "array([3, 3, 3, 3])\n",
      ">>> x = np.array([[1,2],[3,4]])\n",
      ">>> np.repeat(x, 2)\n",
      "array([1, 1, 2, 2, 3, 3, 4, 4])\n",
      ">>> np.repeat(x, 3, axis=1)\n",
      "array([[1, 1, 1, 2, 2, 2],\n",
      "       [3, 3, 3, 4, 4, 4]])\n",
      ">>> np.repeat(x, [1, 2], axis=0)\n",
      "array([[1, 2],\n",
      "       [3, 4],\n",
      "       [3, 4]])\n",
      "----------------------------------------------------------------------------\n",
      "\n",
      "     *** Repeat reference found in numpy.core *** \n",
      "     *** Found in numpy.ma ***\n",
      "repeat(self, *args, **params)\n",
      "a.repeat(repeats, axis=None)\n",
      "\n",
      "    Repeat elements of an array.\n",
      "\n",
      "    Refer to `numpy.repeat` for full documentation.\n",
      "\n",
      "    See Also\n",
      "    --------\n",
      "    numpy.repeat : equivalent function\n",
      "----------------------------------------------------------------------------\n",
      "\n",
      "     *** Repeat reference found in numpy.core.fromnumeric *** \n",
      "\n",
      "     *** Repeat reference found in numpy.core.numeric *** \n",
      "\n",
      "     *** Repeat reference found in numpy.ma.core *** \n",
      "     *** Found in itertools ***\n",
      " repeat()\n",
      "\n",
      "repeat(object [,times]) -> create an iterator which returns the object\n",
      "for the specified number of times.  If not specified, returns the object\n",
      "endlessly.\n",
      "\n",
      "\n",
      "Methods:\n",
      "\n",
      "----------------------------------------------------------------------------\n",
      "\n",
      "     *** Total of 7 references found. ***\n"
     ]
    }
   ],
   "source": [
    "# Author: Jaime Fernández del Río\n",
    "\n",
    "C = np.bincount([1,1,2,3,4,4,6])\n",
    "print(C)\n",
    "A = np.repeat(np.arange(len(C)), C)\n",
    "print(A)\n",
    "\n",
    "np.info('repeat')"
   ]
  },
  {
   "cell_type": "markdown",
   "metadata": {},
   "source": [
    "#### 75. How to compute averages using a sliding window over an array? (★★★) \n",
    "(**hint**: np.cumsum)"
   ]
  },
  {
   "cell_type": "code",
   "execution_count": 368,
   "metadata": {
    "scrolled": true
   },
   "outputs": [
    {
     "name": "stdout",
     "output_type": "stream",
     "text": [
      "[ 0  1  2  3  4  5  6  7  8  9 10 11 12 13 14 15 16 17 18 19]\n",
      "[ 1.  2.  3.  4.  5.  6.  7.  8.  9. 10. 11. 12. 13. 14. 15. 16. 17. 18.]\n"
     ]
    }
   ],
   "source": [
    "# Author: Jaime Fernández del Río\n",
    "\n",
    "# A = np.random.randint(0,10,(9,))\n",
    "# print(A[3:])\n",
    "# print(A[:-3])\n",
    "# print(A)\n",
    "# np.info('cumsum')\n",
    "\n",
    "\n",
    "def moving_average(a, n=3) :\n",
    "    ret = np.cumsum(a, dtype=float)\n",
    "    ret[n:] = ret[n:] - ret[:-n] # ret[n:] 去掉前面 n各元素 ， ret[:-n] 去掉后面n各元素\n",
    "    return ret[n - 1:] / n\n",
    "Z = np.arange(20)\n",
    "print(Z)\n",
    "print(moving_average(Z, n=3))"
   ]
  },
  {
   "cell_type": "markdown",
   "metadata": {},
   "source": [
    "#### 76. Consider a one-dimensional array Z, build a two-dimensional array whose first row is (Z\\[0\\],Z\\[1\\],Z\\[2\\]) and each subsequent row is  shifted by 1 (last row should be (Z\\[-3\\],Z\\[-2\\],Z\\[-1\\]) (★★★) \n",
    "(**hint**: from numpy.lib import stride_tricks)"
   ]
  },
  {
   "cell_type": "code",
   "execution_count": 362,
   "metadata": {},
   "outputs": [
    {
     "name": "stdout",
     "output_type": "stream",
     "text": [
      "[0.2797 0.6837 0.0883 0.2604 0.8114 0.8917 0.2965]\n",
      "[[0.2797 0.6837 0.0883]\n",
      " [0.6837 0.0883 0.2604]\n",
      " [0.0883 0.2604 0.8114]\n",
      " [0.2604 0.8114 0.8917]\n",
      " [0.8114 0.8917 0.2965]]\n"
     ]
    }
   ],
   "source": [
    "AN = 7\n",
    "COL = 3\n",
    "A = np.random.random((AN,))\n",
    "print(A)\n",
    "B = np.zeros((AN-2,COL))\n",
    "for i in range(AN-2):\n",
    "    B[i,:] = np.roll(A,-i)[0:COL]\n",
    "print(B)"
   ]
  },
  {
   "cell_type": "markdown",
   "metadata": {},
   "source": [
    "#### 77. How to negate a boolean, or to change the sign of a float inplace? (★★★) \n",
    "(**hint**: np.logical_not, np.negative)"
   ]
  },
  {
   "cell_type": "code",
   "execution_count": 375,
   "metadata": {},
   "outputs": [
    {
     "name": "stdout",
     "output_type": "stream",
     "text": [
      "[0 1 1 1 1 1 1 0 0 0 0 1 0 0 1 0 0 1 0 0 0 0 0 0 1 0 0 1 0 1 0 0 0 0 1 1 1\n",
      " 1 1 1 1 0 1 0 1 1 0 1 1 0 1 1 0 1 1 0 0 1 0 0 1 0 0 1 0 1 1 0 1 0 1 0 1 0\n",
      " 1 0 0 1 1 0 0 1 0 0 0 1 0 0 1 1 1 0 1 1 1 1 0 0 1 0]\n",
      "[-0.7336 -0.2946  0.1017 -0.0515 -0.0325  0.6454  0.9143 -0.6285 -0.8861\n",
      "  0.7889 -0.41    0.1614 -0.6327 -0.1586  0.4818  0.3577  0.9432  0.5189\n",
      "  0.7687  0.0224 -0.3538 -0.8212  0.2218  0.3981  0.187  -0.0219 -0.7976\n",
      "  0.7458 -0.8847 -0.3711  0.8573 -0.7524 -0.2693  0.9832 -0.9805  0.646\n",
      " -0.2178  0.6783 -0.5095 -0.4847  0.0081  0.7837 -0.6723  0.5547  0.9032\n",
      " -0.3674 -0.3341  0.7838  0.941  -0.2839  0.579  -0.7677 -0.7073 -0.7902\n",
      "  0.2192 -0.0337  0.7043 -0.3017 -0.8696  0.5144  0.6381  0.1648 -0.6218\n",
      "  0.4361 -0.0167  0.8016 -0.6834 -0.3186 -0.8837 -0.4649 -0.3593 -0.8314\n",
      " -0.2176  0.0429  0.5628 -0.3324 -0.8731 -0.7122  0.1336  0.3506 -0.8264\n",
      "  0.8643  0.6843  0.7022  0.8042 -0.3187  0.1639  0.8994  0.5676 -0.1393\n",
      "  0.3643 -0.7843  0.3017  0.7967  0.3595 -0.1467 -0.7362 -0.5253 -0.0659\n",
      "  0.2305]\n",
      "[ 0.7336  0.2946 -0.1017  0.0515  0.0325 -0.6454 -0.9143  0.6285  0.8861\n",
      " -0.7889  0.41   -0.1614  0.6327  0.1586 -0.4818 -0.3577 -0.9432 -0.5189\n",
      " -0.7687 -0.0224  0.3538  0.8212 -0.2218 -0.3981 -0.187   0.0219  0.7976\n",
      " -0.7458  0.8847  0.3711 -0.8573  0.7524  0.2693 -0.9832  0.9805 -0.646\n",
      "  0.2178 -0.6783  0.5095  0.4847 -0.0081 -0.7837  0.6723 -0.5547 -0.9032\n",
      "  0.3674  0.3341 -0.7838 -0.941   0.2839 -0.579   0.7677  0.7073  0.7902\n",
      " -0.2192  0.0337 -0.7043  0.3017  0.8696 -0.5144 -0.6381 -0.1648  0.6218\n",
      " -0.4361  0.0167 -0.8016  0.6834  0.3186  0.8837  0.4649  0.3593  0.8314\n",
      "  0.2176 -0.0429 -0.5628  0.3324  0.8731  0.7122 -0.1336 -0.3506  0.8264\n",
      " -0.8643 -0.6843 -0.7022 -0.8042  0.3187 -0.1639 -0.8994 -0.5676  0.1393\n",
      " -0.3643  0.7843 -0.3017 -0.7967 -0.3595  0.1467  0.7362  0.5253  0.0659\n",
      " -0.2305]\n"
     ]
    }
   ],
   "source": [
    "Z = np.random.randint(0,2,(100,))\n",
    "np.logical_not(Z, out=Z)\n",
    "print(Z)\n",
    "                      \n",
    "Z = np.random.uniform(-1.0,1.0,100)\n",
    "print(Z)\n",
    "Z = np.negative(Z)\n",
    "print(Z)"
   ]
  },
  {
   "cell_type": "markdown",
   "metadata": {},
   "source": [
    "#### 78. Consider 2 sets of points P0,P1 describing lines (2d) and a point p,\n",
    "how to compute distance from p to each line i  (P0\\[i\\],P1\\[i\\])? (★★★)\n",
    "![点到直线的距离计算](distance.jpg)\n",
    "内积几何含义：$a\\cdot b = \\|a\\|\\|b\\|\\cos \\alpha$ 其中角$\\alpha$为向量之间的夹角。\n",
    "\n",
    "点$x_1$到超平面$Wx + b = 0$的距离：$\\|Wx_1 + b\\|/\\|W\\|$ 其中 $W$为超平面的法向量"
   ]
  },
  {
   "cell_type": "code",
   "execution_count": 410,
   "metadata": {},
   "outputs": [
    {
     "name": "stdout",
     "output_type": "stream",
     "text": [
      "[ 4.308   6.1971 10.1426 16.3213 10.7736 13.1188  1.0351  6.1916  9.5461\n",
      "  3.2358]\n",
      "[ 4.308   6.1971 10.1426 16.3213 10.7736 13.1188  1.0351  6.1916  9.5461\n",
      "  3.2358]\n"
     ]
    }
   ],
   "source": [
    "# np.info('norm')\n",
    "import numpy.linalg as LA\n",
    "def distance(P0, P1, p):\n",
    "    # p 是单点\n",
    "    T = P1 - P0\n",
    "    L = (T**2).sum(axis=1)\n",
    "    U = -((P0[:,0]-p[...,0])*T[:,0] + (P0[:,1]-p[...,1])*T[:,1]) / L\n",
    "    U = U.reshape(len(U),1)\n",
    "    D = P0 + U*T - p\n",
    "    return np.sqrt((D**2).sum(axis=1))\n",
    "\n",
    "\n",
    "def dist2(P0, P1,p):\n",
    "    b = P1 - P0\n",
    "    b_L = (b**2).sum(axis=1)\n",
    "    a = (p - P0) \n",
    "    dotab = (b * a).sum(axis=1) \n",
    "    c = (dotab/b_L).reshape((10,1))*b\n",
    "    e = LA.norm(c - a,ord = 2,axis = 1)\n",
    "    return e\n",
    "\n",
    "P0 = np.random.randn(10,2)*100 + 2.0\n",
    "P1 = np.random.uniform(-10,10,(10,2))\n",
    "p  = np.random.uniform(-10,10,( 1,2))\n",
    "print(distance(P0, P1, p))\n",
    "print(dist2(P0, P1, p))"
   ]
  },
  {
   "cell_type": "markdown",
   "metadata": {},
   "source": [
    "#### 79. Consider 2 sets of points P0,P1 describing lines (2d) and a set of points P, how to compute distance from each point j (P\\[j\\]) to each line i (P0\\[i\\],P1\\[i\\])? (★★★)"
   ]
  },
  {
   "cell_type": "code",
   "execution_count": 414,
   "metadata": {},
   "outputs": [
    {
     "name": "stdout",
     "output_type": "stream",
     "text": [
      "(10, 1)\n",
      "(10, 20, 2)\n",
      "(10, 20)\n",
      "[[6.1779e+00 1.6841e+00 6.7718e+00 1.1783e+01 2.3166e+00 2.5456e+00\n",
      "  1.4148e+00 2.2742e+00 1.7303e+00 4.8988e-01 4.4402e-01 6.0903e+00\n",
      "  2.0927e+00 5.7414e+00 9.8305e+00 7.9906e+00 1.0103e+01 4.9213e+00\n",
      "  4.5018e+00 1.3402e+01]\n",
      " [1.7041e+01 1.9815e+00 1.0166e+01 8.1563e-01 5.0703e+00 1.6181e+01\n",
      "  1.0029e+01 6.3246e+00 3.8016e-02 8.4316e+00 7.4661e+00 6.6150e-01\n",
      "  1.1639e+01 8.5018e+00 1.2071e+01 1.4843e+01 3.5275e+00 7.2002e+00\n",
      "  8.3760e-01 6.9940e+00]\n",
      " [2.1484e+00 1.5927e+01 4.1725e+00 9.7003e+00 1.5813e+01 1.3482e+00\n",
      "  8.2168e+00 1.1229e+01 1.7802e+01 1.0462e+01 1.2092e+01 1.4007e+01\n",
      "  6.1411e+00 1.4941e+01 6.7582e-02 1.3125e+00 8.2627e+00 1.5621e+01\n",
      "  1.4994e+01 2.4491e+00]\n",
      " [1.0440e+01 1.0066e+01 7.9791e+00 9.9276e-01 1.4405e+01 1.3341e+01\n",
      "  1.2578e+01 1.0785e+01 9.4762e+00 1.2927e+01 1.3462e+01 5.8778e+00\n",
      "  1.2447e+01 1.8342e+01 5.8705e+00 8.2484e+00 3.2155e+00 1.7263e+01\n",
      "  7.3031e+00 1.3410e+00]\n",
      " [1.1864e+00 2.9908e+00 4.6003e-01 6.6240e+00 7.2167e+00 4.4412e+00\n",
      "  4.5202e+00 3.1294e+00 2.6390e+00 5.1301e+00 5.8488e+00 1.3330e+00\n",
      "  4.1428e+00 1.0959e+01 3.0133e+00 8.5520e-01 4.6243e+00 9.9870e+00\n",
      "  1.7819e-01 7.1540e+00]\n",
      " [7.5627e+00 4.6628e-01 2.8023e+00 6.0876e+00 4.7510e+00 9.0974e+00\n",
      "  5.7937e+00 2.9185e+00 8.0944e-01 5.2984e+00 5.2146e+00 2.9147e+00\n",
      "  6.4384e+00 8.9249e+00 2.2692e+00 5.1083e+00 3.3788e+00 7.6170e+00\n",
      "  1.8885e+00 3.0468e+00]\n",
      " [7.4585e+00 3.4433e-01 2.4775e+00 6.5506e+00 3.8957e+00 8.8229e+00\n",
      "  5.2578e+00 2.2844e+00 1.6871e+00 4.6702e+00 4.5163e+00 3.6024e+00\n",
      "  5.9855e+00 8.0593e+00 2.1296e+00 4.9960e+00 3.8105e+00 6.7368e+00\n",
      "  2.6311e+00 3.2287e+00]\n",
      " [1.6307e+01 1.3256e+00 1.0414e+01 5.8278e+00 1.7228e+00 1.2547e+01\n",
      "  5.9196e+00 3.1839e+00 3.0907e+00 3.6834e+00 2.0264e+00 1.0429e+00\n",
      "  7.9649e+00 1.3325e+00 1.4676e+01 1.5747e+01 6.9730e+00 1.8711e+00\n",
      "  8.9117e-02 1.2878e+01]\n",
      " [6.7485e+00 7.7032e+00 8.1668e-03 9.4494e+00 4.4434e+00 6.1256e+00\n",
      "  1.8032e-01 3.4930e+00 9.6058e+00 1.3261e+00 2.2138e+00 9.2582e+00\n",
      "  1.7127e+00 8.8324e-01 1.6711e+00 4.4912e+00 6.6975e+00 2.2049e+00\n",
      "  8.9906e+00 3.5069e+00]\n",
      " [1.2203e+01 1.3452e+00 8.7635e+00 8.4485e+00 3.6751e+00 7.9257e+00\n",
      "  3.1232e+00 1.8295e+00 2.4439e+00 1.2206e+00 3.1823e-01 2.4492e+00\n",
      "  4.7760e+00 5.2052e+00 1.3062e+01 1.2788e+01 8.3043e+00 5.1219e+00\n",
      "  9.0433e-01 1.3773e+01]]\n",
      "[13.4017  6.994   2.4491  1.341   7.154   3.0468  3.2287 12.8783  3.5069\n",
      " 13.7732]\n"
     ]
    }
   ],
   "source": [
    "def dist3(P0, P1,p):\n",
    "    # p是点集\n",
    "    b = P1 - P0\n",
    "    b_L = (b**2).sum(axis=1,keepdims=True)\n",
    "    print(b_L.shape)\n",
    "    a = p.reshape((1,p.shape[0],p.shape[1])) - P0.reshape((P0.shape[0],1,P0.shape[1]))\n",
    "    print(a.shape)\n",
    "    dotab = (b.reshape((b.shape[0],1,b.shape[1])) * a).sum(axis=-1) \n",
    "    print(dotab.shape)\n",
    "    c = (dotab/b_L).reshape((dotab.shape[0],dotab.shape[1],1))*b.reshape((b.shape[0],1,b.shape[1]))\n",
    "    e = LA.norm(c - a,ord = 2, axis = -1)\n",
    "    return e\n",
    "\n",
    "P0 = np.random.randn(10,2)*100 + 2.0\n",
    "P1 = np.random.uniform(-10,10,(10,2))\n",
    "p  = np.random.uniform(-10,10,( 20,2))\n",
    "# print(distance(P0, P1, p))\n",
    "print(dist3(P0, P1, p))\n",
    "print(dist2(P0, P1, p[19]))"
   ]
  },
  {
   "cell_type": "markdown",
   "metadata": {},
   "source": [
    "#### 80. Consider an arbitrary array, write a function that extract a subpart with a fixed shape and centered on a given element (pad with a `fill` value when necessary) (★★★) \n",
    "(**hint**: minimum, maximum)"
   ]
  },
  {
   "cell_type": "code",
   "execution_count": null,
   "metadata": {
    "collapsed": true
   },
   "outputs": [],
   "source": []
  },
  {
   "cell_type": "markdown",
   "metadata": {},
   "source": [
    "#### 81. Consider an array Z = \\[1,2,3,4,5,6,7,8,9,10,11,12,13,14\\], how to generate an array R = \\[\\[1,2,3,4\\], \\[2,3,4,5\\], \\[3,4,5,6\\], ..., \\[11,12,13,14\\]\\]? (★★★) \n",
    "(**hint**: stride\\_tricks.as\\_strided)"
   ]
  },
  {
   "cell_type": "code",
   "execution_count": 439,
   "metadata": {},
   "outputs": [
    {
     "name": "stdout",
     "output_type": "stream",
     "text": [
      "(2, 7)\n",
      "(28, 4)\n",
      "8\n",
      "[[ 1.  2.  3.  4.]\n",
      " [ 2.  3.  4.  5.]\n",
      " [ 3.  4.  5.  6.]\n",
      " [ 4.  5.  6.  7.]\n",
      " [ 5.  6.  7.  8.]\n",
      " [ 6.  7.  8.  9.]\n",
      " [ 7.  8.  9. 10.]\n",
      " [ 8.  9. 10. 11.]\n",
      " [ 9. 10. 11. 12.]\n",
      " [10. 11. 12. 13.]\n",
      " [11. 12. 13. 14.]]\n",
      "[[ 1.  2.  3.  4.]\n",
      " [ 2.  3.  4.  5.]\n",
      " [ 3.  4.  5.  6.]\n",
      " [ 4.  5.  6.  7.]\n",
      " [ 5.  6.  7.  8.]\n",
      " [ 6.  7.  8.  9.]\n",
      " [ 7.  8.  9. 10.]\n",
      " [ 8.  9. 10. 11.]\n",
      " [ 9. 10. 11. 12.]\n",
      " [10. 11. 12. 13.]\n",
      " [11. 12. 13. 14.]]\n"
     ]
    }
   ],
   "source": [
    "from numpy.lib.stride_tricks import as_strided\n",
    "\n",
    "# np.info('as_strided')\n",
    "Z = np.array([[1,2,3,4,5,6,7],[8,9,10,11,12,13,14]],)\n",
    "print(Z.shape)\n",
    "print(Z.strides)\n",
    "# R = np.zeros((11,4))\n",
    "# for i in range(11):\n",
    "#     print(as_strided(Z,(4,),(1,)))\n",
    "#     R[i] = \n",
    "\n",
    "# print(R)\n",
    "\n",
    "Z = np.array([1.,2,3,4,5,6,7,8,9,10,11,12,13,14],)\n",
    "# as_strided(array,shape,stride)#\n",
    "# stride步长已字节为单位,所以需要考虑原来的array的数据类型所占的字节数\n",
    "print(Z.itemsize)\n",
    "print(as_strided(Z,(11,4),(Z.itemsize,Z.itemsize)))\n",
    "print(as_strided(Z,(11,4),(8,8)))\n",
    "# R = np.zeros((11,4))\n",
    "# for i in range(11):\n",
    "#     print(as_strided(Z,(4,),(1,)))\n",
    "#     R[i] = \n",
    "\n"
   ]
  },
  {
   "cell_type": "markdown",
   "metadata": {},
   "source": [
    "#### 82. Compute a matrix rank (★★★) \n",
    "(**hint**: np.linalg.svd) (suggestion: np.linalg.svd)"
   ]
  },
  {
   "cell_type": "code",
   "execution_count": 476,
   "metadata": {},
   "outputs": [
    {
     "name": "stdout",
     "output_type": "stream",
     "text": [
      "8\n"
     ]
    }
   ],
   "source": [
    "# np.info('svd')\n",
    "A = np.random.uniform(-10,10,(8,10))\n",
    "# print(A)\n",
    "U, S, V = LA.svd(A)\n",
    "\n",
    "print(np.sum(S>10-11))\n",
    "\n",
    "\n",
    "# # print(U)\n",
    "# # print(V)\n",
    "# # print(S)\n",
    "# # print(np.sum(V[:,0]*V[:,1]))\n",
    "# print(S.shape)\n",
    "# print(U.shape)\n",
    "# print(V[0:3,:].shape)\n",
    "# print(U)\n",
    "# print(S)\n",
    "# print(U[0,:]*S[0])\n",
    "# print(U*S)\n",
    "# print(np.dot(U*S,V[0:3,:]))\n",
    "# print(np.dot(U,V[0:3,:]*S.reshape(3,1)))"
   ]
  },
  {
   "cell_type": "markdown",
   "metadata": {},
   "source": [
    "#### 83. How to find the most frequent value in an array? \n",
    "(**hint**: np.bincount, argmax)"
   ]
  },
  {
   "cell_type": "code",
   "execution_count": 444,
   "metadata": {},
   "outputs": [
    {
     "name": "stdout",
     "output_type": "stream",
     "text": [
      "[5 0 0 6 7 4 5 2 8 1 1 3 2 6 4 6 4 2 7 4]\n",
      "[2 2 3 1 4 2 3 2 1]\n",
      "4\n"
     ]
    }
   ],
   "source": [
    "A = np.random.randint(0,10,20)\n",
    "print(A)\n",
    "\n",
    "A_bincount = np.bincount(A)\n",
    "print(A_bincount)\n",
    "\n",
    "rst = np.argmax(A_bincount)\n",
    "print(rst)"
   ]
  },
  {
   "cell_type": "markdown",
   "metadata": {},
   "source": [
    "#### 84. Extract all the contiguous 3x3 blocks from a random 10x10 matrix (★★★) \n",
    "(**hint**: stride\\_tricks.as\\_strided)"
   ]
  },
  {
   "cell_type": "code",
   "execution_count": 487,
   "metadata": {},
   "outputs": [
    {
     "name": "stdout",
     "output_type": "stream",
     "text": [
      "[[0.1802 0.6261 0.429  0.9804 0.7629 0.8003 0.6714 0.0216 0.1701 0.5789]\n",
      " [0.9398 0.1345 0.106  0.9532 0.0114 0.339  0.2978 0.7395 0.0249 0.4143]\n",
      " [0.9808 0.9313 0.3299 0.7454 0.1786 0.4087 0.5458 0.8059 0.4802 0.8088]\n",
      " [0.898  0.1025 0.9204 0.2754 0.979  0.4603 0.2837 0.7639 0.8662 0.1654]\n",
      " [0.3649 0.0639 0.2099 0.2429 0.8525 0.2745 0.0461 0.2779 0.0317 0.8429]\n",
      " [0.9744 0.0251 0.6993 0.6263 0.6617 0.3129 0.1589 0.0491 0.7224 0.664 ]\n",
      " [0.357  0.9181 0.365  0.307  0.5087 0.9072 0.8464 0.5173 0.499  0.213 ]\n",
      " [0.3929 0.0314 0.2076 0.1798 0.6783 0.6532 0.0283 0.8384 0.3827 0.0966]\n",
      " [0.4903 0.4174 0.4418 0.3258 0.2111 0.057  0.8695 0.8941 0.7122 0.8381]\n",
      " [0.6826 0.9433 0.4525 0.6365 0.7543 0.9075 0.5691 0.5397 0.1783 0.8549]]\n",
      "(4,)\n",
      "0.6260862799331003\n",
      "0.41742997584803665\n"
     ]
    }
   ],
   "source": [
    "A = np.random.random((10,10))\n",
    "print(A)\n",
    "strides = A.itemsize * np.array([10,1,10,1],dtype = np.int)\n",
    "print(strides.shape)\n",
    "B = as_strided(A,(8,8,3,3),strides)\n",
    "\n",
    "print(B[0,0,0,1])\n",
    "print(B[7,1,1,0])"
   ]
  },
  {
   "cell_type": "markdown",
   "metadata": {},
   "source": [
    "#### 85. Create a 2D array subclass such that Z\\[i,j\\] == Z\\[j,i\\] (★★★) \n",
    "(**hint**: class method)"
   ]
  },
  {
   "cell_type": "code",
   "execution_count": 489,
   "metadata": {},
   "outputs": [
    {
     "name": "stdout",
     "output_type": "stream",
     "text": [
      "[[ -99   98   30   25  -32  -66   42   49  -26  -15]\n",
      " [  98  -61 -129  159  -73  -74   19   33   62   -4]\n",
      " [  30 -129   73 -112  -76   32   -1  -41  -73  117]\n",
      " [  25  159 -112   62   -2  -98    8  -47  -90   95]\n",
      " [ -32  -73  -76   -2    6   21  -23   -6   83  -42]\n",
      " [ -66  -74   32  -98   21   46   57  -42  134  185]\n",
      " [  42   19   -1    8  -23   57   55  -29   13   -7]\n",
      " [  49   33  -41  -47   -6  -42  -29   54   24  -52]\n",
      " [ -26   62  -73  -90   83  134   13   24  -78 -135]\n",
      " [ -15   -4  117   95  -42  185   -7  -52 -135  -39]]\n"
     ]
    }
   ],
   "source": [
    "class symetricArray(np.ndarray):\n",
    "    def __setitem__(self, index, value):\n",
    "        i, j = index\n",
    "        super(symetricArray,self).__setitem__((i,j),value)\n",
    "        super(symetricArray,self).__setitem__((j,i),value)\n",
    "    \n",
    "def symetric(Z):\n",
    "    return np.asarray(Z + Z.T - np.diag(Z.diagonal())).view(symetricArray)\n",
    "\n",
    "A = symetric(np.random.randint(-100,100,(10,10)))\n",
    "\n",
    "A[4,8] = 83\n",
    "print(A)"
   ]
  },
  {
   "cell_type": "markdown",
   "metadata": {},
   "source": [
    "#### 86. Consider a set of p matrices wich shape (n,n) and a set of p vectors with shape (n,1). How to compute the sum of of the p matrix products at once? (result has shape (n,1)) (★★★) \n",
    "(**hint**: np.tensordot)"
   ]
  },
  {
   "cell_type": "code",
   "execution_count": null,
   "metadata": {
    "collapsed": true
   },
   "outputs": [],
   "source": []
  },
  {
   "cell_type": "markdown",
   "metadata": {},
   "source": [
    "#### 87. Consider a 16x16 array, how to get the block-sum (block size is 4x4)? (★★★) \n",
    "(**hint**: np.add.reduceat)"
   ]
  },
  {
   "cell_type": "code",
   "execution_count": 7,
   "metadata": {},
   "outputs": [
    {
     "name": "stdout",
     "output_type": "stream",
     "text": [
      "8.2858646878442\n",
      "[[9.41241309 8.17696101 8.75346358 7.27263593]\n",
      " [8.76715304 9.07249022 7.5428717  6.86209725]\n",
      " [7.41947147 8.28586469 9.40082793 9.20802753]\n",
      " [8.77430358 7.44133796 8.09484612 7.22519631]]\n"
     ]
    }
   ],
   "source": [
    "import numpy as np\n",
    "A = np.random.random((16,16))\n",
    "# print(A)\n",
    "B = np.add.reduceat(np.add.reduceat(A,np.arange(0,16,4),axis=0),np.arange(0,16,4),axis=1)\n",
    "\n",
    "print(np.sum(np.sum(A[8:12,4:8],)))\n",
    "print(B)"
   ]
  },
  {
   "cell_type": "markdown",
   "metadata": {},
   "source": [
    "#### 88. How to implement the Game of Life using numpy arrays? (★★★)"
   ]
  },
  {
   "cell_type": "code",
   "execution_count": null,
   "metadata": {
    "collapsed": true
   },
   "outputs": [],
   "source": []
  },
  {
   "cell_type": "markdown",
   "metadata": {},
   "source": [
    "#### 89. How to get the n largest values of an array (★★★) \n",
    "(**hint**: np.argsort | np.argpartition)"
   ]
  },
  {
   "cell_type": "code",
   "execution_count": 88,
   "metadata": {},
   "outputs": [
    {
     "name": "stdout",
     "output_type": "stream",
     "text": [
      "[0.71135515 0.78999917 0.94275164 0.95682962]\n",
      "[0.95682962 0.94275164 0.78999917 0.71135515]\n"
     ]
    }
   ],
   "source": [
    "A = np.random.random(16,) \n",
    "# print(A)\n",
    "max_idx = np.argsort(A,axis = None)\n",
    "max_idx2 = np.argpartition(-A,3,axis = None)\n",
    "print(A.flatten()[max_idx[-4:]])\n",
    "print(A.flatten()[max_idx2[0:4]])"
   ]
  },
  {
   "cell_type": "markdown",
   "metadata": {},
   "source": [
    "#### 90. Given an arbitrary number of vectors, build the cartesian product (every combinations of every item) (★★★) \n",
    "(**hint**: np.indices)"
   ]
  },
  {
   "cell_type": "code",
   "execution_count": 161,
   "metadata": {
    "scrolled": true
   },
   "outputs": [
    {
     "name": "stdout",
     "output_type": "stream",
     "text": [
      "4\n",
      "(3, 2, 2, 3)\n",
      "(36, 4)\n",
      "[[4. 1. 7. 4.]\n",
      " [4. 1. 7. 5.]\n",
      " [4. 1. 7. 6.]\n",
      " [4. 1. 2. 4.]\n",
      " [4. 1. 2. 5.]\n",
      " [4. 1. 2. 6.]\n",
      " [4. 3. 7. 4.]\n",
      " [4. 3. 7. 5.]\n",
      " [4. 3. 7. 6.]\n",
      " [4. 3. 2. 4.]\n",
      " [4. 3. 2. 5.]\n",
      " [4. 3. 2. 6.]\n",
      " [5. 1. 7. 4.]\n",
      " [5. 1. 7. 5.]\n",
      " [5. 1. 7. 6.]\n",
      " [5. 1. 2. 4.]\n",
      " [5. 1. 2. 5.]\n",
      " [5. 1. 2. 6.]\n",
      " [5. 3. 7. 4.]\n",
      " [5. 3. 7. 5.]\n",
      " [5. 3. 7. 6.]\n",
      " [5. 3. 2. 4.]\n",
      " [5. 3. 2. 5.]\n",
      " [5. 3. 2. 6.]\n",
      " [6. 1. 7. 4.]\n",
      " [6. 1. 7. 5.]\n",
      " [6. 1. 7. 6.]\n",
      " [6. 1. 2. 4.]\n",
      " [6. 1. 2. 5.]\n",
      " [6. 1. 2. 6.]\n",
      " [6. 3. 7. 4.]\n",
      " [6. 3. 7. 5.]\n",
      " [6. 3. 7. 6.]\n",
      " [6. 3. 2. 4.]\n",
      " [6. 3. 2. 5.]\n",
      " [6. 3. 2. 6.]]\n"
     ]
    }
   ],
   "source": [
    "# 集合的笛卡尔积\n",
    "# grid = np.indices((4, 3, 2))\n",
    "# print(grid)\n",
    "# m = 16\n",
    "# n = 20\n",
    "A = [[4,5,6],[1,3],[7,2],[4,5,6]]\n",
    "A = [np.asarray(a) for a in A]\n",
    "print(len(A))\n",
    "\n",
    "tmp_size = (len(v) for v in A)\n",
    "tmp_size = tuple(tmp_size)\n",
    "print(tmp_size)\n",
    "idx = np.indices(tmp_size,)\n",
    "idx = np.reshape(idx,(len(A),-1))\n",
    "# print(idx)\n",
    "\n",
    "\n",
    "# idx = idx.reshape(len(A))\n",
    "realValue = np.zeros((idx.shape[1],idx.shape[0]))\n",
    "print(realValue.shape)\n",
    "for i in range(len(A)):\n",
    "#     print(idx[:,i])\n",
    "    #     print(idx[:,i])\n",
    "#     print(A[i][idx[:,i]])\n",
    "    realValue[:,i]= A[i][idx[i,:]] \n",
    "    \n",
    "\n",
    "print(realValue)\n",
    "\n",
    "# for i in range(len(A)):\n",
    "#     realValue[...,i] = A[i][idx[i,...]]\n",
    "    \n",
    "# print(idx)\n",
    "# for i in idx:\n",
    "#     realValue[] = idx[]\n",
    "# A = np.random.random((m,n,))\n",
    "# B = np.einsum('ik,kj->ij',A,A.T)\n",
    "# print(B)\n",
    "# np.info('indices')"
   ]
  },
  {
   "cell_type": "markdown",
   "metadata": {},
   "source": [
    "#### 91. How to create a record array from a regular array? (★★★) \n",
    "(**hint**: np.core.records.fromarrays)"
   ]
  },
  {
   "cell_type": "code",
   "execution_count": null,
   "metadata": {
    "collapsed": true
   },
   "outputs": [],
   "source": []
  },
  {
   "cell_type": "markdown",
   "metadata": {},
   "source": [
    "#### 92. Consider a large vector Z, compute Z to the power of 3 using 3 different methods (★★★) \n",
    "(**hint**: np.power, \\*, np.einsum)"
   ]
  },
  {
   "cell_type": "code",
   "execution_count": null,
   "metadata": {
    "collapsed": true
   },
   "outputs": [],
   "source": []
  },
  {
   "cell_type": "markdown",
   "metadata": {},
   "source": [
    "#### 93. Consider two arrays A and B of shape (8,3) and (2,2). How to find rows of A that contain elements of each row of B regardless of the order of the elements in B? (★★★) \n",
    "(**hint**: np.where)"
   ]
  },
  {
   "cell_type": "code",
   "execution_count": null,
   "metadata": {
    "collapsed": true
   },
   "outputs": [],
   "source": []
  },
  {
   "cell_type": "markdown",
   "metadata": {},
   "source": [
    "#### 94. Considering a 10x3 matrix, extract rows with unequal values (e.g. \\[2,2,3\\]) (★★★)"
   ]
  },
  {
   "cell_type": "code",
   "execution_count": null,
   "metadata": {
    "collapsed": true
   },
   "outputs": [],
   "source": []
  },
  {
   "cell_type": "markdown",
   "metadata": {},
   "source": [
    "#### 95. Convert a vector of ints into a matrix binary representation (★★★) \n",
    "(**hint**: np.unpackbits)"
   ]
  },
  {
   "cell_type": "code",
   "execution_count": null,
   "metadata": {
    "collapsed": true
   },
   "outputs": [],
   "source": []
  },
  {
   "cell_type": "markdown",
   "metadata": {},
   "source": [
    "#### 96. Given a two dimensional array, how to extract unique rows? (★★★) \n",
    "(**hint**: np.ascontiguousarray | np.unique)"
   ]
  },
  {
   "cell_type": "code",
   "execution_count": null,
   "metadata": {
    "collapsed": true
   },
   "outputs": [],
   "source": []
  },
  {
   "cell_type": "markdown",
   "metadata": {},
   "source": [
    "#### 97. Considering 2 vectors A & B, write the einsum equivalent of inner, outer, sum, and mul function (★★★) \n",
    "(**hint**: np.einsum)"
   ]
  },
  {
   "cell_type": "code",
   "execution_count": null,
   "metadata": {
    "collapsed": true
   },
   "outputs": [],
   "source": []
  },
  {
   "cell_type": "markdown",
   "metadata": {},
   "source": [
    "#### 98. Considering a path described by two vectors (X,Y), how to sample it using equidistant samples (★★★)? \n",
    "(**hint**: np.cumsum, np.interp)"
   ]
  },
  {
   "cell_type": "code",
   "execution_count": null,
   "metadata": {
    "collapsed": true
   },
   "outputs": [],
   "source": []
  },
  {
   "cell_type": "markdown",
   "metadata": {},
   "source": [
    "#### 99. Given an integer n and a 2D array X, select from X the rows which can be interpreted as draws from a multinomial distribution with n degrees, i.e., the rows which only contain integers and which sum to n. (★★★) \n",
    "(**hint**: np.logical\\_and.reduce, np.mod)"
   ]
  },
  {
   "cell_type": "code",
   "execution_count": null,
   "metadata": {
    "collapsed": true
   },
   "outputs": [],
   "source": []
  },
  {
   "cell_type": "markdown",
   "metadata": {},
   "source": [
    "#### 100. Compute bootstrapped 95% confidence intervals for the mean of a 1D array X (i.e., resample the elements of an array with replacement N times, compute the mean of each sample, and then compute percentiles over the means). (★★★) \n",
    "(**hint**: np.percentile)"
   ]
  },
  {
   "cell_type": "code",
   "execution_count": null,
   "metadata": {
    "collapsed": true
   },
   "outputs": [],
   "source": []
  }
 ],
 "metadata": {
  "kernelspec": {
   "display_name": "Python 3",
   "language": "python",
   "name": "python3"
  },
  "language_info": {
   "codemirror_mode": {
    "name": "ipython",
    "version": 3
   },
   "file_extension": ".py",
   "mimetype": "text/x-python",
   "name": "python",
   "nbconvert_exporter": "python",
   "pygments_lexer": "ipython3",
   "version": "3.6.5"
  }
 },
 "nbformat": 4,
 "nbformat_minor": 1
}
